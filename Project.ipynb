{
 "cells": [
  {
   "cell_type": "markdown",
   "metadata": {},
   "source": [
    "# DataSet Information:\n",
    "\n",
    "Data is from the website :\n",
    "\n",
    "https://archive.ics.uci.edu/ml/datasets/Census+Income"
   ]
  },
  {
   "cell_type": "markdown",
   "metadata": {},
   "source": [
    "# Objective:\n",
    "\n",
    "Predict whether a person earns over 50K a year"
   ]
  },
  {
   "cell_type": "markdown",
   "metadata": {},
   "source": [
    "# Target\n",
    "\n",
    "**Income**: >50K, <=50K. \n",
    "\n",
    "# Features\n",
    "\n",
    "**age**: continuous. \n",
    "\n",
    "**workclass**: Private, Self-emp-not-inc, Self-emp-inc, Federal-gov, Local-gov, State-gov, Without-pay, Never-worked. \n",
    "fnlwgt: continuous. \n",
    "\n",
    "**education**: Bachelors, Some-college, 11th, HS-grad, Prof-school, Assoc-acdm, Assoc-voc, 9th, 7th-8th, 12th, Masters, 1st-4th, 10th, Doctorate, 5th-6th, Preschool. \n",
    "\n",
    "**education-num**: continuous. \n",
    "\n",
    "**marital-status**: Married-civ-spouse, Divorced, Never-married, Separated, Widowed, Married-spouse-absent, Married-AF-spouse. \n",
    "occupation: Tech-support, Craft-repair, Other-service, Sales, Exec-managerial, Prof-specialty, Handlers-cleaners, Machine-op-inspct, Adm-clerical, Farming-fishing, Transport-moving, Priv-house-serv, Protective-serv, Armed-Forces. \n",
    "\n",
    "**relationship**: Wife, Own-child, Husband, Not-in-family, Other-relative, Unmarried. \n",
    "\n",
    "**race**: White, Asian-Pac-Islander, Amer-Indian-Eskimo, Other, Black. \n",
    "\n",
    "**sex**: Female, Male. \n",
    "\n",
    "**capital-gain**: continuous. \n",
    "\n",
    "**capital-loss**: continuous. \n",
    "\n",
    "**hours-per-week**: continuous.\n",
    "\n",
    "**native-country**: United-States, Cambodia, England, Puerto-Rico, Canada, Germany, Outlying-US(Guam-USVI-etc), India, Japan, Greece, South, China, Cuba, Iran, Honduras, Philippines, Italy, Poland, Jamaica, Vietnam, Mexico, Portugal, Ireland, France, Dominican-Republic, Laos, Ecuador, Taiwan, Haiti, Columbia, Hungary, Guatemala, Nicaragua, Scotland, Thailand, Yugoslavia, El-Salvador, Trinadad&Tobago, Peru, Hong, Holand-Netherlands."
   ]
  },
  {
   "cell_type": "code",
   "execution_count": 1,
   "metadata": {},
   "outputs": [],
   "source": [
    "import numpy as np\n",
    "import pandas as pd"
   ]
  },
  {
   "cell_type": "code",
   "execution_count": 5,
   "metadata": {},
   "outputs": [
    {
     "name": "stderr",
     "output_type": "stream",
     "text": [
      "C:\\Users\\piotr\\Anaconda3\\lib\\site-packages\\ipykernel_launcher.py:1: ParserWarning: Falling back to the 'python' engine because the 'c' engine does not support regex separators (separators > 1 char and different from '\\s+' are interpreted as regex); you can avoid this warning by specifying engine='python'.\n",
      "  \"\"\"Entry point for launching an IPython kernel.\n"
     ]
    }
   ],
   "source": [
    "data = pd.read_csv('../Projekt/Census_Income_DataSet_Total.csv', delimiter=', ')"
   ]
  },
  {
   "cell_type": "code",
   "execution_count": 6,
   "metadata": {},
   "outputs": [
    {
     "data": {
      "text/plain": [
       "(48842, 15)"
      ]
     },
     "execution_count": 6,
     "metadata": {},
     "output_type": "execute_result"
    }
   ],
   "source": [
    "data.shape"
   ]
  },
  {
   "cell_type": "code",
   "execution_count": 7,
   "metadata": {},
   "outputs": [
    {
     "data": {
      "text/html": [
       "<div>\n",
       "<style scoped>\n",
       "    .dataframe tbody tr th:only-of-type {\n",
       "        vertical-align: middle;\n",
       "    }\n",
       "\n",
       "    .dataframe tbody tr th {\n",
       "        vertical-align: top;\n",
       "    }\n",
       "\n",
       "    .dataframe thead th {\n",
       "        text-align: right;\n",
       "    }\n",
       "</style>\n",
       "<table border=\"1\" class=\"dataframe\">\n",
       "  <thead>\n",
       "    <tr style=\"text-align: right;\">\n",
       "      <th></th>\n",
       "      <th>age</th>\n",
       "      <th>workclass</th>\n",
       "      <th>fnlwgt</th>\n",
       "      <th>education</th>\n",
       "      <th>education-num</th>\n",
       "      <th>marital-status</th>\n",
       "      <th>occupation</th>\n",
       "      <th>relationship</th>\n",
       "      <th>race</th>\n",
       "      <th>sex</th>\n",
       "      <th>capital-gain</th>\n",
       "      <th>capital-loss</th>\n",
       "      <th>hours-per-week</th>\n",
       "      <th>native-country</th>\n",
       "      <th>Income</th>\n",
       "    </tr>\n",
       "  </thead>\n",
       "  <tbody>\n",
       "    <tr>\n",
       "      <th>0</th>\n",
       "      <td>39</td>\n",
       "      <td>State-gov</td>\n",
       "      <td>77516</td>\n",
       "      <td>Bachelors</td>\n",
       "      <td>13</td>\n",
       "      <td>Never-married</td>\n",
       "      <td>Adm-clerical</td>\n",
       "      <td>Not-in-family</td>\n",
       "      <td>White</td>\n",
       "      <td>Male</td>\n",
       "      <td>2174</td>\n",
       "      <td>0</td>\n",
       "      <td>40</td>\n",
       "      <td>United-States</td>\n",
       "      <td>&lt;=50K</td>\n",
       "    </tr>\n",
       "    <tr>\n",
       "      <th>1</th>\n",
       "      <td>50</td>\n",
       "      <td>Self-emp-not-inc</td>\n",
       "      <td>83311</td>\n",
       "      <td>Bachelors</td>\n",
       "      <td>13</td>\n",
       "      <td>Married-civ-spouse</td>\n",
       "      <td>Exec-managerial</td>\n",
       "      <td>Husband</td>\n",
       "      <td>White</td>\n",
       "      <td>Male</td>\n",
       "      <td>0</td>\n",
       "      <td>0</td>\n",
       "      <td>13</td>\n",
       "      <td>United-States</td>\n",
       "      <td>&lt;=50K</td>\n",
       "    </tr>\n",
       "    <tr>\n",
       "      <th>2</th>\n",
       "      <td>38</td>\n",
       "      <td>Private</td>\n",
       "      <td>215646</td>\n",
       "      <td>HS-grad</td>\n",
       "      <td>9</td>\n",
       "      <td>Divorced</td>\n",
       "      <td>Handlers-cleaners</td>\n",
       "      <td>Not-in-family</td>\n",
       "      <td>White</td>\n",
       "      <td>Male</td>\n",
       "      <td>0</td>\n",
       "      <td>0</td>\n",
       "      <td>40</td>\n",
       "      <td>United-States</td>\n",
       "      <td>&lt;=50K</td>\n",
       "    </tr>\n",
       "    <tr>\n",
       "      <th>3</th>\n",
       "      <td>53</td>\n",
       "      <td>Private</td>\n",
       "      <td>234721</td>\n",
       "      <td>11th</td>\n",
       "      <td>7</td>\n",
       "      <td>Married-civ-spouse</td>\n",
       "      <td>Handlers-cleaners</td>\n",
       "      <td>Husband</td>\n",
       "      <td>Black</td>\n",
       "      <td>Male</td>\n",
       "      <td>0</td>\n",
       "      <td>0</td>\n",
       "      <td>40</td>\n",
       "      <td>United-States</td>\n",
       "      <td>&lt;=50K</td>\n",
       "    </tr>\n",
       "    <tr>\n",
       "      <th>4</th>\n",
       "      <td>28</td>\n",
       "      <td>Private</td>\n",
       "      <td>338409</td>\n",
       "      <td>Bachelors</td>\n",
       "      <td>13</td>\n",
       "      <td>Married-civ-spouse</td>\n",
       "      <td>Prof-specialty</td>\n",
       "      <td>Wife</td>\n",
       "      <td>Black</td>\n",
       "      <td>Female</td>\n",
       "      <td>0</td>\n",
       "      <td>0</td>\n",
       "      <td>40</td>\n",
       "      <td>Cuba</td>\n",
       "      <td>&lt;=50K</td>\n",
       "    </tr>\n",
       "    <tr>\n",
       "      <th>5</th>\n",
       "      <td>37</td>\n",
       "      <td>Private</td>\n",
       "      <td>284582</td>\n",
       "      <td>Masters</td>\n",
       "      <td>14</td>\n",
       "      <td>Married-civ-spouse</td>\n",
       "      <td>Exec-managerial</td>\n",
       "      <td>Wife</td>\n",
       "      <td>White</td>\n",
       "      <td>Female</td>\n",
       "      <td>0</td>\n",
       "      <td>0</td>\n",
       "      <td>40</td>\n",
       "      <td>United-States</td>\n",
       "      <td>&lt;=50K</td>\n",
       "    </tr>\n",
       "    <tr>\n",
       "      <th>6</th>\n",
       "      <td>49</td>\n",
       "      <td>Private</td>\n",
       "      <td>160187</td>\n",
       "      <td>9th</td>\n",
       "      <td>5</td>\n",
       "      <td>Married-spouse-absent</td>\n",
       "      <td>Other-service</td>\n",
       "      <td>Not-in-family</td>\n",
       "      <td>Black</td>\n",
       "      <td>Female</td>\n",
       "      <td>0</td>\n",
       "      <td>0</td>\n",
       "      <td>16</td>\n",
       "      <td>Jamaica</td>\n",
       "      <td>&lt;=50K</td>\n",
       "    </tr>\n",
       "    <tr>\n",
       "      <th>7</th>\n",
       "      <td>52</td>\n",
       "      <td>Self-emp-not-inc</td>\n",
       "      <td>209642</td>\n",
       "      <td>HS-grad</td>\n",
       "      <td>9</td>\n",
       "      <td>Married-civ-spouse</td>\n",
       "      <td>Exec-managerial</td>\n",
       "      <td>Husband</td>\n",
       "      <td>White</td>\n",
       "      <td>Male</td>\n",
       "      <td>0</td>\n",
       "      <td>0</td>\n",
       "      <td>45</td>\n",
       "      <td>United-States</td>\n",
       "      <td>&gt;50K</td>\n",
       "    </tr>\n",
       "    <tr>\n",
       "      <th>8</th>\n",
       "      <td>31</td>\n",
       "      <td>Private</td>\n",
       "      <td>45781</td>\n",
       "      <td>Masters</td>\n",
       "      <td>14</td>\n",
       "      <td>Never-married</td>\n",
       "      <td>Prof-specialty</td>\n",
       "      <td>Not-in-family</td>\n",
       "      <td>White</td>\n",
       "      <td>Female</td>\n",
       "      <td>14084</td>\n",
       "      <td>0</td>\n",
       "      <td>50</td>\n",
       "      <td>United-States</td>\n",
       "      <td>&gt;50K</td>\n",
       "    </tr>\n",
       "    <tr>\n",
       "      <th>9</th>\n",
       "      <td>42</td>\n",
       "      <td>Private</td>\n",
       "      <td>159449</td>\n",
       "      <td>Bachelors</td>\n",
       "      <td>13</td>\n",
       "      <td>Married-civ-spouse</td>\n",
       "      <td>Exec-managerial</td>\n",
       "      <td>Husband</td>\n",
       "      <td>White</td>\n",
       "      <td>Male</td>\n",
       "      <td>5178</td>\n",
       "      <td>0</td>\n",
       "      <td>40</td>\n",
       "      <td>United-States</td>\n",
       "      <td>&gt;50K</td>\n",
       "    </tr>\n",
       "  </tbody>\n",
       "</table>\n",
       "</div>"
      ],
      "text/plain": [
       "   age         workclass  fnlwgt  education  education-num  \\\n",
       "0   39         State-gov   77516  Bachelors             13   \n",
       "1   50  Self-emp-not-inc   83311  Bachelors             13   \n",
       "2   38           Private  215646    HS-grad              9   \n",
       "3   53           Private  234721       11th              7   \n",
       "4   28           Private  338409  Bachelors             13   \n",
       "5   37           Private  284582    Masters             14   \n",
       "6   49           Private  160187        9th              5   \n",
       "7   52  Self-emp-not-inc  209642    HS-grad              9   \n",
       "8   31           Private   45781    Masters             14   \n",
       "9   42           Private  159449  Bachelors             13   \n",
       "\n",
       "          marital-status         occupation   relationship   race     sex  \\\n",
       "0          Never-married       Adm-clerical  Not-in-family  White    Male   \n",
       "1     Married-civ-spouse    Exec-managerial        Husband  White    Male   \n",
       "2               Divorced  Handlers-cleaners  Not-in-family  White    Male   \n",
       "3     Married-civ-spouse  Handlers-cleaners        Husband  Black    Male   \n",
       "4     Married-civ-spouse     Prof-specialty           Wife  Black  Female   \n",
       "5     Married-civ-spouse    Exec-managerial           Wife  White  Female   \n",
       "6  Married-spouse-absent      Other-service  Not-in-family  Black  Female   \n",
       "7     Married-civ-spouse    Exec-managerial        Husband  White    Male   \n",
       "8          Never-married     Prof-specialty  Not-in-family  White  Female   \n",
       "9     Married-civ-spouse    Exec-managerial        Husband  White    Male   \n",
       "\n",
       "   capital-gain  capital-loss  hours-per-week native-country Income  \n",
       "0          2174             0              40  United-States  <=50K  \n",
       "1             0             0              13  United-States  <=50K  \n",
       "2             0             0              40  United-States  <=50K  \n",
       "3             0             0              40  United-States  <=50K  \n",
       "4             0             0              40           Cuba  <=50K  \n",
       "5             0             0              40  United-States  <=50K  \n",
       "6             0             0              16        Jamaica  <=50K  \n",
       "7             0             0              45  United-States   >50K  \n",
       "8         14084             0              50  United-States   >50K  \n",
       "9          5178             0              40  United-States   >50K  "
      ]
     },
     "execution_count": 7,
     "metadata": {},
     "output_type": "execute_result"
    }
   ],
   "source": [
    "data.head(10)"
   ]
  },
  {
   "cell_type": "markdown",
   "metadata": {},
   "source": [
    "** Preprocessing data **"
   ]
  },
  {
   "cell_type": "code",
   "execution_count": 8,
   "metadata": {},
   "outputs": [],
   "source": [
    "data.rename(columns = {'ď»żage': 'age',\n",
    "                       'marital-status': 'marital_status', \n",
    "                       'capital-gain': 'capital_gain',\n",
    "                       'capital-loss': 'capital_loss',\n",
    "                       'hours-per-week': 'hours_per_week',\n",
    "                       'native-country' : 'native_country'}\n",
    "                        ,inplace = True) # rename column\n",
    "\n",
    "data = data.drop(columns='education', axis = 1 ) # delete the education column, becuase the education-num column includes the same information\n",
    "data = data.drop(columns = 'fnlwgt', axis = 1)  # delete this column\n",
    "\n",
    "data.Income = data.Income.map({'<=50K':0, '<=50K.':0 ,'>50K':1, '>50K.':1}) #change Income column on dtypes int64"
   ]
  },
  {
   "cell_type": "code",
   "execution_count": 9,
   "metadata": {},
   "outputs": [
    {
     "data": {
      "text/html": [
       "<div>\n",
       "<style scoped>\n",
       "    .dataframe tbody tr th:only-of-type {\n",
       "        vertical-align: middle;\n",
       "    }\n",
       "\n",
       "    .dataframe tbody tr th {\n",
       "        vertical-align: top;\n",
       "    }\n",
       "\n",
       "    .dataframe thead th {\n",
       "        text-align: right;\n",
       "    }\n",
       "</style>\n",
       "<table border=\"1\" class=\"dataframe\">\n",
       "  <thead>\n",
       "    <tr style=\"text-align: right;\">\n",
       "      <th>Income</th>\n",
       "      <th>0</th>\n",
       "      <th>1</th>\n",
       "    </tr>\n",
       "    <tr>\n",
       "      <th>workclass</th>\n",
       "      <th></th>\n",
       "      <th></th>\n",
       "    </tr>\n",
       "  </thead>\n",
       "  <tbody>\n",
       "    <tr>\n",
       "      <th>?</th>\n",
       "      <td>2534</td>\n",
       "      <td>265</td>\n",
       "    </tr>\n",
       "    <tr>\n",
       "      <th>Federal-gov</th>\n",
       "      <td>871</td>\n",
       "      <td>561</td>\n",
       "    </tr>\n",
       "    <tr>\n",
       "      <th>Local-gov</th>\n",
       "      <td>2209</td>\n",
       "      <td>927</td>\n",
       "    </tr>\n",
       "    <tr>\n",
       "      <th>Never-worked</th>\n",
       "      <td>10</td>\n",
       "      <td>0</td>\n",
       "    </tr>\n",
       "    <tr>\n",
       "      <th>Private</th>\n",
       "      <td>26519</td>\n",
       "      <td>7387</td>\n",
       "    </tr>\n",
       "    <tr>\n",
       "      <th>Self-emp-inc</th>\n",
       "      <td>757</td>\n",
       "      <td>938</td>\n",
       "    </tr>\n",
       "    <tr>\n",
       "      <th>Self-emp-not-inc</th>\n",
       "      <td>2785</td>\n",
       "      <td>1077</td>\n",
       "    </tr>\n",
       "    <tr>\n",
       "      <th>State-gov</th>\n",
       "      <td>1451</td>\n",
       "      <td>530</td>\n",
       "    </tr>\n",
       "    <tr>\n",
       "      <th>Without-pay</th>\n",
       "      <td>19</td>\n",
       "      <td>2</td>\n",
       "    </tr>\n",
       "  </tbody>\n",
       "</table>\n",
       "</div>"
      ],
      "text/plain": [
       "Income                0     1\n",
       "workclass                    \n",
       "?                  2534   265\n",
       "Federal-gov         871   561\n",
       "Local-gov          2209   927\n",
       "Never-worked         10     0\n",
       "Private           26519  7387\n",
       "Self-emp-inc        757   938\n",
       "Self-emp-not-inc   2785  1077\n",
       "State-gov          1451   530\n",
       "Without-pay          19     2"
      ]
     },
     "execution_count": 9,
     "metadata": {},
     "output_type": "execute_result"
    }
   ],
   "source": [
    "pd.crosstab(data['workclass'], data['Income'])"
   ]
  },
  {
   "cell_type": "code",
   "execution_count": 10,
   "metadata": {},
   "outputs": [],
   "source": [
    "data['workclass'].replace(['Self-emp-not-inc', 'Self-emp-inc'], \n",
    "                          'Self_employed', inplace = True)\n",
    "\n",
    "data['workclass'].replace(['Local-gov', 'Federal-gov', 'State-gov'], \n",
    "                          'Government', inplace = True)\n",
    "\n",
    "data['workclass'].replace(['Never-worked', 'Without-pay'], \n",
    "                          'Unemployed', inplace = True) \n",
    "\n",
    "data['workclass'].replace('?', 'Other', inplace = True)"
   ]
  },
  {
   "cell_type": "code",
   "execution_count": 11,
   "metadata": {},
   "outputs": [
    {
     "data": {
      "text/html": [
       "<div>\n",
       "<style scoped>\n",
       "    .dataframe tbody tr th:only-of-type {\n",
       "        vertical-align: middle;\n",
       "    }\n",
       "\n",
       "    .dataframe tbody tr th {\n",
       "        vertical-align: top;\n",
       "    }\n",
       "\n",
       "    .dataframe thead th {\n",
       "        text-align: right;\n",
       "    }\n",
       "</style>\n",
       "<table border=\"1\" class=\"dataframe\">\n",
       "  <thead>\n",
       "    <tr style=\"text-align: right;\">\n",
       "      <th>Income</th>\n",
       "      <th>0</th>\n",
       "      <th>1</th>\n",
       "    </tr>\n",
       "    <tr>\n",
       "      <th>workclass</th>\n",
       "      <th></th>\n",
       "      <th></th>\n",
       "    </tr>\n",
       "  </thead>\n",
       "  <tbody>\n",
       "    <tr>\n",
       "      <th>Government</th>\n",
       "      <td>4531</td>\n",
       "      <td>2018</td>\n",
       "    </tr>\n",
       "    <tr>\n",
       "      <th>Other</th>\n",
       "      <td>2534</td>\n",
       "      <td>265</td>\n",
       "    </tr>\n",
       "    <tr>\n",
       "      <th>Private</th>\n",
       "      <td>26519</td>\n",
       "      <td>7387</td>\n",
       "    </tr>\n",
       "    <tr>\n",
       "      <th>Self_employed</th>\n",
       "      <td>3542</td>\n",
       "      <td>2015</td>\n",
       "    </tr>\n",
       "    <tr>\n",
       "      <th>Unemployed</th>\n",
       "      <td>29</td>\n",
       "      <td>2</td>\n",
       "    </tr>\n",
       "  </tbody>\n",
       "</table>\n",
       "</div>"
      ],
      "text/plain": [
       "Income             0     1\n",
       "workclass                 \n",
       "Government      4531  2018\n",
       "Other           2534   265\n",
       "Private        26519  7387\n",
       "Self_employed   3542  2015\n",
       "Unemployed        29     2"
      ]
     },
     "execution_count": 11,
     "metadata": {},
     "output_type": "execute_result"
    }
   ],
   "source": [
    "pd.crosstab(data['workclass'], data['Income'])"
   ]
  },
  {
   "cell_type": "code",
   "execution_count": 12,
   "metadata": {},
   "outputs": [
    {
     "data": {
      "text/html": [
       "<div>\n",
       "<style scoped>\n",
       "    .dataframe tbody tr th:only-of-type {\n",
       "        vertical-align: middle;\n",
       "    }\n",
       "\n",
       "    .dataframe tbody tr th {\n",
       "        vertical-align: top;\n",
       "    }\n",
       "\n",
       "    .dataframe thead th {\n",
       "        text-align: right;\n",
       "    }\n",
       "</style>\n",
       "<table border=\"1\" class=\"dataframe\">\n",
       "  <thead>\n",
       "    <tr style=\"text-align: right;\">\n",
       "      <th>Income</th>\n",
       "      <th>0</th>\n",
       "      <th>1</th>\n",
       "    </tr>\n",
       "    <tr>\n",
       "      <th>marital_status</th>\n",
       "      <th></th>\n",
       "      <th></th>\n",
       "    </tr>\n",
       "  </thead>\n",
       "  <tbody>\n",
       "    <tr>\n",
       "      <th>Divorced</th>\n",
       "      <td>5962</td>\n",
       "      <td>671</td>\n",
       "    </tr>\n",
       "    <tr>\n",
       "      <th>Married-AF-spouse</th>\n",
       "      <td>23</td>\n",
       "      <td>14</td>\n",
       "    </tr>\n",
       "    <tr>\n",
       "      <th>Married-civ-spouse</th>\n",
       "      <td>12395</td>\n",
       "      <td>9984</td>\n",
       "    </tr>\n",
       "    <tr>\n",
       "      <th>Married-spouse-absent</th>\n",
       "      <td>570</td>\n",
       "      <td>58</td>\n",
       "    </tr>\n",
       "    <tr>\n",
       "      <th>Never-married</th>\n",
       "      <td>15384</td>\n",
       "      <td>733</td>\n",
       "    </tr>\n",
       "    <tr>\n",
       "      <th>Separated</th>\n",
       "      <td>1431</td>\n",
       "      <td>99</td>\n",
       "    </tr>\n",
       "    <tr>\n",
       "      <th>Widowed</th>\n",
       "      <td>1390</td>\n",
       "      <td>128</td>\n",
       "    </tr>\n",
       "  </tbody>\n",
       "</table>\n",
       "</div>"
      ],
      "text/plain": [
       "Income                     0     1\n",
       "marital_status                    \n",
       "Divorced                5962   671\n",
       "Married-AF-spouse         23    14\n",
       "Married-civ-spouse     12395  9984\n",
       "Married-spouse-absent    570    58\n",
       "Never-married          15384   733\n",
       "Separated               1431    99\n",
       "Widowed                 1390   128"
      ]
     },
     "execution_count": 12,
     "metadata": {},
     "output_type": "execute_result"
    }
   ],
   "source": [
    "pd.crosstab(data['marital_status'], data['Income'])"
   ]
  },
  {
   "cell_type": "code",
   "execution_count": 13,
   "metadata": {},
   "outputs": [],
   "source": [
    "data['marital_status'].replace(['Married-civ-spouse', 'Married-AF-spouse'], \n",
    "                               'Married', inplace = True)\n",
    "\n",
    "data['marital_status'].replace(['Divorced', 'Separated', 'Widowed', 'Married-spouse-absent'], \n",
    "                               'Not-Married', inplace = True)"
   ]
  },
  {
   "cell_type": "code",
   "execution_count": 14,
   "metadata": {},
   "outputs": [
    {
     "data": {
      "text/html": [
       "<div>\n",
       "<style scoped>\n",
       "    .dataframe tbody tr th:only-of-type {\n",
       "        vertical-align: middle;\n",
       "    }\n",
       "\n",
       "    .dataframe tbody tr th {\n",
       "        vertical-align: top;\n",
       "    }\n",
       "\n",
       "    .dataframe thead th {\n",
       "        text-align: right;\n",
       "    }\n",
       "</style>\n",
       "<table border=\"1\" class=\"dataframe\">\n",
       "  <thead>\n",
       "    <tr style=\"text-align: right;\">\n",
       "      <th>Income</th>\n",
       "      <th>0</th>\n",
       "      <th>1</th>\n",
       "    </tr>\n",
       "    <tr>\n",
       "      <th>marital_status</th>\n",
       "      <th></th>\n",
       "      <th></th>\n",
       "    </tr>\n",
       "  </thead>\n",
       "  <tbody>\n",
       "    <tr>\n",
       "      <th>Married</th>\n",
       "      <td>12418</td>\n",
       "      <td>9998</td>\n",
       "    </tr>\n",
       "    <tr>\n",
       "      <th>Never-married</th>\n",
       "      <td>15384</td>\n",
       "      <td>733</td>\n",
       "    </tr>\n",
       "    <tr>\n",
       "      <th>Not-Married</th>\n",
       "      <td>9353</td>\n",
       "      <td>956</td>\n",
       "    </tr>\n",
       "  </tbody>\n",
       "</table>\n",
       "</div>"
      ],
      "text/plain": [
       "Income              0     1\n",
       "marital_status             \n",
       "Married         12418  9998\n",
       "Never-married   15384   733\n",
       "Not-Married      9353   956"
      ]
     },
     "execution_count": 14,
     "metadata": {},
     "output_type": "execute_result"
    }
   ],
   "source": [
    "pd.crosstab(data['marital_status'], data['Income'])"
   ]
  },
  {
   "cell_type": "code",
   "execution_count": 15,
   "metadata": {},
   "outputs": [
    {
     "data": {
      "text/html": [
       "<div>\n",
       "<style scoped>\n",
       "    .dataframe tbody tr th:only-of-type {\n",
       "        vertical-align: middle;\n",
       "    }\n",
       "\n",
       "    .dataframe tbody tr th {\n",
       "        vertical-align: top;\n",
       "    }\n",
       "\n",
       "    .dataframe thead th {\n",
       "        text-align: right;\n",
       "    }\n",
       "</style>\n",
       "<table border=\"1\" class=\"dataframe\">\n",
       "  <thead>\n",
       "    <tr style=\"text-align: right;\">\n",
       "      <th>Income</th>\n",
       "      <th>0</th>\n",
       "      <th>1</th>\n",
       "    </tr>\n",
       "    <tr>\n",
       "      <th>occupation</th>\n",
       "      <th></th>\n",
       "      <th></th>\n",
       "    </tr>\n",
       "  </thead>\n",
       "  <tbody>\n",
       "    <tr>\n",
       "      <th>?</th>\n",
       "      <td>2544</td>\n",
       "      <td>265</td>\n",
       "    </tr>\n",
       "    <tr>\n",
       "      <th>Adm-clerical</th>\n",
       "      <td>4843</td>\n",
       "      <td>768</td>\n",
       "    </tr>\n",
       "    <tr>\n",
       "      <th>Armed-Forces</th>\n",
       "      <td>10</td>\n",
       "      <td>5</td>\n",
       "    </tr>\n",
       "    <tr>\n",
       "      <th>Craft-repair</th>\n",
       "      <td>4729</td>\n",
       "      <td>1383</td>\n",
       "    </tr>\n",
       "    <tr>\n",
       "      <th>Exec-managerial</th>\n",
       "      <td>3178</td>\n",
       "      <td>2908</td>\n",
       "    </tr>\n",
       "    <tr>\n",
       "      <th>Farming-fishing</th>\n",
       "      <td>1317</td>\n",
       "      <td>173</td>\n",
       "    </tr>\n",
       "    <tr>\n",
       "      <th>Handlers-cleaners</th>\n",
       "      <td>1934</td>\n",
       "      <td>138</td>\n",
       "    </tr>\n",
       "    <tr>\n",
       "      <th>Machine-op-inspct</th>\n",
       "      <td>2650</td>\n",
       "      <td>372</td>\n",
       "    </tr>\n",
       "    <tr>\n",
       "      <th>Other-service</th>\n",
       "      <td>4719</td>\n",
       "      <td>204</td>\n",
       "    </tr>\n",
       "    <tr>\n",
       "      <th>Priv-house-serv</th>\n",
       "      <td>239</td>\n",
       "      <td>3</td>\n",
       "    </tr>\n",
       "    <tr>\n",
       "      <th>Prof-specialty</th>\n",
       "      <td>3388</td>\n",
       "      <td>2784</td>\n",
       "    </tr>\n",
       "    <tr>\n",
       "      <th>Protective-serv</th>\n",
       "      <td>675</td>\n",
       "      <td>308</td>\n",
       "    </tr>\n",
       "    <tr>\n",
       "      <th>Sales</th>\n",
       "      <td>4029</td>\n",
       "      <td>1475</td>\n",
       "    </tr>\n",
       "    <tr>\n",
       "      <th>Tech-support</th>\n",
       "      <td>1026</td>\n",
       "      <td>420</td>\n",
       "    </tr>\n",
       "    <tr>\n",
       "      <th>Transport-moving</th>\n",
       "      <td>1874</td>\n",
       "      <td>481</td>\n",
       "    </tr>\n",
       "  </tbody>\n",
       "</table>\n",
       "</div>"
      ],
      "text/plain": [
       "Income                0     1\n",
       "occupation                   \n",
       "?                  2544   265\n",
       "Adm-clerical       4843   768\n",
       "Armed-Forces         10     5\n",
       "Craft-repair       4729  1383\n",
       "Exec-managerial    3178  2908\n",
       "Farming-fishing    1317   173\n",
       "Handlers-cleaners  1934   138\n",
       "Machine-op-inspct  2650   372\n",
       "Other-service      4719   204\n",
       "Priv-house-serv     239     3\n",
       "Prof-specialty     3388  2784\n",
       "Protective-serv     675   308\n",
       "Sales              4029  1475\n",
       "Tech-support       1026   420\n",
       "Transport-moving   1874   481"
      ]
     },
     "execution_count": 15,
     "metadata": {},
     "output_type": "execute_result"
    }
   ],
   "source": [
    "pd.crosstab(data['occupation'], data['Income'])"
   ]
  },
  {
   "cell_type": "code",
   "execution_count": 16,
   "metadata": {},
   "outputs": [],
   "source": [
    "data['occupation'].replace('?', 'Other-service', inplace = True)"
   ]
  },
  {
   "cell_type": "code",
   "execution_count": 17,
   "metadata": {},
   "outputs": [
    {
     "data": {
      "text/html": [
       "<div>\n",
       "<style scoped>\n",
       "    .dataframe tbody tr th:only-of-type {\n",
       "        vertical-align: middle;\n",
       "    }\n",
       "\n",
       "    .dataframe tbody tr th {\n",
       "        vertical-align: top;\n",
       "    }\n",
       "\n",
       "    .dataframe thead th {\n",
       "        text-align: right;\n",
       "    }\n",
       "</style>\n",
       "<table border=\"1\" class=\"dataframe\">\n",
       "  <thead>\n",
       "    <tr style=\"text-align: right;\">\n",
       "      <th>Income</th>\n",
       "      <th>0</th>\n",
       "      <th>1</th>\n",
       "    </tr>\n",
       "    <tr>\n",
       "      <th>occupation</th>\n",
       "      <th></th>\n",
       "      <th></th>\n",
       "    </tr>\n",
       "  </thead>\n",
       "  <tbody>\n",
       "    <tr>\n",
       "      <th>Adm-clerical</th>\n",
       "      <td>4843</td>\n",
       "      <td>768</td>\n",
       "    </tr>\n",
       "    <tr>\n",
       "      <th>Armed-Forces</th>\n",
       "      <td>10</td>\n",
       "      <td>5</td>\n",
       "    </tr>\n",
       "    <tr>\n",
       "      <th>Craft-repair</th>\n",
       "      <td>4729</td>\n",
       "      <td>1383</td>\n",
       "    </tr>\n",
       "    <tr>\n",
       "      <th>Exec-managerial</th>\n",
       "      <td>3178</td>\n",
       "      <td>2908</td>\n",
       "    </tr>\n",
       "    <tr>\n",
       "      <th>Farming-fishing</th>\n",
       "      <td>1317</td>\n",
       "      <td>173</td>\n",
       "    </tr>\n",
       "    <tr>\n",
       "      <th>Handlers-cleaners</th>\n",
       "      <td>1934</td>\n",
       "      <td>138</td>\n",
       "    </tr>\n",
       "    <tr>\n",
       "      <th>Machine-op-inspct</th>\n",
       "      <td>2650</td>\n",
       "      <td>372</td>\n",
       "    </tr>\n",
       "    <tr>\n",
       "      <th>Other-service</th>\n",
       "      <td>7263</td>\n",
       "      <td>469</td>\n",
       "    </tr>\n",
       "    <tr>\n",
       "      <th>Priv-house-serv</th>\n",
       "      <td>239</td>\n",
       "      <td>3</td>\n",
       "    </tr>\n",
       "    <tr>\n",
       "      <th>Prof-specialty</th>\n",
       "      <td>3388</td>\n",
       "      <td>2784</td>\n",
       "    </tr>\n",
       "    <tr>\n",
       "      <th>Protective-serv</th>\n",
       "      <td>675</td>\n",
       "      <td>308</td>\n",
       "    </tr>\n",
       "    <tr>\n",
       "      <th>Sales</th>\n",
       "      <td>4029</td>\n",
       "      <td>1475</td>\n",
       "    </tr>\n",
       "    <tr>\n",
       "      <th>Tech-support</th>\n",
       "      <td>1026</td>\n",
       "      <td>420</td>\n",
       "    </tr>\n",
       "    <tr>\n",
       "      <th>Transport-moving</th>\n",
       "      <td>1874</td>\n",
       "      <td>481</td>\n",
       "    </tr>\n",
       "  </tbody>\n",
       "</table>\n",
       "</div>"
      ],
      "text/plain": [
       "Income                0     1\n",
       "occupation                   \n",
       "Adm-clerical       4843   768\n",
       "Armed-Forces         10     5\n",
       "Craft-repair       4729  1383\n",
       "Exec-managerial    3178  2908\n",
       "Farming-fishing    1317   173\n",
       "Handlers-cleaners  1934   138\n",
       "Machine-op-inspct  2650   372\n",
       "Other-service      7263   469\n",
       "Priv-house-serv     239     3\n",
       "Prof-specialty     3388  2784\n",
       "Protective-serv     675   308\n",
       "Sales              4029  1475\n",
       "Tech-support       1026   420\n",
       "Transport-moving   1874   481"
      ]
     },
     "execution_count": 17,
     "metadata": {},
     "output_type": "execute_result"
    }
   ],
   "source": [
    "pd.crosstab(data['occupation'], data['Income'])"
   ]
  },
  {
   "cell_type": "code",
   "execution_count": 18,
   "metadata": {},
   "outputs": [
    {
     "data": {
      "text/html": [
       "<div>\n",
       "<style scoped>\n",
       "    .dataframe tbody tr th:only-of-type {\n",
       "        vertical-align: middle;\n",
       "    }\n",
       "\n",
       "    .dataframe tbody tr th {\n",
       "        vertical-align: top;\n",
       "    }\n",
       "\n",
       "    .dataframe thead th {\n",
       "        text-align: right;\n",
       "    }\n",
       "</style>\n",
       "<table border=\"1\" class=\"dataframe\">\n",
       "  <thead>\n",
       "    <tr style=\"text-align: right;\">\n",
       "      <th>Income</th>\n",
       "      <th>0</th>\n",
       "      <th>1</th>\n",
       "    </tr>\n",
       "    <tr>\n",
       "      <th>relationship</th>\n",
       "      <th></th>\n",
       "      <th></th>\n",
       "    </tr>\n",
       "  </thead>\n",
       "  <tbody>\n",
       "    <tr>\n",
       "      <th>Husband</th>\n",
       "      <td>10870</td>\n",
       "      <td>8846</td>\n",
       "    </tr>\n",
       "    <tr>\n",
       "      <th>Not-in-family</th>\n",
       "      <td>11307</td>\n",
       "      <td>1276</td>\n",
       "    </tr>\n",
       "    <tr>\n",
       "      <th>Other-relative</th>\n",
       "      <td>1454</td>\n",
       "      <td>52</td>\n",
       "    </tr>\n",
       "    <tr>\n",
       "      <th>Own-child</th>\n",
       "      <td>7470</td>\n",
       "      <td>111</td>\n",
       "    </tr>\n",
       "    <tr>\n",
       "      <th>Unmarried</th>\n",
       "      <td>4816</td>\n",
       "      <td>309</td>\n",
       "    </tr>\n",
       "    <tr>\n",
       "      <th>Wife</th>\n",
       "      <td>1238</td>\n",
       "      <td>1093</td>\n",
       "    </tr>\n",
       "  </tbody>\n",
       "</table>\n",
       "</div>"
      ],
      "text/plain": [
       "Income              0     1\n",
       "relationship               \n",
       "Husband         10870  8846\n",
       "Not-in-family   11307  1276\n",
       "Other-relative   1454    52\n",
       "Own-child        7470   111\n",
       "Unmarried        4816   309\n",
       "Wife             1238  1093"
      ]
     },
     "execution_count": 18,
     "metadata": {},
     "output_type": "execute_result"
    }
   ],
   "source": [
    "pd.crosstab(data['relationship'], data['Income'])"
   ]
  },
  {
   "cell_type": "code",
   "execution_count": 19,
   "metadata": {
    "scrolled": true
   },
   "outputs": [
    {
     "data": {
      "text/html": [
       "<div>\n",
       "<style scoped>\n",
       "    .dataframe tbody tr th:only-of-type {\n",
       "        vertical-align: middle;\n",
       "    }\n",
       "\n",
       "    .dataframe tbody tr th {\n",
       "        vertical-align: top;\n",
       "    }\n",
       "\n",
       "    .dataframe thead th {\n",
       "        text-align: right;\n",
       "    }\n",
       "</style>\n",
       "<table border=\"1\" class=\"dataframe\">\n",
       "  <thead>\n",
       "    <tr style=\"text-align: right;\">\n",
       "      <th>Income</th>\n",
       "      <th>0</th>\n",
       "      <th>1</th>\n",
       "    </tr>\n",
       "    <tr>\n",
       "      <th>native_country</th>\n",
       "      <th></th>\n",
       "      <th></th>\n",
       "    </tr>\n",
       "  </thead>\n",
       "  <tbody>\n",
       "    <tr>\n",
       "      <th>?</th>\n",
       "      <td>637</td>\n",
       "      <td>220</td>\n",
       "    </tr>\n",
       "    <tr>\n",
       "      <th>Cambodia</th>\n",
       "      <td>19</td>\n",
       "      <td>9</td>\n",
       "    </tr>\n",
       "    <tr>\n",
       "      <th>Canada</th>\n",
       "      <td>119</td>\n",
       "      <td>63</td>\n",
       "    </tr>\n",
       "    <tr>\n",
       "      <th>China</th>\n",
       "      <td>86</td>\n",
       "      <td>36</td>\n",
       "    </tr>\n",
       "    <tr>\n",
       "      <th>Columbia</th>\n",
       "      <td>81</td>\n",
       "      <td>4</td>\n",
       "    </tr>\n",
       "    <tr>\n",
       "      <th>Cuba</th>\n",
       "      <td>104</td>\n",
       "      <td>34</td>\n",
       "    </tr>\n",
       "    <tr>\n",
       "      <th>Dominican-Republic</th>\n",
       "      <td>98</td>\n",
       "      <td>5</td>\n",
       "    </tr>\n",
       "    <tr>\n",
       "      <th>Ecuador</th>\n",
       "      <td>39</td>\n",
       "      <td>6</td>\n",
       "    </tr>\n",
       "    <tr>\n",
       "      <th>El-Salvador</th>\n",
       "      <td>144</td>\n",
       "      <td>11</td>\n",
       "    </tr>\n",
       "    <tr>\n",
       "      <th>England</th>\n",
       "      <td>80</td>\n",
       "      <td>47</td>\n",
       "    </tr>\n",
       "    <tr>\n",
       "      <th>France</th>\n",
       "      <td>22</td>\n",
       "      <td>16</td>\n",
       "    </tr>\n",
       "    <tr>\n",
       "      <th>Germany</th>\n",
       "      <td>148</td>\n",
       "      <td>58</td>\n",
       "    </tr>\n",
       "    <tr>\n",
       "      <th>Greece</th>\n",
       "      <td>31</td>\n",
       "      <td>18</td>\n",
       "    </tr>\n",
       "    <tr>\n",
       "      <th>Guatemala</th>\n",
       "      <td>85</td>\n",
       "      <td>3</td>\n",
       "    </tr>\n",
       "    <tr>\n",
       "      <th>Haiti</th>\n",
       "      <td>66</td>\n",
       "      <td>9</td>\n",
       "    </tr>\n",
       "    <tr>\n",
       "      <th>Holand-Netherlands</th>\n",
       "      <td>1</td>\n",
       "      <td>0</td>\n",
       "    </tr>\n",
       "    <tr>\n",
       "      <th>Honduras</th>\n",
       "      <td>18</td>\n",
       "      <td>2</td>\n",
       "    </tr>\n",
       "    <tr>\n",
       "      <th>Hong</th>\n",
       "      <td>22</td>\n",
       "      <td>8</td>\n",
       "    </tr>\n",
       "    <tr>\n",
       "      <th>Hungary</th>\n",
       "      <td>13</td>\n",
       "      <td>6</td>\n",
       "    </tr>\n",
       "    <tr>\n",
       "      <th>India</th>\n",
       "      <td>89</td>\n",
       "      <td>62</td>\n",
       "    </tr>\n",
       "    <tr>\n",
       "      <th>Iran</th>\n",
       "      <td>37</td>\n",
       "      <td>22</td>\n",
       "    </tr>\n",
       "    <tr>\n",
       "      <th>Ireland</th>\n",
       "      <td>26</td>\n",
       "      <td>11</td>\n",
       "    </tr>\n",
       "    <tr>\n",
       "      <th>Italy</th>\n",
       "      <td>71</td>\n",
       "      <td>34</td>\n",
       "    </tr>\n",
       "    <tr>\n",
       "      <th>Jamaica</th>\n",
       "      <td>91</td>\n",
       "      <td>15</td>\n",
       "    </tr>\n",
       "    <tr>\n",
       "      <th>Japan</th>\n",
       "      <td>60</td>\n",
       "      <td>32</td>\n",
       "    </tr>\n",
       "    <tr>\n",
       "      <th>Laos</th>\n",
       "      <td>21</td>\n",
       "      <td>2</td>\n",
       "    </tr>\n",
       "    <tr>\n",
       "      <th>Mexico</th>\n",
       "      <td>904</td>\n",
       "      <td>47</td>\n",
       "    </tr>\n",
       "    <tr>\n",
       "      <th>Nicaragua</th>\n",
       "      <td>46</td>\n",
       "      <td>3</td>\n",
       "    </tr>\n",
       "    <tr>\n",
       "      <th>Outlying-US(Guam-USVI-etc)</th>\n",
       "      <td>22</td>\n",
       "      <td>1</td>\n",
       "    </tr>\n",
       "    <tr>\n",
       "      <th>Peru</th>\n",
       "      <td>42</td>\n",
       "      <td>4</td>\n",
       "    </tr>\n",
       "    <tr>\n",
       "      <th>Philippines</th>\n",
       "      <td>210</td>\n",
       "      <td>85</td>\n",
       "    </tr>\n",
       "    <tr>\n",
       "      <th>Poland</th>\n",
       "      <td>70</td>\n",
       "      <td>17</td>\n",
       "    </tr>\n",
       "    <tr>\n",
       "      <th>Portugal</th>\n",
       "      <td>55</td>\n",
       "      <td>12</td>\n",
       "    </tr>\n",
       "    <tr>\n",
       "      <th>Puerto-Rico</th>\n",
       "      <td>164</td>\n",
       "      <td>20</td>\n",
       "    </tr>\n",
       "    <tr>\n",
       "      <th>Scotland</th>\n",
       "      <td>18</td>\n",
       "      <td>3</td>\n",
       "    </tr>\n",
       "    <tr>\n",
       "      <th>South</th>\n",
       "      <td>95</td>\n",
       "      <td>20</td>\n",
       "    </tr>\n",
       "    <tr>\n",
       "      <th>Taiwan</th>\n",
       "      <td>39</td>\n",
       "      <td>26</td>\n",
       "    </tr>\n",
       "    <tr>\n",
       "      <th>Thailand</th>\n",
       "      <td>25</td>\n",
       "      <td>5</td>\n",
       "    </tr>\n",
       "    <tr>\n",
       "      <th>Trinadad&amp;Tobago</th>\n",
       "      <td>25</td>\n",
       "      <td>2</td>\n",
       "    </tr>\n",
       "    <tr>\n",
       "      <th>United-States</th>\n",
       "      <td>33138</td>\n",
       "      <td>10694</td>\n",
       "    </tr>\n",
       "    <tr>\n",
       "      <th>Vietnam</th>\n",
       "      <td>79</td>\n",
       "      <td>7</td>\n",
       "    </tr>\n",
       "    <tr>\n",
       "      <th>Yugoslavia</th>\n",
       "      <td>15</td>\n",
       "      <td>8</td>\n",
       "    </tr>\n",
       "  </tbody>\n",
       "</table>\n",
       "</div>"
      ],
      "text/plain": [
       "Income                          0      1\n",
       "native_country                          \n",
       "?                             637    220\n",
       "Cambodia                       19      9\n",
       "Canada                        119     63\n",
       "China                          86     36\n",
       "Columbia                       81      4\n",
       "Cuba                          104     34\n",
       "Dominican-Republic             98      5\n",
       "Ecuador                        39      6\n",
       "El-Salvador                   144     11\n",
       "England                        80     47\n",
       "France                         22     16\n",
       "Germany                       148     58\n",
       "Greece                         31     18\n",
       "Guatemala                      85      3\n",
       "Haiti                          66      9\n",
       "Holand-Netherlands              1      0\n",
       "Honduras                       18      2\n",
       "Hong                           22      8\n",
       "Hungary                        13      6\n",
       "India                          89     62\n",
       "Iran                           37     22\n",
       "Ireland                        26     11\n",
       "Italy                          71     34\n",
       "Jamaica                        91     15\n",
       "Japan                          60     32\n",
       "Laos                           21      2\n",
       "Mexico                        904     47\n",
       "Nicaragua                      46      3\n",
       "Outlying-US(Guam-USVI-etc)     22      1\n",
       "Peru                           42      4\n",
       "Philippines                   210     85\n",
       "Poland                         70     17\n",
       "Portugal                       55     12\n",
       "Puerto-Rico                   164     20\n",
       "Scotland                       18      3\n",
       "South                          95     20\n",
       "Taiwan                         39     26\n",
       "Thailand                       25      5\n",
       "Trinadad&Tobago                25      2\n",
       "United-States               33138  10694\n",
       "Vietnam                        79      7\n",
       "Yugoslavia                     15      8"
      ]
     },
     "execution_count": 19,
     "metadata": {},
     "output_type": "execute_result"
    }
   ],
   "source": [
    "pd.crosstab(data['native_country'], data['Income'])"
   ]
  },
  {
   "cell_type": "code",
   "execution_count": 20,
   "metadata": {},
   "outputs": [],
   "source": [
    "data['native_country'].replace (['Cambodia', 'China', 'Hong', 'India', 'Iran', 'Japan', 'Laos', 'Philippines', 'Taiwan', 'Thailand', 'Vietnam'], \n",
    "                                'Asia', inplace=True)\n",
    "\n",
    "data['native_country'].replace (['Canada', 'Outlying-US(Guam-USVI-etc)', 'United-States'],\n",
    "                                'North America', inplace = True)\n",
    "\n",
    "data['native_country'].replace (['Columbia', 'Ecuador', 'Peru'],\n",
    "                                'South America', inplace = True)\n",
    "\n",
    "data['native_country'].replace (['Cuba', 'Dominican-Republic', 'El-Salvador', 'Guatemala', 'Haiti', 'Honduras', 'Jamaica', 'Mexico', 'Nicaragua', 'Puerto-Rico', 'Trinadad&Tobago'],\n",
    "                                'Central America', inplace = True)\n",
    "\n",
    "data['native_country'].replace(['England', 'France', 'Germany', 'Greece', 'Holand-Netherlands', 'Hungary', 'Ireland', 'Italy', 'Poland', 'Portugal', 'Scotland', 'Yugoslavia'],\n",
    "                               'Europe', inplace = True)\n",
    "\n",
    "data['native_country'].replace(['South', '?'], \n",
    "                               'Other',  inplace = True)"
   ]
  },
  {
   "cell_type": "code",
   "execution_count": 21,
   "metadata": {},
   "outputs": [
    {
     "data": {
      "text/html": [
       "<div>\n",
       "<style scoped>\n",
       "    .dataframe tbody tr th:only-of-type {\n",
       "        vertical-align: middle;\n",
       "    }\n",
       "\n",
       "    .dataframe tbody tr th {\n",
       "        vertical-align: top;\n",
       "    }\n",
       "\n",
       "    .dataframe thead th {\n",
       "        text-align: right;\n",
       "    }\n",
       "</style>\n",
       "<table border=\"1\" class=\"dataframe\">\n",
       "  <thead>\n",
       "    <tr style=\"text-align: right;\">\n",
       "      <th>Income</th>\n",
       "      <th>0</th>\n",
       "      <th>1</th>\n",
       "    </tr>\n",
       "    <tr>\n",
       "      <th>native_country</th>\n",
       "      <th></th>\n",
       "      <th></th>\n",
       "    </tr>\n",
       "  </thead>\n",
       "  <tbody>\n",
       "    <tr>\n",
       "      <th>Asia</th>\n",
       "      <td>687</td>\n",
       "      <td>294</td>\n",
       "    </tr>\n",
       "    <tr>\n",
       "      <th>Central America</th>\n",
       "      <td>1745</td>\n",
       "      <td>151</td>\n",
       "    </tr>\n",
       "    <tr>\n",
       "      <th>Europe</th>\n",
       "      <td>550</td>\n",
       "      <td>230</td>\n",
       "    </tr>\n",
       "    <tr>\n",
       "      <th>North America</th>\n",
       "      <td>33279</td>\n",
       "      <td>10758</td>\n",
       "    </tr>\n",
       "    <tr>\n",
       "      <th>Other</th>\n",
       "      <td>732</td>\n",
       "      <td>240</td>\n",
       "    </tr>\n",
       "    <tr>\n",
       "      <th>South America</th>\n",
       "      <td>162</td>\n",
       "      <td>14</td>\n",
       "    </tr>\n",
       "  </tbody>\n",
       "</table>\n",
       "</div>"
      ],
      "text/plain": [
       "Income               0      1\n",
       "native_country               \n",
       "Asia               687    294\n",
       "Central America   1745    151\n",
       "Europe             550    230\n",
       "North America    33279  10758\n",
       "Other              732    240\n",
       "South America      162     14"
      ]
     },
     "execution_count": 21,
     "metadata": {},
     "output_type": "execute_result"
    }
   ],
   "source": [
    "pd.crosstab(data['native_country'], data['Income'])"
   ]
  },
  {
   "cell_type": "code",
   "execution_count": 22,
   "metadata": {},
   "outputs": [
    {
     "data": {
      "text/html": [
       "<div>\n",
       "<style scoped>\n",
       "    .dataframe tbody tr th:only-of-type {\n",
       "        vertical-align: middle;\n",
       "    }\n",
       "\n",
       "    .dataframe tbody tr th {\n",
       "        vertical-align: top;\n",
       "    }\n",
       "\n",
       "    .dataframe thead th {\n",
       "        text-align: right;\n",
       "    }\n",
       "</style>\n",
       "<table border=\"1\" class=\"dataframe\">\n",
       "  <thead>\n",
       "    <tr style=\"text-align: right;\">\n",
       "      <th></th>\n",
       "      <th>age</th>\n",
       "      <th>education-num</th>\n",
       "      <th>capital_gain</th>\n",
       "      <th>capital_loss</th>\n",
       "      <th>hours_per_week</th>\n",
       "      <th>Income</th>\n",
       "    </tr>\n",
       "  </thead>\n",
       "  <tbody>\n",
       "    <tr>\n",
       "      <th>count</th>\n",
       "      <td>48842.000000</td>\n",
       "      <td>48842.000000</td>\n",
       "      <td>48842.000000</td>\n",
       "      <td>48842.000000</td>\n",
       "      <td>48842.000000</td>\n",
       "      <td>48842.000000</td>\n",
       "    </tr>\n",
       "    <tr>\n",
       "      <th>mean</th>\n",
       "      <td>38.643585</td>\n",
       "      <td>10.078089</td>\n",
       "      <td>1079.067626</td>\n",
       "      <td>87.502314</td>\n",
       "      <td>40.422382</td>\n",
       "      <td>0.239282</td>\n",
       "    </tr>\n",
       "    <tr>\n",
       "      <th>std</th>\n",
       "      <td>13.710510</td>\n",
       "      <td>2.570973</td>\n",
       "      <td>7452.019058</td>\n",
       "      <td>403.004552</td>\n",
       "      <td>12.391444</td>\n",
       "      <td>0.426649</td>\n",
       "    </tr>\n",
       "    <tr>\n",
       "      <th>min</th>\n",
       "      <td>17.000000</td>\n",
       "      <td>1.000000</td>\n",
       "      <td>0.000000</td>\n",
       "      <td>0.000000</td>\n",
       "      <td>1.000000</td>\n",
       "      <td>0.000000</td>\n",
       "    </tr>\n",
       "    <tr>\n",
       "      <th>25%</th>\n",
       "      <td>28.000000</td>\n",
       "      <td>9.000000</td>\n",
       "      <td>0.000000</td>\n",
       "      <td>0.000000</td>\n",
       "      <td>40.000000</td>\n",
       "      <td>0.000000</td>\n",
       "    </tr>\n",
       "    <tr>\n",
       "      <th>50%</th>\n",
       "      <td>37.000000</td>\n",
       "      <td>10.000000</td>\n",
       "      <td>0.000000</td>\n",
       "      <td>0.000000</td>\n",
       "      <td>40.000000</td>\n",
       "      <td>0.000000</td>\n",
       "    </tr>\n",
       "    <tr>\n",
       "      <th>75%</th>\n",
       "      <td>48.000000</td>\n",
       "      <td>12.000000</td>\n",
       "      <td>0.000000</td>\n",
       "      <td>0.000000</td>\n",
       "      <td>45.000000</td>\n",
       "      <td>0.000000</td>\n",
       "    </tr>\n",
       "    <tr>\n",
       "      <th>max</th>\n",
       "      <td>90.000000</td>\n",
       "      <td>16.000000</td>\n",
       "      <td>99999.000000</td>\n",
       "      <td>4356.000000</td>\n",
       "      <td>99.000000</td>\n",
       "      <td>1.000000</td>\n",
       "    </tr>\n",
       "  </tbody>\n",
       "</table>\n",
       "</div>"
      ],
      "text/plain": [
       "                age  education-num  capital_gain  capital_loss  \\\n",
       "count  48842.000000   48842.000000  48842.000000  48842.000000   \n",
       "mean      38.643585      10.078089   1079.067626     87.502314   \n",
       "std       13.710510       2.570973   7452.019058    403.004552   \n",
       "min       17.000000       1.000000      0.000000      0.000000   \n",
       "25%       28.000000       9.000000      0.000000      0.000000   \n",
       "50%       37.000000      10.000000      0.000000      0.000000   \n",
       "75%       48.000000      12.000000      0.000000      0.000000   \n",
       "max       90.000000      16.000000  99999.000000   4356.000000   \n",
       "\n",
       "       hours_per_week        Income  \n",
       "count    48842.000000  48842.000000  \n",
       "mean        40.422382      0.239282  \n",
       "std         12.391444      0.426649  \n",
       "min          1.000000      0.000000  \n",
       "25%         40.000000      0.000000  \n",
       "50%         40.000000      0.000000  \n",
       "75%         45.000000      0.000000  \n",
       "max         99.000000      1.000000  "
      ]
     },
     "execution_count": 22,
     "metadata": {},
     "output_type": "execute_result"
    }
   ],
   "source": [
    "data.describe() "
   ]
  },
  {
   "cell_type": "code",
   "execution_count": 22,
   "metadata": {},
   "outputs": [
    {
     "data": {
      "text/html": [
       "<div>\n",
       "<style scoped>\n",
       "    .dataframe tbody tr th:only-of-type {\n",
       "        vertical-align: middle;\n",
       "    }\n",
       "\n",
       "    .dataframe tbody tr th {\n",
       "        vertical-align: top;\n",
       "    }\n",
       "\n",
       "    .dataframe thead th {\n",
       "        text-align: right;\n",
       "    }\n",
       "</style>\n",
       "<table border=\"1\" class=\"dataframe\">\n",
       "  <thead>\n",
       "    <tr style=\"text-align: right;\">\n",
       "      <th></th>\n",
       "      <th>age</th>\n",
       "      <th>workclass</th>\n",
       "      <th>education-num</th>\n",
       "      <th>marital_status</th>\n",
       "      <th>occupation</th>\n",
       "      <th>relationship</th>\n",
       "      <th>race</th>\n",
       "      <th>sex</th>\n",
       "      <th>capital_gain</th>\n",
       "      <th>capital_loss</th>\n",
       "      <th>hours_per_week</th>\n",
       "      <th>native_country</th>\n",
       "      <th>Income</th>\n",
       "    </tr>\n",
       "  </thead>\n",
       "  <tbody>\n",
       "    <tr>\n",
       "      <th>0</th>\n",
       "      <td>39</td>\n",
       "      <td>Government</td>\n",
       "      <td>13</td>\n",
       "      <td>Never-married</td>\n",
       "      <td>Adm-clerical</td>\n",
       "      <td>Not-in-family</td>\n",
       "      <td>White</td>\n",
       "      <td>Male</td>\n",
       "      <td>2174</td>\n",
       "      <td>0</td>\n",
       "      <td>40</td>\n",
       "      <td>North America</td>\n",
       "      <td>0</td>\n",
       "    </tr>\n",
       "    <tr>\n",
       "      <th>1</th>\n",
       "      <td>50</td>\n",
       "      <td>Self_employed</td>\n",
       "      <td>13</td>\n",
       "      <td>Married</td>\n",
       "      <td>Exec-managerial</td>\n",
       "      <td>Husband</td>\n",
       "      <td>White</td>\n",
       "      <td>Male</td>\n",
       "      <td>0</td>\n",
       "      <td>0</td>\n",
       "      <td>13</td>\n",
       "      <td>North America</td>\n",
       "      <td>0</td>\n",
       "    </tr>\n",
       "    <tr>\n",
       "      <th>2</th>\n",
       "      <td>38</td>\n",
       "      <td>Private</td>\n",
       "      <td>9</td>\n",
       "      <td>Not-Married</td>\n",
       "      <td>Handlers-cleaners</td>\n",
       "      <td>Not-in-family</td>\n",
       "      <td>White</td>\n",
       "      <td>Male</td>\n",
       "      <td>0</td>\n",
       "      <td>0</td>\n",
       "      <td>40</td>\n",
       "      <td>North America</td>\n",
       "      <td>0</td>\n",
       "    </tr>\n",
       "    <tr>\n",
       "      <th>3</th>\n",
       "      <td>53</td>\n",
       "      <td>Private</td>\n",
       "      <td>7</td>\n",
       "      <td>Married</td>\n",
       "      <td>Handlers-cleaners</td>\n",
       "      <td>Husband</td>\n",
       "      <td>Black</td>\n",
       "      <td>Male</td>\n",
       "      <td>0</td>\n",
       "      <td>0</td>\n",
       "      <td>40</td>\n",
       "      <td>North America</td>\n",
       "      <td>0</td>\n",
       "    </tr>\n",
       "    <tr>\n",
       "      <th>4</th>\n",
       "      <td>28</td>\n",
       "      <td>Private</td>\n",
       "      <td>13</td>\n",
       "      <td>Married</td>\n",
       "      <td>Prof-specialty</td>\n",
       "      <td>Wife</td>\n",
       "      <td>Black</td>\n",
       "      <td>Female</td>\n",
       "      <td>0</td>\n",
       "      <td>0</td>\n",
       "      <td>40</td>\n",
       "      <td>Central America</td>\n",
       "      <td>0</td>\n",
       "    </tr>\n",
       "  </tbody>\n",
       "</table>\n",
       "</div>"
      ],
      "text/plain": [
       "   age      workclass  education-num marital_status         occupation  \\\n",
       "0   39     Government             13  Never-married       Adm-clerical   \n",
       "1   50  Self_employed             13        Married    Exec-managerial   \n",
       "2   38        Private              9    Not-Married  Handlers-cleaners   \n",
       "3   53        Private              7        Married  Handlers-cleaners   \n",
       "4   28        Private             13        Married     Prof-specialty   \n",
       "\n",
       "    relationship   race     sex  capital_gain  capital_loss  hours_per_week  \\\n",
       "0  Not-in-family  White    Male          2174             0              40   \n",
       "1        Husband  White    Male             0             0              13   \n",
       "2  Not-in-family  White    Male             0             0              40   \n",
       "3        Husband  Black    Male             0             0              40   \n",
       "4           Wife  Black  Female             0             0              40   \n",
       "\n",
       "    native_country  Income  \n",
       "0    North America       0  \n",
       "1    North America       0  \n",
       "2    North America       0  \n",
       "3    North America       0  \n",
       "4  Central America       0  "
      ]
     },
     "execution_count": 22,
     "metadata": {},
     "output_type": "execute_result"
    }
   ],
   "source": [
    "data.head()"
   ]
  },
  {
   "cell_type": "code",
   "execution_count": 23,
   "metadata": {},
   "outputs": [],
   "source": [
    "y = data.pop('Income')"
   ]
  },
  {
   "cell_type": "code",
   "execution_count": 24,
   "metadata": {},
   "outputs": [],
   "source": [
    "data_categorics = data.select_dtypes(include=object)  # only categorics features\n",
    "data_numerics = data.select_dtypes(include = [np.int64])  # only numerics features \n",
    "\n",
    "data_numerics_DF = pd.DataFrame(data=data_numerics, columns=data_numerics.columns, index=data_numerics.index)\n",
    "\n",
    "categorical_dummies = pd.get_dummies(data_categorics)\n",
    "\n",
    "X  = pd.concat([data_numerics_DF, categorical_dummies], axis=1)  # new dataframe"
   ]
  },
  {
   "cell_type": "code",
   "execution_count": 25,
   "metadata": {},
   "outputs": [
    {
     "data": {
      "text/html": [
       "<div>\n",
       "<style scoped>\n",
       "    .dataframe tbody tr th:only-of-type {\n",
       "        vertical-align: middle;\n",
       "    }\n",
       "\n",
       "    .dataframe tbody tr th {\n",
       "        vertical-align: top;\n",
       "    }\n",
       "\n",
       "    .dataframe thead th {\n",
       "        text-align: right;\n",
       "    }\n",
       "</style>\n",
       "<table border=\"1\" class=\"dataframe\">\n",
       "  <thead>\n",
       "    <tr style=\"text-align: right;\">\n",
       "      <th></th>\n",
       "      <th>age</th>\n",
       "      <th>education-num</th>\n",
       "      <th>capital_gain</th>\n",
       "      <th>capital_loss</th>\n",
       "      <th>hours_per_week</th>\n",
       "      <th>workclass_Government</th>\n",
       "      <th>workclass_Other</th>\n",
       "      <th>workclass_Private</th>\n",
       "      <th>workclass_Self_employed</th>\n",
       "      <th>workclass_Unemployed</th>\n",
       "      <th>...</th>\n",
       "      <th>race_Other</th>\n",
       "      <th>race_White</th>\n",
       "      <th>sex_Female</th>\n",
       "      <th>sex_Male</th>\n",
       "      <th>native_country_Asia</th>\n",
       "      <th>native_country_Central America</th>\n",
       "      <th>native_country_Europe</th>\n",
       "      <th>native_country_North America</th>\n",
       "      <th>native_country_Other</th>\n",
       "      <th>native_country_South America</th>\n",
       "    </tr>\n",
       "  </thead>\n",
       "  <tbody>\n",
       "    <tr>\n",
       "      <th>0</th>\n",
       "      <td>39</td>\n",
       "      <td>13</td>\n",
       "      <td>2174</td>\n",
       "      <td>0</td>\n",
       "      <td>40</td>\n",
       "      <td>1</td>\n",
       "      <td>0</td>\n",
       "      <td>0</td>\n",
       "      <td>0</td>\n",
       "      <td>0</td>\n",
       "      <td>...</td>\n",
       "      <td>0</td>\n",
       "      <td>1</td>\n",
       "      <td>0</td>\n",
       "      <td>1</td>\n",
       "      <td>0</td>\n",
       "      <td>0</td>\n",
       "      <td>0</td>\n",
       "      <td>1</td>\n",
       "      <td>0</td>\n",
       "      <td>0</td>\n",
       "    </tr>\n",
       "    <tr>\n",
       "      <th>1</th>\n",
       "      <td>50</td>\n",
       "      <td>13</td>\n",
       "      <td>0</td>\n",
       "      <td>0</td>\n",
       "      <td>13</td>\n",
       "      <td>0</td>\n",
       "      <td>0</td>\n",
       "      <td>0</td>\n",
       "      <td>1</td>\n",
       "      <td>0</td>\n",
       "      <td>...</td>\n",
       "      <td>0</td>\n",
       "      <td>1</td>\n",
       "      <td>0</td>\n",
       "      <td>1</td>\n",
       "      <td>0</td>\n",
       "      <td>0</td>\n",
       "      <td>0</td>\n",
       "      <td>1</td>\n",
       "      <td>0</td>\n",
       "      <td>0</td>\n",
       "    </tr>\n",
       "    <tr>\n",
       "      <th>2</th>\n",
       "      <td>38</td>\n",
       "      <td>9</td>\n",
       "      <td>0</td>\n",
       "      <td>0</td>\n",
       "      <td>40</td>\n",
       "      <td>0</td>\n",
       "      <td>0</td>\n",
       "      <td>1</td>\n",
       "      <td>0</td>\n",
       "      <td>0</td>\n",
       "      <td>...</td>\n",
       "      <td>0</td>\n",
       "      <td>1</td>\n",
       "      <td>0</td>\n",
       "      <td>1</td>\n",
       "      <td>0</td>\n",
       "      <td>0</td>\n",
       "      <td>0</td>\n",
       "      <td>1</td>\n",
       "      <td>0</td>\n",
       "      <td>0</td>\n",
       "    </tr>\n",
       "    <tr>\n",
       "      <th>3</th>\n",
       "      <td>53</td>\n",
       "      <td>7</td>\n",
       "      <td>0</td>\n",
       "      <td>0</td>\n",
       "      <td>40</td>\n",
       "      <td>0</td>\n",
       "      <td>0</td>\n",
       "      <td>1</td>\n",
       "      <td>0</td>\n",
       "      <td>0</td>\n",
       "      <td>...</td>\n",
       "      <td>0</td>\n",
       "      <td>0</td>\n",
       "      <td>0</td>\n",
       "      <td>1</td>\n",
       "      <td>0</td>\n",
       "      <td>0</td>\n",
       "      <td>0</td>\n",
       "      <td>1</td>\n",
       "      <td>0</td>\n",
       "      <td>0</td>\n",
       "    </tr>\n",
       "    <tr>\n",
       "      <th>4</th>\n",
       "      <td>28</td>\n",
       "      <td>13</td>\n",
       "      <td>0</td>\n",
       "      <td>0</td>\n",
       "      <td>40</td>\n",
       "      <td>0</td>\n",
       "      <td>0</td>\n",
       "      <td>1</td>\n",
       "      <td>0</td>\n",
       "      <td>0</td>\n",
       "      <td>...</td>\n",
       "      <td>0</td>\n",
       "      <td>0</td>\n",
       "      <td>1</td>\n",
       "      <td>0</td>\n",
       "      <td>0</td>\n",
       "      <td>1</td>\n",
       "      <td>0</td>\n",
       "      <td>0</td>\n",
       "      <td>0</td>\n",
       "      <td>0</td>\n",
       "    </tr>\n",
       "  </tbody>\n",
       "</table>\n",
       "<p>5 rows × 46 columns</p>\n",
       "</div>"
      ],
      "text/plain": [
       "   age  education-num  capital_gain  capital_loss  hours_per_week  \\\n",
       "0   39             13          2174             0              40   \n",
       "1   50             13             0             0              13   \n",
       "2   38              9             0             0              40   \n",
       "3   53              7             0             0              40   \n",
       "4   28             13             0             0              40   \n",
       "\n",
       "   workclass_Government  workclass_Other  workclass_Private  \\\n",
       "0                     1                0                  0   \n",
       "1                     0                0                  0   \n",
       "2                     0                0                  1   \n",
       "3                     0                0                  1   \n",
       "4                     0                0                  1   \n",
       "\n",
       "   workclass_Self_employed  workclass_Unemployed  \\\n",
       "0                        0                     0   \n",
       "1                        1                     0   \n",
       "2                        0                     0   \n",
       "3                        0                     0   \n",
       "4                        0                     0   \n",
       "\n",
       "               ...               race_Other  race_White  sex_Female  sex_Male  \\\n",
       "0              ...                        0           1           0         1   \n",
       "1              ...                        0           1           0         1   \n",
       "2              ...                        0           1           0         1   \n",
       "3              ...                        0           0           0         1   \n",
       "4              ...                        0           0           1         0   \n",
       "\n",
       "   native_country_Asia  native_country_Central America  native_country_Europe  \\\n",
       "0                    0                               0                      0   \n",
       "1                    0                               0                      0   \n",
       "2                    0                               0                      0   \n",
       "3                    0                               0                      0   \n",
       "4                    0                               1                      0   \n",
       "\n",
       "   native_country_North America  native_country_Other  \\\n",
       "0                             1                     0   \n",
       "1                             1                     0   \n",
       "2                             1                     0   \n",
       "3                             1                     0   \n",
       "4                             0                     0   \n",
       "\n",
       "   native_country_South America  \n",
       "0                             0  \n",
       "1                             0  \n",
       "2                             0  \n",
       "3                             0  \n",
       "4                             0  \n",
       "\n",
       "[5 rows x 46 columns]"
      ]
     },
     "execution_count": 25,
     "metadata": {},
     "output_type": "execute_result"
    }
   ],
   "source": [
    "X.head()"
   ]
  },
  {
   "cell_type": "markdown",
   "metadata": {},
   "source": [
    "** Split dataset **"
   ]
  },
  {
   "cell_type": "code",
   "execution_count": 26,
   "metadata": {},
   "outputs": [],
   "source": [
    "from sklearn.model_selection import train_test_split\n",
    "\n",
    "X_train, X_test, y_train, y_test= train_test_split(X, y, test_size = 0.3, random_state = 123)"
   ]
  },
  {
   "cell_type": "code",
   "execution_count": 27,
   "metadata": {},
   "outputs": [
    {
     "data": {
      "text/plain": [
       "((34189, 46), (14653, 46))"
      ]
     },
     "execution_count": 27,
     "metadata": {},
     "output_type": "execute_result"
    }
   ],
   "source": [
    "X_train.shape, X_test.shape"
   ]
  },
  {
   "cell_type": "markdown",
   "metadata": {},
   "source": [
    "**Logistic Regression, Naive Bayes, Decision Tree, Random Forest and XGBoost**"
   ]
  },
  {
   "cell_type": "code",
   "execution_count": 30,
   "metadata": {},
   "outputs": [],
   "source": [
    "from sklearn.pipeline import Pipeline\n",
    "from sklearn.preprocessing import StandardScaler\n",
    "from sklearn.model_selection import GridSearchCV\n",
    "from sklearn.model_selection import RandomizedSearchCV\n",
    "from sklearn.metrics import accuracy_score, recall_score\n",
    "\n",
    "from sklearn.linear_model import LogisticRegression\n",
    "from sklearn.naive_bayes import MultinomialNB\n",
    "from sklearn.tree import DecisionTreeClassifier\n",
    "from sklearn.ensemble import RandomForestClassifier\n",
    "from xgboost import XGBClassifier\n",
    "\n",
    "import time"
   ]
  },
  {
   "cell_type": "code",
   "execution_count": 31,
   "metadata": {},
   "outputs": [],
   "source": [
    "models = [[(\"standarization\", StandardScaler()),(\"model\", LogisticRegression())],\n",
    "          [(\"model\", MultinomialNB() )],\n",
    "          [('model', DecisionTreeClassifier() ) ],\n",
    "          [(\"model\", RandomForestClassifier())],\n",
    "          [(\"model\", XGBClassifier())]]\n",
    "          \n",
    "\n",
    "param_grids = [{'model__penalty': ['l1', 'l2'], 'model__C': [1, 0.1]},\n",
    "               {},\n",
    "               {'model__max_depth': [5, 7, 10], 'model__min_samples_leaf': [5, 10, 15]},\n",
    "               {\"model__n_estimators\": [100, 150, 200], 'model__max_depth': [5, 7, 10] ,\"model__min_samples_leaf\": [5, 10, 15]},\n",
    "               {\"model__learning_rate\":[0.1, 0.2], \"model__n_estimators\": [100, 150, 200], \"model__max_depth\":[5, 7, 10], 'model__min_child_weight':[5, 10, 15]}]\n",
    "\n"
   ]
  },
  {
   "cell_type": "code",
   "execution_count": 32,
   "metadata": {},
   "outputs": [
    {
     "name": "stderr",
     "output_type": "stream",
     "text": [
      "C:\\ProgramData\\Anaconda3\\lib\\site-packages\\sklearn\\preprocessing\\data.py:625: DataConversionWarning: Data with input dtype uint8, int64 were all converted to float64 by StandardScaler.\n",
      "  return self.partial_fit(X, y)\n",
      "C:\\ProgramData\\Anaconda3\\lib\\site-packages\\sklearn\\base.py:465: DataConversionWarning: Data with input dtype uint8, int64 were all converted to float64 by StandardScaler.\n",
      "  return self.fit(X, y, **fit_params).transform(X)\n",
      "C:\\ProgramData\\Anaconda3\\lib\\site-packages\\sklearn\\linear_model\\logistic.py:433: FutureWarning: Default solver will be changed to 'lbfgs' in 0.22. Specify a solver to silence this warning.\n",
      "  FutureWarning)\n",
      "C:\\ProgramData\\Anaconda3\\lib\\site-packages\\sklearn\\pipeline.py:331: DataConversionWarning: Data with input dtype uint8, int64 were all converted to float64 by StandardScaler.\n",
      "  Xt = transform.transform(Xt)\n",
      "C:\\ProgramData\\Anaconda3\\lib\\site-packages\\sklearn\\pipeline.py:331: DataConversionWarning: Data with input dtype uint8, int64 were all converted to float64 by StandardScaler.\n",
      "  Xt = transform.transform(Xt)\n"
     ]
    },
    {
     "name": "stdout",
     "output_type": "stream",
     "text": [
      "Pipeline(memory=None,\n",
      "     steps=[('standarization', StandardScaler(copy=True, with_mean=True, with_std=True)), ('model', LogisticRegression(C=1, class_weight=None, dual=False, fit_intercept=True,\n",
      "          intercept_scaling=1, max_iter=100, multi_class='warn',\n",
      "          n_jobs=None, penalty='l1', random_state=None, solver='warn',\n",
      "          tol=0.0001, verbose=0, warm_start=False))])\n",
      "Inference Time: 2.53 Minutes\n",
      "Pipeline(memory=None,\n",
      "     steps=[('model', MultinomialNB(alpha=1.0, class_prior=None, fit_prior=True))])\n",
      "Inference Time: 0.01 Minutes\n",
      "Pipeline(memory=None,\n",
      "     steps=[('model', DecisionTreeClassifier(class_weight=None, criterion='gini', max_depth=10,\n",
      "            max_features=None, max_leaf_nodes=None,\n",
      "            min_impurity_decrease=0.0, min_impurity_split=None,\n",
      "            min_samples_leaf=10, min_samples_split=2,\n",
      "            min_weight_fraction_leaf=0.0, presort=False, random_state=None,\n",
      "            splitter='best'))])\n",
      "Inference Time: 0.12 Minutes\n",
      "Pipeline(memory=None,\n",
      "     steps=[('model', RandomForestClassifier(bootstrap=True, class_weight=None, criterion='gini',\n",
      "            max_depth=10, max_features='auto', max_leaf_nodes=None,\n",
      "            min_impurity_decrease=0.0, min_impurity_split=None,\n",
      "            min_samples_leaf=5, min_samples_split=2,\n",
      "            min_weight_fraction_leaf=0.0, n_estimators=150, n_jobs=None,\n",
      "            oob_score=False, random_state=None, verbose=0,\n",
      "            warm_start=False))])\n",
      "Inference Time: 6.40 Minutes\n",
      "Pipeline(memory=None,\n",
      "     steps=[('model', XGBClassifier(base_score=0.5, booster='gbtree', colsample_bylevel=1,\n",
      "       colsample_bytree=1, gamma=0, learning_rate=0.2, max_delta_step=0,\n",
      "       max_depth=7, min_child_weight=15, missing=None, n_estimators=100,\n",
      "       n_jobs=1, nthread=None, objective='binary:logistic', random_state=0,\n",
      "       reg_alpha=0, reg_lambda=1, scale_pos_weight=1, seed=None,\n",
      "       silent=True, subsample=1))])\n",
      "Inference Time: 63.69 Minutes\n"
     ]
    }
   ],
   "source": [
    "results_train = {}\n",
    "results_test = {}\n",
    "\n",
    "for pipe, params in zip(models,param_grids):\n",
    "    \n",
    "    inference_start = time.time()\n",
    "    \n",
    "    pipeline = Pipeline(pipe)     \n",
    "   \n",
    "    gs = GridSearchCV(estimator=pipeline, param_grid=params, cv=10, n_jobs=-1, scoring = \"accuracy\")\n",
    "    gs.fit(X_train,y_train)\n",
    "    \n",
    "    result_train = accuracy_score(y_pred=gs.best_estimator_.predict(X_train), y_true=y_train)\n",
    "    results_train.update({gs.best_estimator_:result_train})   \n",
    "    #print({gs.best_estimator_:result_train})\n",
    "    \n",
    "    result_test = accuracy_score(y_pred=gs.best_estimator_.predict(X_test), y_true=y_test)\n",
    "    results_test.update({gs.best_estimator_:result_test})\n",
    "    #print({gs.best_estimator_:result_test})\n",
    "    \n",
    "    inference_end = time.time()\n",
    "    \n",
    "    print(gs.best_estimator_)\n",
    "    print('Inference Time: %0.2f Minutes'%((inference_end - inference_start)/60))"
   ]
  },
  {
   "cell_type": "markdown",
   "metadata": {},
   "source": [
    "** Accuracy_score **"
   ]
  },
  {
   "cell_type": "code",
   "execution_count": 33,
   "metadata": {},
   "outputs": [
    {
     "data": {
      "text/html": [
       "<div>\n",
       "<style scoped>\n",
       "    .dataframe tbody tr th:only-of-type {\n",
       "        vertical-align: middle;\n",
       "    }\n",
       "\n",
       "    .dataframe tbody tr th {\n",
       "        vertical-align: top;\n",
       "    }\n",
       "\n",
       "    .dataframe thead th {\n",
       "        text-align: right;\n",
       "    }\n",
       "</style>\n",
       "<table border=\"1\" class=\"dataframe\">\n",
       "  <thead>\n",
       "    <tr style=\"text-align: right;\">\n",
       "      <th></th>\n",
       "      <th>accuracy_train</th>\n",
       "    </tr>\n",
       "  </thead>\n",
       "  <tbody>\n",
       "    <tr>\n",
       "      <th>Pipeline(memory=None,\\n     steps=[('standarization', StandardScaler(copy=True, with_mean=True, with_std=True)), ('model', LogisticRegression(C=1, class_weight=None, dual=False, fit_intercept=True,\\n          intercept_scaling=1, max_iter=100, multi_class='warn',\\n          n_jobs=None, penalty='l1', random_state=None, solver='warn',\\n          tol=0.0001, verbose=0, warm_start=False))])</th>\n",
       "      <td>0.850624</td>\n",
       "    </tr>\n",
       "    <tr>\n",
       "      <th>Pipeline(memory=None,\\n     steps=[('model', MultinomialNB(alpha=1.0, class_prior=None, fit_prior=True))])</th>\n",
       "      <td>0.779403</td>\n",
       "    </tr>\n",
       "    <tr>\n",
       "      <th>Pipeline(memory=None,\\n     steps=[('model', DecisionTreeClassifier(class_weight=None, criterion='gini', max_depth=10,\\n            max_features=None, max_leaf_nodes=None,\\n            min_impurity_decrease=0.0, min_impurity_split=None,\\n            min_samples_leaf=10, min_samples_split=2,\\n            min_weight_fraction_leaf=0.0, presort=False, random_state=None,\\n            splitter='best'))])</th>\n",
       "      <td>0.866624</td>\n",
       "    </tr>\n",
       "    <tr>\n",
       "      <th>Pipeline(memory=None,\\n     steps=[('model', RandomForestClassifier(bootstrap=True, class_weight=None, criterion='gini',\\n            max_depth=10, max_features='auto', max_leaf_nodes=None,\\n            min_impurity_decrease=0.0, min_impurity_split=None,\\n            min_samples_leaf=5, min_samples_split=2,\\n            min_weight_fraction_leaf=0.0, n_estimators=150, n_jobs=None,\\n            oob_score=False, random_state=None, verbose=0,\\n            warm_start=False))])</th>\n",
       "      <td>0.862734</td>\n",
       "    </tr>\n",
       "    <tr>\n",
       "      <th>Pipeline(memory=None,\\n     steps=[('model', XGBClassifier(base_score=0.5, booster='gbtree', colsample_bylevel=1,\\n       colsample_bytree=1, gamma=0, learning_rate=0.2, max_delta_step=0,\\n       max_depth=7, min_child_weight=15, missing=None, n_estimators=100,\\n       n_jobs=1, nthread=None, objective='binary:logistic', random_state=0,\\n       reg_alpha=0, reg_lambda=1, scale_pos_weight=1, seed=None,\\n       silent=True, subsample=1))])</th>\n",
       "      <td>0.878850</td>\n",
       "    </tr>\n",
       "  </tbody>\n",
       "</table>\n",
       "</div>"
      ],
      "text/plain": [
       "                                                    accuracy_train\n",
       "Pipeline(memory=None,\\n     steps=[('standariza...        0.850624\n",
       "Pipeline(memory=None,\\n     steps=[('model', Mu...        0.779403\n",
       "Pipeline(memory=None,\\n     steps=[('model', De...        0.866624\n",
       "Pipeline(memory=None,\\n     steps=[('model', Ra...        0.862734\n",
       "Pipeline(memory=None,\\n     steps=[('model', XG...        0.878850"
      ]
     },
     "execution_count": 33,
     "metadata": {},
     "output_type": "execute_result"
    }
   ],
   "source": [
    "results_list_train = []\n",
    "results_list_train.append (results_train)\n",
    "df_train = pd.DataFrame(data=results_list_train).T\n",
    "df_train.columns=['accuracy_train']\n",
    "\n",
    "df_train"
   ]
  },
  {
   "cell_type": "code",
   "execution_count": null,
   "metadata": {},
   "outputs": [],
   "source": []
  },
  {
   "cell_type": "code",
   "execution_count": 34,
   "metadata": {},
   "outputs": [
    {
     "data": {
      "text/html": [
       "<div>\n",
       "<style scoped>\n",
       "    .dataframe tbody tr th:only-of-type {\n",
       "        vertical-align: middle;\n",
       "    }\n",
       "\n",
       "    .dataframe tbody tr th {\n",
       "        vertical-align: top;\n",
       "    }\n",
       "\n",
       "    .dataframe thead th {\n",
       "        text-align: right;\n",
       "    }\n",
       "</style>\n",
       "<table border=\"1\" class=\"dataframe\">\n",
       "  <thead>\n",
       "    <tr style=\"text-align: right;\">\n",
       "      <th></th>\n",
       "      <th>accuracy_test</th>\n",
       "    </tr>\n",
       "  </thead>\n",
       "  <tbody>\n",
       "    <tr>\n",
       "      <th>Pipeline(memory=None,\\n     steps=[('standarization', StandardScaler(copy=True, with_mean=True, with_std=True)), ('model', LogisticRegression(C=1, class_weight=None, dual=False, fit_intercept=True,\\n          intercept_scaling=1, max_iter=100, multi_class='warn',\\n          n_jobs=None, penalty='l1', random_state=None, solver='warn',\\n          tol=0.0001, verbose=0, warm_start=False))])</th>\n",
       "      <td>0.854706</td>\n",
       "    </tr>\n",
       "    <tr>\n",
       "      <th>Pipeline(memory=None,\\n     steps=[('model', MultinomialNB(alpha=1.0, class_prior=None, fit_prior=True))])</th>\n",
       "      <td>0.782502</td>\n",
       "    </tr>\n",
       "    <tr>\n",
       "      <th>Pipeline(memory=None,\\n     steps=[('model', DecisionTreeClassifier(class_weight=None, criterion='gini', max_depth=10,\\n            max_features=None, max_leaf_nodes=None,\\n            min_impurity_decrease=0.0, min_impurity_split=None,\\n            min_samples_leaf=10, min_samples_split=2,\\n            min_weight_fraction_leaf=0.0, presort=False, random_state=None,\\n            splitter='best'))])</th>\n",
       "      <td>0.862008</td>\n",
       "    </tr>\n",
       "    <tr>\n",
       "      <th>Pipeline(memory=None,\\n     steps=[('model', RandomForestClassifier(bootstrap=True, class_weight=None, criterion='gini',\\n            max_depth=10, max_features='auto', max_leaf_nodes=None,\\n            min_impurity_decrease=0.0, min_impurity_split=None,\\n            min_samples_leaf=5, min_samples_split=2,\\n            min_weight_fraction_leaf=0.0, n_estimators=150, n_jobs=None,\\n            oob_score=False, random_state=None, verbose=0,\\n            warm_start=False))])</th>\n",
       "      <td>0.862827</td>\n",
       "    </tr>\n",
       "    <tr>\n",
       "      <th>Pipeline(memory=None,\\n     steps=[('model', XGBClassifier(base_score=0.5, booster='gbtree', colsample_bylevel=1,\\n       colsample_bytree=1, gamma=0, learning_rate=0.2, max_delta_step=0,\\n       max_depth=7, min_child_weight=15, missing=None, n_estimators=100,\\n       n_jobs=1, nthread=None, objective='binary:logistic', random_state=0,\\n       reg_alpha=0, reg_lambda=1, scale_pos_weight=1, seed=None,\\n       silent=True, subsample=1))])</th>\n",
       "      <td>0.874838</td>\n",
       "    </tr>\n",
       "  </tbody>\n",
       "</table>\n",
       "</div>"
      ],
      "text/plain": [
       "                                                    accuracy_test\n",
       "Pipeline(memory=None,\\n     steps=[('standariza...       0.854706\n",
       "Pipeline(memory=None,\\n     steps=[('model', Mu...       0.782502\n",
       "Pipeline(memory=None,\\n     steps=[('model', De...       0.862008\n",
       "Pipeline(memory=None,\\n     steps=[('model', Ra...       0.862827\n",
       "Pipeline(memory=None,\\n     steps=[('model', XG...       0.874838"
      ]
     },
     "execution_count": 34,
     "metadata": {},
     "output_type": "execute_result"
    }
   ],
   "source": [
    "results_list_test = []\n",
    "results_list_test.append (results_test)\n",
    "df_test = pd.DataFrame(data=results_list_test).T\n",
    "df_test.columns=['accuracy_test']\n",
    "\n",
    "df_test"
   ]
  },
  {
   "cell_type": "code",
   "execution_count": null,
   "metadata": {},
   "outputs": [],
   "source": []
  },
  {
   "cell_type": "code",
   "execution_count": 35,
   "metadata": {},
   "outputs": [
    {
     "data": {
      "text/html": [
       "<div>\n",
       "<style scoped>\n",
       "    .dataframe tbody tr th:only-of-type {\n",
       "        vertical-align: middle;\n",
       "    }\n",
       "\n",
       "    .dataframe tbody tr th {\n",
       "        vertical-align: top;\n",
       "    }\n",
       "\n",
       "    .dataframe thead th {\n",
       "        text-align: right;\n",
       "    }\n",
       "</style>\n",
       "<table border=\"1\" class=\"dataframe\">\n",
       "  <thead>\n",
       "    <tr style=\"text-align: right;\">\n",
       "      <th></th>\n",
       "      <th>accuracy_train</th>\n",
       "      <th>accuracy_test</th>\n",
       "    </tr>\n",
       "  </thead>\n",
       "  <tbody>\n",
       "    <tr>\n",
       "      <th>Pipeline(memory=None,\\n     steps=[('standarization', StandardScaler(copy=True, with_mean=True, with_std=True)), ('model', LogisticRegression(C=1, class_weight=None, dual=False, fit_intercept=True,\\n          intercept_scaling=1, max_iter=100, multi_class='warn',\\n          n_jobs=None, penalty='l1', random_state=None, solver='warn',\\n          tol=0.0001, verbose=0, warm_start=False))])</th>\n",
       "      <td>0.850624</td>\n",
       "      <td>0.854706</td>\n",
       "    </tr>\n",
       "    <tr>\n",
       "      <th>Pipeline(memory=None,\\n     steps=[('model', MultinomialNB(alpha=1.0, class_prior=None, fit_prior=True))])</th>\n",
       "      <td>0.779403</td>\n",
       "      <td>0.782502</td>\n",
       "    </tr>\n",
       "    <tr>\n",
       "      <th>Pipeline(memory=None,\\n     steps=[('model', DecisionTreeClassifier(class_weight=None, criterion='gini', max_depth=10,\\n            max_features=None, max_leaf_nodes=None,\\n            min_impurity_decrease=0.0, min_impurity_split=None,\\n            min_samples_leaf=10, min_samples_split=2,\\n            min_weight_fraction_leaf=0.0, presort=False, random_state=None,\\n            splitter='best'))])</th>\n",
       "      <td>0.866624</td>\n",
       "      <td>0.862008</td>\n",
       "    </tr>\n",
       "    <tr>\n",
       "      <th>Pipeline(memory=None,\\n     steps=[('model', RandomForestClassifier(bootstrap=True, class_weight=None, criterion='gini',\\n            max_depth=10, max_features='auto', max_leaf_nodes=None,\\n            min_impurity_decrease=0.0, min_impurity_split=None,\\n            min_samples_leaf=5, min_samples_split=2,\\n            min_weight_fraction_leaf=0.0, n_estimators=150, n_jobs=None,\\n            oob_score=False, random_state=None, verbose=0,\\n            warm_start=False))])</th>\n",
       "      <td>0.862734</td>\n",
       "      <td>0.862827</td>\n",
       "    </tr>\n",
       "    <tr>\n",
       "      <th>Pipeline(memory=None,\\n     steps=[('model', XGBClassifier(base_score=0.5, booster='gbtree', colsample_bylevel=1,\\n       colsample_bytree=1, gamma=0, learning_rate=0.2, max_delta_step=0,\\n       max_depth=7, min_child_weight=15, missing=None, n_estimators=100,\\n       n_jobs=1, nthread=None, objective='binary:logistic', random_state=0,\\n       reg_alpha=0, reg_lambda=1, scale_pos_weight=1, seed=None,\\n       silent=True, subsample=1))])</th>\n",
       "      <td>0.878850</td>\n",
       "      <td>0.874838</td>\n",
       "    </tr>\n",
       "  </tbody>\n",
       "</table>\n",
       "</div>"
      ],
      "text/plain": [
       "                                                    accuracy_train  \\\n",
       "Pipeline(memory=None,\\n     steps=[('standariza...        0.850624   \n",
       "Pipeline(memory=None,\\n     steps=[('model', Mu...        0.779403   \n",
       "Pipeline(memory=None,\\n     steps=[('model', De...        0.866624   \n",
       "Pipeline(memory=None,\\n     steps=[('model', Ra...        0.862734   \n",
       "Pipeline(memory=None,\\n     steps=[('model', XG...        0.878850   \n",
       "\n",
       "                                                    accuracy_test  \n",
       "Pipeline(memory=None,\\n     steps=[('standariza...       0.854706  \n",
       "Pipeline(memory=None,\\n     steps=[('model', Mu...       0.782502  \n",
       "Pipeline(memory=None,\\n     steps=[('model', De...       0.862008  \n",
       "Pipeline(memory=None,\\n     steps=[('model', Ra...       0.862827  \n",
       "Pipeline(memory=None,\\n     steps=[('model', XG...       0.874838  "
      ]
     },
     "execution_count": 35,
     "metadata": {},
     "output_type": "execute_result"
    }
   ],
   "source": [
    "df = df_train.join(df_test, how = \"inner\" )\n",
    "\n",
    "df"
   ]
  },
  {
   "cell_type": "code",
   "execution_count": 40,
   "metadata": {},
   "outputs": [
    {
     "data": {
      "text/plain": [
       "{'model__learning_rate': 0.2,\n",
       " 'model__max_depth': 7,\n",
       " 'model__min_child_weight': 15,\n",
       " 'model__n_estimators': 100}"
      ]
     },
     "execution_count": 40,
     "metadata": {},
     "output_type": "execute_result"
    }
   ],
   "source": [
    "gs.best_params_"
   ]
  },
  {
   "cell_type": "code",
   "execution_count": null,
   "metadata": {},
   "outputs": [],
   "source": []
  },
  {
   "cell_type": "markdown",
   "metadata": {},
   "source": [
    "**Classification report**"
   ]
  },
  {
   "cell_type": "code",
   "execution_count": 36,
   "metadata": {},
   "outputs": [
    {
     "name": "stdout",
     "output_type": "stream",
     "text": [
      "              precision    recall  f1-score   support\n",
      "\n",
      "           0       0.89      0.95      0.92     11166\n",
      "           1       0.79      0.64      0.71      3487\n",
      "\n",
      "   micro avg       0.87      0.87      0.87     14653\n",
      "   macro avg       0.84      0.79      0.81     14653\n",
      "weighted avg       0.87      0.87      0.87     14653\n",
      "\n"
     ]
    }
   ],
   "source": [
    "from sklearn.metrics import precision_score, recall_score, f1_score, classification_report\n",
    "\n",
    "print (classification_report(y_pred=gs.best_estimator_.predict(X_test), y_true=y_test)) "
   ]
  },
  {
   "cell_type": "markdown",
   "metadata": {},
   "source": [
    "**ROC CURVE**"
   ]
  },
  {
   "cell_type": "code",
   "execution_count": 38,
   "metadata": {},
   "outputs": [
    {
     "data": {
      "image/png": "[encoded data removed]",
      "text/plain": [
       "<Figure size 432x288 with 1 Axes>"
      ]
     },
     "metadata": {},
     "output_type": "display_data"
    }
   ],
   "source": [
    "from sklearn.metrics import roc_curve\n",
    "probability = gs.best_estimator_.predict_proba (X_test)[:,1]\n",
    "roc_results = roc_curve(y_true=y_test, y_score=probability)\n",
    "fpr, tpr, _ = roc_results\n",
    "\n",
    "from matplotlib import pyplot as plt\n",
    "plt.scatter (fpr, tpr)\n",
    "plt.show()"
   ]
  },
  {
   "cell_type": "markdown",
   "metadata": {},
   "source": [
    "**ROC AUC SCORE**"
   ]
  },
  {
   "cell_type": "code",
   "execution_count": 39,
   "metadata": {},
   "outputs": [
    {
     "data": {
      "text/plain": [
       "0.79"
      ]
     },
     "execution_count": 39,
     "metadata": {},
     "output_type": "execute_result"
    }
   ],
   "source": [
    "from sklearn.metrics import roc_auc_score\n",
    "\n",
    "np.round(roc_auc_score(y_score=gs.best_estimator_.predict(X_test), y_true=y_test),2)"
   ]
  },
  {
   "cell_type": "markdown",
   "metadata": {},
   "source": [
    "**The feature_importances **"
   ]
  },
  {
   "cell_type": "code",
   "execution_count": 51,
   "metadata": {},
   "outputs": [],
   "source": [
    "from xgboost import plot_importance\n",
    "from matplotlib import pyplot as plt"
   ]
  },
  {
   "cell_type": "code",
   "execution_count": 52,
   "metadata": {},
   "outputs": [
    {
     "data": {
      "text/plain": [
       "<matplotlib.axes._subplots.AxesSubplot at 0x24ad462a5f8>"
      ]
     },
     "execution_count": 52,
     "metadata": {},
     "output_type": "execute_result"
    },
    {
     "data": {
      "image/png": "[encoded data removed]",
      "text/plain": [
       "<Figure size 432x288 with 1 Axes>"
      ]
     },
     "metadata": {},
     "output_type": "display_data"
    }
   ],
   "source": [
    "plot_importance(booster=gs.best_estimator_.steps[0][1], max_num_features=15, importance_type='weight')"
   ]
  },
  {
   "cell_type": "markdown",
   "metadata": {},
   "source": [
    "Age, hours per week, education-num, capital gain and capitall loss are used mostly to split the data across all trees."
   ]
  },
  {
   "cell_type": "code",
   "execution_count": 54,
   "metadata": {},
   "outputs": [
    {
     "data": {
      "text/plain": [
       "<matplotlib.axes._subplots.AxesSubplot at 0x24ad45607f0>"
      ]
     },
     "execution_count": 54,
     "metadata": {},
     "output_type": "execute_result"
    },
    {
     "data": {
      "image/png": "[encoded data removed]",
      "text/plain": [
       "<Figure size 432x288 with 1 Axes>"
      ]
     },
     "metadata": {},
     "output_type": "display_data"
    }
   ],
   "source": [
    "plot_importance(booster=gs.best_estimator_.steps[0][1], max_num_features=15, importance_type='gain')"
   ]
  },
  {
   "cell_type": "markdown",
   "metadata": {},
   "source": [
    "marital_status_Married, capital_gain, education_num give the most gain cross all splits the features are used"
   ]
  },
  {
   "cell_type": "code",
   "execution_count": null,
   "metadata": {},
   "outputs": [],
   "source": []
  },
  {
   "cell_type": "markdown",
   "metadata": {},
   "source": [
    "# RandomizedSearchCV for XGBoost - less time-consuming ?"
   ]
  },
  {
   "cell_type": "code",
   "execution_count": 57,
   "metadata": {},
   "outputs": [],
   "source": [
    "from sklearn.model_selection import RandomizedSearchCV\n",
    "import xgboost as xgb\n",
    "from xgboost import XGBClassifier"
   ]
  },
  {
   "cell_type": "code",
   "execution_count": 61,
   "metadata": {},
   "outputs": [],
   "source": [
    "estimator = XGBClassifier(n_jobs = -1)\n",
    "\n",
    "param_distributions_XGB = {\"learning_rate\":[0.1, 0.2], \n",
    "                           \"n_estimators\": [100, 150, 200], \n",
    "                           \"max_depth\":[5, 7, 10], \n",
    "                           'min_child_weight':[5, 10, 15]}"
   ]
  },
  {
   "cell_type": "code",
   "execution_count": 62,
   "metadata": {},
   "outputs": [],
   "source": [
    "results_XGB_train = {}\n",
    "results_XGB_test = {}"
   ]
  },
  {
   "cell_type": "code",
   "execution_count": 63,
   "metadata": {},
   "outputs": [
    {
     "name": "stdout",
     "output_type": "stream",
     "text": [
      "Inference Time: 16.91 Minutes\n"
     ]
    }
   ],
   "source": [
    "inference_start = time.time()\n",
    "\n",
    "rs_XGB = RandomizedSearchCV (estimator=estimator, param_distributions=param_distributions_XGB, cv = 10, n_iter = 5, scoring=\"accuracy\")\n",
    "\n",
    "rs_XGB.fit(X_train, y_train)\n",
    "\n",
    "result_train = accuracy_score(y_pred=rs_XGB.best_estimator_.predict(X_train), y_true=y_train)\n",
    "results_XGB_train.update({rs_XGB.best_estimator_:result_train})\n",
    "\n",
    "result_test = accuracy_score(y_pred=rs_XGB.best_estimator_.predict(X_test), y_true=y_test )\n",
    "results_XGB_test.update({rs_XGB.best_estimator_:result_test})\n",
    "\n",
    "inference_end = time.time()\n",
    "\n",
    "print('Inference Time: %0.2f Minutes'%((inference_end - inference_start)/60))"
   ]
  },
  {
   "cell_type": "code",
   "execution_count": 65,
   "metadata": {},
   "outputs": [
    {
     "data": {
      "text/html": [
       "<div>\n",
       "<style scoped>\n",
       "    .dataframe tbody tr th:only-of-type {\n",
       "        vertical-align: middle;\n",
       "    }\n",
       "\n",
       "    .dataframe tbody tr th {\n",
       "        vertical-align: top;\n",
       "    }\n",
       "\n",
       "    .dataframe thead th {\n",
       "        text-align: right;\n",
       "    }\n",
       "</style>\n",
       "<table border=\"1\" class=\"dataframe\">\n",
       "  <thead>\n",
       "    <tr style=\"text-align: right;\">\n",
       "      <th></th>\n",
       "      <th>accuracy_test</th>\n",
       "    </tr>\n",
       "  </thead>\n",
       "  <tbody>\n",
       "    <tr>\n",
       "      <th>XGBClassifier(base_score=0.5, booster='gbtree', colsample_bylevel=1,\\n       colsample_bytree=1, gamma=0, learning_rate=0.1, max_delta_step=0,\\n       max_depth=7, min_child_weight=5, missing=None, n_estimators=100,\\n       n_jobs=-1, nthread=None, objective='binary:logistic',\\n       random_state=0, reg_alpha=0, reg_lambda=1, scale_pos_weight=1,\\n       seed=None, silent=True, subsample=1)</th>\n",
       "      <td>0.878002</td>\n",
       "    </tr>\n",
       "  </tbody>\n",
       "</table>\n",
       "</div>"
      ],
      "text/plain": [
       "                                                    accuracy_test\n",
       "XGBClassifier(base_score=0.5, booster='gbtree',...       0.878002"
      ]
     },
     "execution_count": 65,
     "metadata": {},
     "output_type": "execute_result"
    }
   ],
   "source": [
    "result_XGB_train = []\n",
    "result_XGB_train.append(results_XGB_train)\n",
    "\n",
    "df_XGB_train = pd.DataFrame(data=result_XGB_train).T\n",
    "df_XGB_train.columns = [\"accuracy_test\"]\n",
    "\n",
    "df_XGB_train"
   ]
  },
  {
   "cell_type": "code",
   "execution_count": 66,
   "metadata": {},
   "outputs": [
    {
     "data": {
      "text/html": [
       "<div>\n",
       "<style scoped>\n",
       "    .dataframe tbody tr th:only-of-type {\n",
       "        vertical-align: middle;\n",
       "    }\n",
       "\n",
       "    .dataframe tbody tr th {\n",
       "        vertical-align: top;\n",
       "    }\n",
       "\n",
       "    .dataframe thead th {\n",
       "        text-align: right;\n",
       "    }\n",
       "</style>\n",
       "<table border=\"1\" class=\"dataframe\">\n",
       "  <thead>\n",
       "    <tr style=\"text-align: right;\">\n",
       "      <th></th>\n",
       "      <th>accuracy_train</th>\n",
       "    </tr>\n",
       "  </thead>\n",
       "  <tbody>\n",
       "    <tr>\n",
       "      <th>XGBClassifier(base_score=0.5, booster='gbtree', colsample_bylevel=1,\\n       colsample_bytree=1, gamma=0, learning_rate=0.1, max_delta_step=0,\\n       max_depth=7, min_child_weight=5, missing=None, n_estimators=100,\\n       n_jobs=-1, nthread=None, objective='binary:logistic',\\n       random_state=0, reg_alpha=0, reg_lambda=1, scale_pos_weight=1,\\n       seed=None, silent=True, subsample=1)</th>\n",
       "      <td>0.873064</td>\n",
       "    </tr>\n",
       "  </tbody>\n",
       "</table>\n",
       "</div>"
      ],
      "text/plain": [
       "                                                    accuracy_train\n",
       "XGBClassifier(base_score=0.5, booster='gbtree',...        0.873064"
      ]
     },
     "execution_count": 66,
     "metadata": {},
     "output_type": "execute_result"
    }
   ],
   "source": [
    "result_XGB_test= []\n",
    "result_XGB_test.append(results_XGB_test)\n",
    "\n",
    "df_XGB_test = pd.DataFrame(data=result_XGB_test).T\n",
    "df_XGB_test.columns = [\"accuracy_train\"]\n",
    "\n",
    "df_XGB_test"
   ]
  },
  {
   "cell_type": "code",
   "execution_count": 67,
   "metadata": {},
   "outputs": [
    {
     "data": {
      "text/html": [
       "<div>\n",
       "<style scoped>\n",
       "    .dataframe tbody tr th:only-of-type {\n",
       "        vertical-align: middle;\n",
       "    }\n",
       "\n",
       "    .dataframe tbody tr th {\n",
       "        vertical-align: top;\n",
       "    }\n",
       "\n",
       "    .dataframe thead th {\n",
       "        text-align: right;\n",
       "    }\n",
       "</style>\n",
       "<table border=\"1\" class=\"dataframe\">\n",
       "  <thead>\n",
       "    <tr style=\"text-align: right;\">\n",
       "      <th></th>\n",
       "      <th>accuracy_test</th>\n",
       "      <th>accuracy_train</th>\n",
       "    </tr>\n",
       "  </thead>\n",
       "  <tbody>\n",
       "    <tr>\n",
       "      <th>XGBClassifier(base_score=0.5, booster='gbtree', colsample_bylevel=1,\\n       colsample_bytree=1, gamma=0, learning_rate=0.1, max_delta_step=0,\\n       max_depth=7, min_child_weight=5, missing=None, n_estimators=100,\\n       n_jobs=-1, nthread=None, objective='binary:logistic',\\n       random_state=0, reg_alpha=0, reg_lambda=1, scale_pos_weight=1,\\n       seed=None, silent=True, subsample=1)</th>\n",
       "      <td>0.878002</td>\n",
       "      <td>0.873064</td>\n",
       "    </tr>\n",
       "  </tbody>\n",
       "</table>\n",
       "</div>"
      ],
      "text/plain": [
       "                                                    accuracy_test  \\\n",
       "XGBClassifier(base_score=0.5, booster='gbtree',...       0.878002   \n",
       "\n",
       "                                                    accuracy_train  \n",
       "XGBClassifier(base_score=0.5, booster='gbtree',...        0.873064  "
      ]
     },
     "execution_count": 67,
     "metadata": {},
     "output_type": "execute_result"
    }
   ],
   "source": [
    "df_XGB = df_XGB_train.join(df_XGB_test, how=\"inner\")\n",
    "\n",
    "df_XGB"
   ]
  },
  {
   "cell_type": "code",
   "execution_count": 64,
   "metadata": {},
   "outputs": [
    {
     "data": {
      "text/plain": [
       "{'n_estimators': 100,\n",
       " 'min_child_weight': 5,\n",
       " 'max_depth': 7,\n",
       " 'learning_rate': 0.1}"
      ]
     },
     "execution_count": 64,
     "metadata": {},
     "output_type": "execute_result"
    }
   ],
   "source": [
    "rs_XGB.best_params_"
   ]
  },
  {
   "cell_type": "code",
   "execution_count": 68,
   "metadata": {},
   "outputs": [
    {
     "data": {
      "text/plain": [
       "<matplotlib.axes._subplots.AxesSubplot at 0x24ad486f860>"
      ]
     },
     "execution_count": 68,
     "metadata": {},
     "output_type": "execute_result"
    },
    {
     "data": {
      "image/png": "[encoded data removed]",
      "text/plain": [
       "<Figure size 432x288 with 1 Axes>"
      ]
     },
     "metadata": {},
     "output_type": "display_data"
    }
   ],
   "source": [
    "plot_importance(booster=rs_XGB.best_estimator_, max_num_features=15, importance_type='weight')"
   ]
  },
  {
   "cell_type": "markdown",
   "metadata": {},
   "source": [
    "Age, hours per week, education-num, capital gain and capital loss are used mostly to split the data across all trees - the same as in GridSearch"
   ]
  },
  {
   "cell_type": "code",
   "execution_count": 69,
   "metadata": {
    "scrolled": true
   },
   "outputs": [
    {
     "data": {
      "text/plain": [
       "<matplotlib.axes._subplots.AxesSubplot at 0x24ad6122828>"
      ]
     },
     "execution_count": 69,
     "metadata": {},
     "output_type": "execute_result"
    },
    {
     "data": {
      "image/png": "[encoded data removed]",
      "text/plain": [
       "<Figure size 432x288 with 1 Axes>"
      ]
     },
     "metadata": {},
     "output_type": "display_data"
    }
   ],
   "source": [
    "plot_importance(booster=rs_XGB.best_estimator_, max_num_features=15, importance_type='gain')"
   ]
  },
  {
   "cell_type": "markdown",
   "metadata": {},
   "source": [
    "marital_status_Married, capital_gain, education_num give the most gain cross all splits the features are used - the same as in GridSearch"
   ]
  },
  {
   "cell_type": "markdown",
   "metadata": {},
   "source": [
    "** CONCLUSION - We should use RandomizedSearchCV for XGBooost **"
   ]
  },
  {
   "cell_type": "code",
   "execution_count": null,
   "metadata": {},
   "outputs": [],
   "source": []
  },
  {
   "cell_type": "markdown",
   "metadata": {},
   "source": [
    "# NEURAL NETWORK KERAS"
   ]
  },
  {
   "cell_type": "code",
   "execution_count": 71,
   "metadata": {},
   "outputs": [
    {
     "name": "stderr",
     "output_type": "stream",
     "text": [
      "C:\\ProgramData\\Anaconda3\\lib\\site-packages\\h5py\\__init__.py:36: FutureWarning: Conversion of the second argument of issubdtype from `float` to `np.floating` is deprecated. In future, it will be treated as `np.float64 == np.dtype(float).type`.\n",
      "  from ._conv import register_converters as _register_converters\n",
      "Using TensorFlow backend.\n"
     ]
    }
   ],
   "source": [
    "import keras\n",
    "\n",
    "from keras.models import Sequential, load_model\n",
    "from keras.layers import Dense, Dropout\n",
    "from keras.utils import to_categorical\n",
    "from keras.callbacks import EarlyStopping, ModelCheckpoint\n",
    "from keras.optimizers import SGD\n",
    "import matplotlib.pyplot as plt"
   ]
  },
  {
   "cell_type": "code",
   "execution_count": 72,
   "metadata": {},
   "outputs": [
    {
     "name": "stderr",
     "output_type": "stream",
     "text": [
      "C:\\ProgramData\\Anaconda3\\lib\\site-packages\\sklearn\\preprocessing\\data.py:323: DataConversionWarning: Data with input dtype uint8, int64 were all converted to float64 by MinMaxScaler.\n",
      "  return self.partial_fit(X, y)\n"
     ]
    }
   ],
   "source": [
    "from sklearn.preprocessing import MinMaxScaler\n",
    "\n",
    "scaler = MinMaxScaler()\n",
    "\n",
    "X_train_NN = scaler.fit_transform(X_train)\n",
    "X_test_NN = scaler.transform(X_test)\n",
    "\n",
    "n_cols = X_train_NN.shape[1]\n",
    "\n",
    "y_train_NN = to_categorical(y_train)\n",
    "y_test_NN = to_categorical(y_test)"
   ]
  },
  {
   "cell_type": "code",
   "execution_count": 73,
   "metadata": {},
   "outputs": [],
   "source": [
    "# Model1"
   ]
  },
  {
   "cell_type": "code",
   "execution_count": 74,
   "metadata": {},
   "outputs": [
    {
     "name": "stdout",
     "output_type": "stream",
     "text": [
      "Train on 23932 samples, validate on 10257 samples\n",
      "Epoch 1/30\n",
      " - 2s - loss: 0.3800 - acc: 0.8203 - val_loss: 0.3582 - val_acc: 0.8341\n",
      "Epoch 2/30\n",
      " - 1s - loss: 0.3426 - acc: 0.8383 - val_loss: 0.3354 - val_acc: 0.8411\n",
      "Epoch 3/30\n",
      " - 1s - loss: 0.3326 - acc: 0.8439 - val_loss: 0.3286 - val_acc: 0.8471\n",
      "Epoch 4/30\n",
      " - 1s - loss: 0.3262 - acc: 0.8472 - val_loss: 0.3221 - val_acc: 0.8516\n",
      "Epoch 5/30\n",
      " - 1s - loss: 0.3232 - acc: 0.8499 - val_loss: 0.3284 - val_acc: 0.8438\n",
      "Epoch 6/30\n",
      " - 1s - loss: 0.3213 - acc: 0.8493 - val_loss: 0.3195 - val_acc: 0.8509\n",
      "Epoch 7/30\n",
      " - 1s - loss: 0.3196 - acc: 0.8509 - val_loss: 0.3204 - val_acc: 0.8495\n",
      "Epoch 8/30\n",
      " - 1s - loss: 0.3184 - acc: 0.8520 - val_loss: 0.3240 - val_acc: 0.8481\n",
      "Epoch 9/30\n",
      " - 1s - loss: 0.3166 - acc: 0.8538 - val_loss: 0.3175 - val_acc: 0.8507\n",
      "Epoch 10/30\n",
      " - 1s - loss: 0.3159 - acc: 0.8525 - val_loss: 0.3190 - val_acc: 0.8527\n",
      "Epoch 11/30\n",
      " - 1s - loss: 0.3146 - acc: 0.8534 - val_loss: 0.3182 - val_acc: 0.8511\n",
      "Epoch 12/30\n",
      " - 1s - loss: 0.3141 - acc: 0.8535 - val_loss: 0.3227 - val_acc: 0.8464\n",
      "Epoch 13/30\n",
      " - 1s - loss: 0.3128 - acc: 0.8545 - val_loss: 0.3191 - val_acc: 0.8493\n",
      "Epoch 14/30\n",
      " - 1s - loss: 0.3124 - acc: 0.8537 - val_loss: 0.3140 - val_acc: 0.8541\n",
      "Epoch 15/30\n",
      " - 1s - loss: 0.3113 - acc: 0.8550 - val_loss: 0.3155 - val_acc: 0.8517\n",
      "Epoch 16/30\n",
      " - 1s - loss: 0.3101 - acc: 0.8561 - val_loss: 0.3268 - val_acc: 0.8463\n",
      "Epoch 17/30\n",
      " - 1s - loss: 0.3106 - acc: 0.8546 - val_loss: 0.3142 - val_acc: 0.8521\n",
      "Epoch 18/30\n",
      " - 1s - loss: 0.3092 - acc: 0.8544 - val_loss: 0.3164 - val_acc: 0.8521\n",
      "Epoch 19/30\n",
      " - 1s - loss: 0.3078 - acc: 0.8563 - val_loss: 0.3153 - val_acc: 0.8533\n",
      "Epoch 20/30\n",
      " - 1s - loss: 0.3082 - acc: 0.8552 - val_loss: 0.3164 - val_acc: 0.8522\n",
      "Epoch 21/30\n",
      " - 1s - loss: 0.3068 - acc: 0.8580 - val_loss: 0.3217 - val_acc: 0.8515\n",
      "Epoch 22/30\n",
      " - 1s - loss: 0.3065 - acc: 0.8563 - val_loss: 0.3176 - val_acc: 0.8512\n",
      "Epoch 23/30\n",
      " - 1s - loss: 0.3060 - acc: 0.8547 - val_loss: 0.3238 - val_acc: 0.8490\n",
      "Epoch 24/30\n",
      " - 1s - loss: 0.3057 - acc: 0.8582 - val_loss: 0.3151 - val_acc: 0.8531\n",
      "Epoch 25/30\n",
      " - 1s - loss: 0.3055 - acc: 0.8567 - val_loss: 0.3233 - val_acc: 0.8502\n",
      "Epoch 26/30\n",
      " - 1s - loss: 0.3042 - acc: 0.8593 - val_loss: 0.3166 - val_acc: 0.8551\n",
      "Epoch 27/30\n",
      " - 1s - loss: 0.3044 - acc: 0.8573 - val_loss: 0.3173 - val_acc: 0.8515\n",
      "Epoch 28/30\n",
      " - 1s - loss: 0.3034 - acc: 0.8590 - val_loss: 0.3158 - val_acc: 0.8522\n",
      "Epoch 29/30\n",
      " - 1s - loss: 0.3036 - acc: 0.8581 - val_loss: 0.3158 - val_acc: 0.8541\n",
      "Epoch 30/30\n",
      " - 1s - loss: 0.3023 - acc: 0.8599 - val_loss: 0.3164 - val_acc: 0.8568\n"
     ]
    },
    {
     "data": {
      "text/plain": [
       "<keras.callbacks.History at 0x24ad9a86dd8>"
      ]
     },
     "execution_count": 74,
     "metadata": {},
     "output_type": "execute_result"
    }
   ],
   "source": [
    "# Set up the model\n",
    "model = Sequential()\n",
    "\n",
    "# Adding layers\n",
    "model.add(Dense(64, activation = 'relu', input_shape = (n_cols,) ))\n",
    "model.add(Dense(2, activation = 'softmax'))\n",
    "\n",
    "# Model compile\n",
    "model.compile(optimizer = 'adam', loss = 'binary_crossentropy', metrics = ['accuracy'])\n",
    "\n",
    "\n",
    "# Early stopping\n",
    "Early_stopping_monitor = [\n",
    "            EarlyStopping(patience = 2, min_delta = 0.001),\n",
    "            #ModelCheckpoint(filepath='./my_nn_model.h5', save_best_only=True)\n",
    "            #ModelCheckpoint(filepath='weights.{epoch:02d}-{val_loss:.4f}.hdf5', save_best_only=True)            \n",
    "]\n",
    "\n",
    "# Fit the model\n",
    "model.fit(X_train_NN, y_train_NN, validation_split = 0.3, epochs = 30, verbose = 2 )\n",
    "          #,callbacks = Early_stopping_monitor)"
   ]
  },
  {
   "cell_type": "code",
   "execution_count": 75,
   "metadata": {},
   "outputs": [
    {
     "data": {
      "image/png": "[encoded data removed]",
      "text/plain": [
       "<Figure size 1080x360 with 1 Axes>"
      ]
     },
     "metadata": {},
     "output_type": "display_data"
    }
   ],
   "source": [
    "plt.figure(figsize=(15,5))\n",
    "\n",
    "plt.plot(model.history.history['acc'], label = 'train_acc', color = 'g')\n",
    "plt.plot(model.history.history['val_acc'], label = 'test_acc', color = 'r')\n",
    "\n",
    "plt.ylim(bottom = min(model.history.history['acc'] + model.history.history['val_acc']) - 0.005, \n",
    "         top = max(model.history.history['acc'] + model.history.history['val_acc']) + 0.005)\n",
    "\n",
    "plt.xticks(range(min(model.history.epoch) + 1, max(model.history.epoch)+1))\n",
    "\n",
    "plt.legend(loc = \"lower center\")\n",
    "\n",
    "plt.show()"
   ]
  },
  {
   "cell_type": "code",
   "execution_count": 76,
   "metadata": {},
   "outputs": [
    {
     "name": "stdout",
     "output_type": "stream",
     "text": [
      "34189/34189 [==============================] - 1s 26us/step\n",
      "14653/14653 [==============================] - 0s 22us/step\n",
      "Train acc: 0.860, Test acc: 0.855\n"
     ]
    }
   ],
   "source": [
    "# Evaluate the model\n",
    "\n",
    "train_loss, train_acc = model.evaluate(X_train_NN, y_train_NN)\n",
    "test_loss, test_acc = model.evaluate(X_test_NN, y_test_NN)\n",
    "\n",
    "print('Train acc: %.3f, Test acc: %.3f' % (train_acc, test_acc))"
   ]
  },
  {
   "cell_type": "code",
   "execution_count": null,
   "metadata": {},
   "outputs": [],
   "source": []
  },
  {
   "cell_type": "code",
   "execution_count": 77,
   "metadata": {},
   "outputs": [],
   "source": [
    "# Model2"
   ]
  },
  {
   "cell_type": "code",
   "execution_count": 78,
   "metadata": {},
   "outputs": [
    {
     "name": "stdout",
     "output_type": "stream",
     "text": [
      "Train on 23932 samples, validate on 10257 samples\n",
      "Epoch 1/30\n",
      " - 1s - loss: 0.3674 - acc: 0.8258 - val_loss: 0.3418 - val_acc: 0.8355\n",
      "Epoch 2/30\n",
      " - 1s - loss: 0.3365 - acc: 0.8406 - val_loss: 0.3312 - val_acc: 0.8458\n",
      "Epoch 3/30\n",
      " - 1s - loss: 0.3273 - acc: 0.8467 - val_loss: 0.3361 - val_acc: 0.8421\n",
      "Epoch 4/30\n",
      " - 1s - loss: 0.3231 - acc: 0.8486 - val_loss: 0.3313 - val_acc: 0.8419\n",
      "Epoch 5/30\n",
      " - 1s - loss: 0.3209 - acc: 0.8494 - val_loss: 0.3188 - val_acc: 0.8498\n",
      "Epoch 6/30\n",
      " - 1s - loss: 0.3194 - acc: 0.8503 - val_loss: 0.3196 - val_acc: 0.8509\n",
      "Epoch 7/30\n",
      " - 1s - loss: 0.3166 - acc: 0.8528 - val_loss: 0.3185 - val_acc: 0.8516\n",
      "Epoch 8/30\n",
      " - 1s - loss: 0.3155 - acc: 0.8522 - val_loss: 0.3178 - val_acc: 0.8520\n",
      "Epoch 9/30\n",
      " - 1s - loss: 0.3133 - acc: 0.8537 - val_loss: 0.3233 - val_acc: 0.8456\n",
      "Epoch 10/30\n",
      " - 1s - loss: 0.3123 - acc: 0.8547 - val_loss: 0.3179 - val_acc: 0.8497\n",
      "Epoch 11/30\n",
      " - 1s - loss: 0.3111 - acc: 0.8550 - val_loss: 0.3161 - val_acc: 0.8546\n",
      "Epoch 12/30\n",
      " - 1s - loss: 0.3099 - acc: 0.8549 - val_loss: 0.3148 - val_acc: 0.8548\n",
      "Epoch 13/30\n",
      " - 1s - loss: 0.3089 - acc: 0.8561 - val_loss: 0.3157 - val_acc: 0.8530\n",
      "Epoch 14/30\n",
      " - 1s - loss: 0.3078 - acc: 0.8570 - val_loss: 0.3173 - val_acc: 0.8506\n",
      "Epoch 15/30\n",
      " - 1s - loss: 0.3075 - acc: 0.8559 - val_loss: 0.3297 - val_acc: 0.8481\n",
      "Epoch 16/30\n",
      " - 1s - loss: 0.3055 - acc: 0.8577 - val_loss: 0.3168 - val_acc: 0.8510\n",
      "Epoch 17/30\n",
      " - 1s - loss: 0.3048 - acc: 0.8577 - val_loss: 0.3176 - val_acc: 0.8500\n",
      "Epoch 18/30\n",
      " - 1s - loss: 0.3044 - acc: 0.8583 - val_loss: 0.3178 - val_acc: 0.8543\n",
      "Epoch 19/30\n",
      " - 1s - loss: 0.3035 - acc: 0.8584 - val_loss: 0.3170 - val_acc: 0.8511\n",
      "Epoch 20/30\n",
      " - 1s - loss: 0.3038 - acc: 0.8576 - val_loss: 0.3180 - val_acc: 0.8536\n",
      "Epoch 21/30\n",
      " - 1s - loss: 0.3023 - acc: 0.8599 - val_loss: 0.3178 - val_acc: 0.8521\n",
      "Epoch 22/30\n",
      " - 1s - loss: 0.3014 - acc: 0.8590 - val_loss: 0.3179 - val_acc: 0.8522\n",
      "Epoch 23/30\n",
      " - 1s - loss: 0.3006 - acc: 0.8586 - val_loss: 0.3188 - val_acc: 0.8519\n",
      "Epoch 24/30\n",
      " - 1s - loss: 0.3003 - acc: 0.8594 - val_loss: 0.3189 - val_acc: 0.8539\n",
      "Epoch 25/30\n",
      " - 1s - loss: 0.2993 - acc: 0.8604 - val_loss: 0.3208 - val_acc: 0.8515\n",
      "Epoch 26/30\n",
      " - 1s - loss: 0.2987 - acc: 0.8598 - val_loss: 0.3254 - val_acc: 0.8464\n",
      "Epoch 27/30\n",
      " - 1s - loss: 0.2991 - acc: 0.8589 - val_loss: 0.3185 - val_acc: 0.8512\n",
      "Epoch 28/30\n",
      " - 1s - loss: 0.2972 - acc: 0.8605 - val_loss: 0.3216 - val_acc: 0.8513\n",
      "Epoch 29/30\n",
      " - 1s - loss: 0.2974 - acc: 0.8617 - val_loss: 0.3227 - val_acc: 0.8490\n",
      "Epoch 30/30\n",
      " - 1s - loss: 0.2962 - acc: 0.8637 - val_loss: 0.3240 - val_acc: 0.8482\n"
     ]
    },
    {
     "data": {
      "text/plain": [
       "<keras.callbacks.History at 0x24ad9fd2198>"
      ]
     },
     "execution_count": 78,
     "metadata": {},
     "output_type": "execute_result"
    }
   ],
   "source": [
    "# Set up the model\n",
    "model = Sequential()\n",
    "\n",
    "# Adding layers\n",
    "model.add(Dense(128, activation = 'relu', input_shape = (n_cols,) ))\n",
    "model.add(Dense(2, activation = 'softmax'))\n",
    "\n",
    "# Model compile\n",
    "model.compile(optimizer = 'adam', loss = 'binary_crossentropy', metrics = ['accuracy'])\n",
    "\n",
    "\n",
    "# Early stopping\n",
    "Early_stopping_monitor = [\n",
    "            EarlyStopping(patience = 2, min_delta = 0.001),\n",
    "            #ModelCheckpoint(filepath='./my_nn_model.h5', save_best_only=True)\n",
    "            #ModelCheckpoint(filepath='weights.{epoch:02d}-{val_loss:.4f}.hdf5', save_best_only=True)            \n",
    "]\n",
    "\n",
    "# Fit the model\n",
    "model.fit(X_train_NN, y_train_NN, validation_split = 0.3, epochs = 30, verbose = 2 )\n",
    "          #,callbacks = Early_stopping_monitor)\n"
   ]
  },
  {
   "cell_type": "code",
   "execution_count": 79,
   "metadata": {},
   "outputs": [
    {
     "data": {
      "image/png": "[encoded data removed]",
      "text/plain": [
       "<Figure size 1080x360 with 1 Axes>"
      ]
     },
     "metadata": {},
     "output_type": "display_data"
    }
   ],
   "source": [
    "plt.figure(figsize=(15,5))\n",
    "\n",
    "plt.plot(model.history.history['acc'], label = 'train_acc', color = 'g')\n",
    "plt.plot(model.history.history['val_acc'], label = 'test_acc', color = 'r')\n",
    "\n",
    "plt.ylim(bottom = min(model.history.history['acc'] + model.history.history['val_acc']) - 0.005, \n",
    "         top = max(model.history.history['acc'] + model.history.history['val_acc']) + 0.005)\n",
    "\n",
    "plt.xticks(range(min(model.history.epoch) + 1, max(model.history.epoch)+1))\n",
    "\n",
    "plt.legend(loc = \"lower center\")\n",
    "\n",
    "plt.show()"
   ]
  },
  {
   "cell_type": "code",
   "execution_count": 80,
   "metadata": {},
   "outputs": [
    {
     "name": "stdout",
     "output_type": "stream",
     "text": [
      "34189/34189 [==============================] - 0s 15us/step\n",
      "14653/14653 [==============================] - 0s 15us/step\n",
      "Train acc: 0.857, Test acc: 0.849\n"
     ]
    }
   ],
   "source": [
    "# Evaluate the model\n",
    "\n",
    "train_loss, train_acc = model.evaluate(X_train_NN, y_train_NN)\n",
    "test_loss, test_acc = model.evaluate(X_test_NN, y_test_NN)\n",
    "\n",
    "print('Train acc: %.3f, Test acc: %.3f' % (train_acc, test_acc))"
   ]
  },
  {
   "cell_type": "code",
   "execution_count": null,
   "metadata": {},
   "outputs": [],
   "source": []
  },
  {
   "cell_type": "code",
   "execution_count": 81,
   "metadata": {},
   "outputs": [],
   "source": [
    "# Model3"
   ]
  },
  {
   "cell_type": "code",
   "execution_count": 82,
   "metadata": {},
   "outputs": [
    {
     "name": "stdout",
     "output_type": "stream",
     "text": [
      "Train on 23932 samples, validate on 10257 samples\n",
      "Epoch 1/30\n",
      " - 1s - loss: 0.3750 - acc: 0.8225 - val_loss: 0.3543 - val_acc: 0.8337\n",
      "Epoch 2/30\n",
      " - 1s - loss: 0.3371 - acc: 0.8418 - val_loss: 0.3278 - val_acc: 0.8488\n",
      "Epoch 3/30\n",
      " - 1s - loss: 0.3293 - acc: 0.8474 - val_loss: 0.3246 - val_acc: 0.8495\n",
      "Epoch 4/30\n",
      " - 1s - loss: 0.3233 - acc: 0.8494 - val_loss: 0.3205 - val_acc: 0.8502\n",
      "Epoch 5/30\n",
      " - 1s - loss: 0.3205 - acc: 0.8505 - val_loss: 0.3198 - val_acc: 0.8514\n",
      "Epoch 6/30\n",
      " - 1s - loss: 0.3193 - acc: 0.8519 - val_loss: 0.3182 - val_acc: 0.8519\n",
      "Epoch 7/30\n",
      " - 1s - loss: 0.3155 - acc: 0.8530 - val_loss: 0.3190 - val_acc: 0.8514\n",
      "Epoch 8/30\n",
      " - 1s - loss: 0.3152 - acc: 0.8521 - val_loss: 0.3178 - val_acc: 0.8534\n",
      "Epoch 9/30\n",
      " - 1s - loss: 0.3133 - acc: 0.8526 - val_loss: 0.3181 - val_acc: 0.8536\n",
      "Epoch 10/30\n",
      " - 1s - loss: 0.3111 - acc: 0.8541 - val_loss: 0.3195 - val_acc: 0.8514\n",
      "Epoch 11/30\n",
      " - 1s - loss: 0.3101 - acc: 0.8555 - val_loss: 0.3153 - val_acc: 0.8542\n",
      "Epoch 12/30\n",
      " - 1s - loss: 0.3086 - acc: 0.8563 - val_loss: 0.3241 - val_acc: 0.8493\n",
      "Epoch 13/30\n",
      " - 1s - loss: 0.3078 - acc: 0.8543 - val_loss: 0.3168 - val_acc: 0.8530\n",
      "Epoch 14/30\n",
      " - 1s - loss: 0.3065 - acc: 0.8571 - val_loss: 0.3216 - val_acc: 0.8499\n",
      "Epoch 15/30\n",
      " - 1s - loss: 0.3044 - acc: 0.8589 - val_loss: 0.3182 - val_acc: 0.8541\n",
      "Epoch 16/30\n",
      " - 1s - loss: 0.3051 - acc: 0.8580 - val_loss: 0.3228 - val_acc: 0.8523\n",
      "Epoch 17/30\n",
      " - 1s - loss: 0.3033 - acc: 0.8598 - val_loss: 0.3239 - val_acc: 0.8526\n",
      "Epoch 18/30\n",
      " - 2s - loss: 0.3025 - acc: 0.8582 - val_loss: 0.3202 - val_acc: 0.8526\n",
      "Epoch 19/30\n",
      " - 1s - loss: 0.3013 - acc: 0.8588 - val_loss: 0.3245 - val_acc: 0.8496\n",
      "Epoch 20/30\n",
      " - 1s - loss: 0.2994 - acc: 0.8589 - val_loss: 0.3240 - val_acc: 0.8499\n",
      "Epoch 21/30\n",
      " - 1s - loss: 0.2999 - acc: 0.8596 - val_loss: 0.3217 - val_acc: 0.8526\n",
      "Epoch 22/30\n",
      " - 1s - loss: 0.2981 - acc: 0.8602 - val_loss: 0.3221 - val_acc: 0.8535\n",
      "Epoch 23/30\n",
      " - 1s - loss: 0.2971 - acc: 0.8611 - val_loss: 0.3279 - val_acc: 0.8487\n",
      "Epoch 24/30\n",
      " - 1s - loss: 0.2963 - acc: 0.8609 - val_loss: 0.3219 - val_acc: 0.8534\n",
      "Epoch 25/30\n",
      " - 1s - loss: 0.2961 - acc: 0.8601 - val_loss: 0.3238 - val_acc: 0.8497\n",
      "Epoch 26/30\n",
      " - 1s - loss: 0.2950 - acc: 0.8612 - val_loss: 0.3214 - val_acc: 0.8502\n",
      "Epoch 27/30\n",
      " - 1s - loss: 0.2934 - acc: 0.8615 - val_loss: 0.3252 - val_acc: 0.8519\n",
      "Epoch 28/30\n",
      " - 1s - loss: 0.2928 - acc: 0.8640 - val_loss: 0.3252 - val_acc: 0.8521\n",
      "Epoch 29/30\n",
      " - 1s - loss: 0.2917 - acc: 0.8642 - val_loss: 0.3271 - val_acc: 0.8506\n",
      "Epoch 30/30\n",
      " - 1s - loss: 0.2920 - acc: 0.8629 - val_loss: 0.3283 - val_acc: 0.8488\n"
     ]
    },
    {
     "data": {
      "text/plain": [
       "<keras.callbacks.History at 0x24adc79de48>"
      ]
     },
     "execution_count": 82,
     "metadata": {},
     "output_type": "execute_result"
    }
   ],
   "source": [
    "# Set up the model\n",
    "model = Sequential()\n",
    "\n",
    "# Adding layers\n",
    "model.add(Dense(64, activation = 'relu', input_shape = (n_cols,) ))\n",
    "model.add(Dense(32, activation = 'relu'))\n",
    "model.add(Dense(2, activation = 'softmax'))\n",
    "\n",
    "# Model compile\n",
    "model.compile(optimizer = 'adam', loss = 'binary_crossentropy', metrics = ['accuracy'])\n",
    "\n",
    "\n",
    "# Early stopping\n",
    "\n",
    "Early_stopping_monitor = [\n",
    "            EarlyStopping(patience = 2, min_delta = 0.001),\n",
    "            #ModelCheckpoint(filepath='./my_nn_model.h5', save_best_only=True)\n",
    "            #ModelCheckpoint(filepath='weights.{epoch:02d}-{val_loss:.4f}.hdf5', save_best_only=True)            \n",
    "]\n",
    "\n",
    "# Fit the model\n",
    "model.fit(X_train_NN, y_train_NN, validation_split = 0.3, epochs = 30, verbose = 2 )\n",
    "          #,callbacks = Early_stopping_monitor)\n"
   ]
  },
  {
   "cell_type": "code",
   "execution_count": 83,
   "metadata": {},
   "outputs": [
    {
     "data": {
      "image/png": "[encoded data removed]",
      "text/plain": [
       "<Figure size 1080x360 with 1 Axes>"
      ]
     },
     "metadata": {},
     "output_type": "display_data"
    }
   ],
   "source": [
    "plt.figure(figsize=(15,5))\n",
    "\n",
    "plt.plot(model.history.history['acc'], label = 'train_acc', color = 'g')\n",
    "plt.plot(model.history.history['val_acc'], label = 'test_acc', color = 'r')\n",
    "\n",
    "plt.ylim(bottom = min(model.history.history['acc'] + model.history.history['val_acc']) - 0.005, \n",
    "         top = max(model.history.history['acc'] + model.history.history['val_acc']) + 0.005)\n",
    "\n",
    "plt.xticks(range(min(model.history.epoch) + 1, max(model.history.epoch)+1))\n",
    "\n",
    "plt.legend(loc = \"lower center\")\n",
    "\n",
    "plt.show()"
   ]
  },
  {
   "cell_type": "code",
   "execution_count": 84,
   "metadata": {},
   "outputs": [
    {
     "name": "stdout",
     "output_type": "stream",
     "text": [
      "34189/34189 [==============================] - 1s 18us/step\n",
      "14653/14653 [==============================] - 0s 22us/step\n",
      "Train acc: 0.861, Test acc: 0.853\n"
     ]
    }
   ],
   "source": [
    "# Evaluate the model\n",
    "\n",
    "train_loss, train_acc = model.evaluate(X_train_NN, y_train_NN)\n",
    "test_loss, test_acc = model.evaluate(X_test_NN, y_test_NN)\n",
    "\n",
    "print('Train acc: %.3f, Test acc: %.3f' % (train_acc, test_acc))"
   ]
  },
  {
   "cell_type": "code",
   "execution_count": null,
   "metadata": {},
   "outputs": [],
   "source": []
  },
  {
   "cell_type": "code",
   "execution_count": 85,
   "metadata": {},
   "outputs": [],
   "source": [
    "# Model 4"
   ]
  },
  {
   "cell_type": "code",
   "execution_count": 86,
   "metadata": {},
   "outputs": [
    {
     "name": "stdout",
     "output_type": "stream",
     "text": [
      "Train on 23932 samples, validate on 10257 samples\n",
      "Epoch 1/30\n",
      "23932/23932 [==============================] - 2s 89us/step - loss: 0.4037 - acc: 0.8058 - val_loss: 0.3613 - val_acc: 0.8295\n",
      "Epoch 2/30\n",
      "23932/23932 [==============================] - 1s 57us/step - loss: 0.3659 - acc: 0.8279 - val_loss: 0.3470 - val_acc: 0.8338\n",
      "Epoch 3/30\n",
      "23932/23932 [==============================] - 1s 57us/step - loss: 0.3529 - acc: 0.8357 - val_loss: 0.3396 - val_acc: 0.8406\n",
      "Epoch 4/30\n",
      "23932/23932 [==============================] - 1s 59us/step - loss: 0.3453 - acc: 0.8394 - val_loss: 0.3301 - val_acc: 0.8436\n",
      "Epoch 5/30\n",
      "23932/23932 [==============================] - 1s 55us/step - loss: 0.3384 - acc: 0.8407 - val_loss: 0.3248 - val_acc: 0.8479\n",
      "Epoch 6/30\n",
      "23932/23932 [==============================] - 1s 59us/step - loss: 0.3348 - acc: 0.8432 - val_loss: 0.3256 - val_acc: 0.8474\n",
      "Epoch 7/30\n",
      "23932/23932 [==============================] - 1s 56us/step - loss: 0.3300 - acc: 0.8460 - val_loss: 0.3194 - val_acc: 0.8511\n",
      "Epoch 8/30\n",
      "23932/23932 [==============================] - 1s 61us/step - loss: 0.3298 - acc: 0.8464 - val_loss: 0.3179 - val_acc: 0.8530\n",
      "Epoch 9/30\n",
      "23932/23932 [==============================] - 2s 64us/step - loss: 0.3272 - acc: 0.8489 - val_loss: 0.3180 - val_acc: 0.8506\n",
      "Epoch 10/30\n",
      "23932/23932 [==============================] - 2s 65us/step - loss: 0.3260 - acc: 0.8466 - val_loss: 0.3154 - val_acc: 0.8526\n",
      "Epoch 11/30\n",
      "23932/23932 [==============================] - 1s 58us/step - loss: 0.3245 - acc: 0.8494 - val_loss: 0.3169 - val_acc: 0.8521\n",
      "Epoch 12/30\n",
      "23932/23932 [==============================] - 1s 56us/step - loss: 0.3223 - acc: 0.8508 - val_loss: 0.3173 - val_acc: 0.8549\n",
      "Epoch 13/30\n",
      "23932/23932 [==============================] - 1s 58us/step - loss: 0.3219 - acc: 0.8513 - val_loss: 0.3156 - val_acc: 0.8515\n",
      "Epoch 14/30\n",
      "23932/23932 [==============================] - 2s 63us/step - loss: 0.3202 - acc: 0.8499 - val_loss: 0.3147 - val_acc: 0.8526\n",
      "Epoch 15/30\n",
      "23932/23932 [==============================] - 1s 60us/step - loss: 0.3212 - acc: 0.8495 - val_loss: 0.3157 - val_acc: 0.8522\n",
      "Epoch 16/30\n",
      "23932/23932 [==============================] - 2s 64us/step - loss: 0.3208 - acc: 0.8500 - val_loss: 0.3162 - val_acc: 0.8549\n",
      "Epoch 17/30\n",
      "23932/23932 [==============================] - 1s 59us/step - loss: 0.3187 - acc: 0.8531 - val_loss: 0.3156 - val_acc: 0.8528\n",
      "Epoch 18/30\n",
      "23932/23932 [==============================] - 1s 62us/step - loss: 0.3187 - acc: 0.8524 - val_loss: 0.3145 - val_acc: 0.8534\n",
      "Epoch 19/30\n",
      "23932/23932 [==============================] - 1s 62us/step - loss: 0.3191 - acc: 0.8519 - val_loss: 0.3131 - val_acc: 0.8548\n",
      "Epoch 20/30\n",
      "23932/23932 [==============================] - 2s 70us/step - loss: 0.3193 - acc: 0.8510 - val_loss: 0.3132 - val_acc: 0.8548\n",
      "Epoch 21/30\n",
      "23932/23932 [==============================] - 1s 62us/step - loss: 0.3188 - acc: 0.8515 - val_loss: 0.3130 - val_acc: 0.8539\n",
      "Epoch 22/30\n",
      "23932/23932 [==============================] - 2s 66us/step - loss: 0.3177 - acc: 0.8517 - val_loss: 0.3145 - val_acc: 0.8527\n",
      "Epoch 23/30\n",
      "23932/23932 [==============================] - 1s 59us/step - loss: 0.3174 - acc: 0.8515 - val_loss: 0.3125 - val_acc: 0.8533\n",
      "Epoch 24/30\n",
      "23932/23932 [==============================] - 2s 63us/step - loss: 0.3151 - acc: 0.8545 - val_loss: 0.3150 - val_acc: 0.8514\n",
      "Epoch 25/30\n",
      "23932/23932 [==============================] - 2s 69us/step - loss: 0.3165 - acc: 0.8527 - val_loss: 0.3130 - val_acc: 0.8541\n",
      "Epoch 26/30\n",
      "23932/23932 [==============================] - 2s 79us/step - loss: 0.3151 - acc: 0.8525 - val_loss: 0.3122 - val_acc: 0.8524\n",
      "Epoch 27/30\n",
      "23932/23932 [==============================] - 2s 73us/step - loss: 0.3157 - acc: 0.8541 - val_loss: 0.3131 - val_acc: 0.8534\n",
      "Epoch 28/30\n",
      "23932/23932 [==============================] - 2s 66us/step - loss: 0.3157 - acc: 0.8522 - val_loss: 0.3122 - val_acc: 0.8532\n",
      "Epoch 29/30\n",
      "23932/23932 [==============================] - 1s 58us/step - loss: 0.3148 - acc: 0.8530 - val_loss: 0.3134 - val_acc: 0.8541\n",
      "Epoch 30/30\n",
      "23932/23932 [==============================] - 2s 66us/step - loss: 0.3148 - acc: 0.8533 - val_loss: 0.3135 - val_acc: 0.8534\n"
     ]
    },
    {
     "data": {
      "text/plain": [
       "<keras.callbacks.History at 0x24ada060208>"
      ]
     },
     "execution_count": 86,
     "metadata": {},
     "output_type": "execute_result"
    }
   ],
   "source": [
    "# Set up the model\n",
    "model = Sequential()\n",
    "\n",
    "# Adding layers\n",
    "model.add(Dense(64, activation = 'relu', input_shape = (n_cols,) ))\n",
    "model.add(Dropout(rate=0.5))\n",
    "model.add(Dense(32, activation = 'relu'))\n",
    "model.add(Dense(2, activation = 'softmax'))\n",
    "\n",
    "# Model compile\n",
    "model.compile(optimizer = 'adam', loss = 'binary_crossentropy', metrics = ['accuracy'])\n",
    "\n",
    "\n",
    "# Early stopping\n",
    "Early_stopping_monitor = [\n",
    "            EarlyStopping(patience = 2, min_delta = 0.001),\n",
    "            #ModelCheckpoint(filepath='./my_nn_model.h5', save_best_only=True)\n",
    "            #ModelCheckpoint(filepath='weights.{epoch:02d}-{val_loss:.4f}.hdf5', save_best_only=True)            \n",
    "]\n",
    "\n",
    "# Fit the model\n",
    "model.fit(X_train_NN, y_train_NN, validation_split = 0.3, epochs = 30, verbose = 1 )\n",
    "          #,callbacks = Early_stopping_monitor)"
   ]
  },
  {
   "cell_type": "code",
   "execution_count": 87,
   "metadata": {},
   "outputs": [
    {
     "data": {
      "image/png": "[encoded data removed]",
      "text/plain": [
       "<Figure size 1080x360 with 1 Axes>"
      ]
     },
     "metadata": {},
     "output_type": "display_data"
    }
   ],
   "source": [
    "plt.figure(figsize=(15,5))\n",
    "\n",
    "plt.plot(model.history.history['acc'], label = 'train_acc', color = 'g')\n",
    "plt.plot(model.history.history['val_acc'], label = 'test_acc', color = 'r')\n",
    "\n",
    "plt.ylim(bottom = min(model.history.history['acc'] + model.history.history['val_acc']) - 0.005, \n",
    "         top = max(model.history.history['acc'] + model.history.history['val_acc']) + 0.005)\n",
    "\n",
    "plt.xticks(range(min(model.history.epoch) + 1, max(model.history.epoch)+1))\n",
    "\n",
    "plt.legend(loc = \"lower center\")\n",
    "\n",
    "plt.show()"
   ]
  },
  {
   "cell_type": "code",
   "execution_count": 88,
   "metadata": {},
   "outputs": [
    {
     "name": "stdout",
     "output_type": "stream",
     "text": [
      "34189/34189 [==============================] - 1s 18us/step\n",
      "14653/14653 [==============================] - 0s 16us/step\n",
      "Train acc: 0.857, Test acc: 0.855\n"
     ]
    }
   ],
   "source": [
    "# Evaluate the model\n",
    "\n",
    "train_loss, train_acc = model.evaluate(X_train_NN, y_train_NN)\n",
    "test_loss, test_acc = model.evaluate(X_test_NN, y_test_NN)\n",
    "\n",
    "print('Train acc: %.3f, Test acc: %.3f' % (train_acc, test_acc))"
   ]
  },
  {
   "cell_type": "code",
   "execution_count": null,
   "metadata": {},
   "outputs": [],
   "source": []
  },
  {
   "cell_type": "code",
   "execution_count": 89,
   "metadata": {},
   "outputs": [],
   "source": [
    "# Model 5 "
   ]
  },
  {
   "cell_type": "code",
   "execution_count": 90,
   "metadata": {},
   "outputs": [
    {
     "name": "stdout",
     "output_type": "stream",
     "text": [
      "Train on 23932 samples, validate on 10257 samples\n",
      "Epoch 1/30\n",
      " - 2s - loss: 0.4225 - acc: 0.7948 - val_loss: 0.3726 - val_acc: 0.8317\n",
      "Epoch 2/30\n",
      " - 1s - loss: 0.3849 - acc: 0.8194 - val_loss: 0.3549 - val_acc: 0.8317\n",
      "Epoch 3/30\n",
      " - 1s - loss: 0.3684 - acc: 0.8278 - val_loss: 0.3469 - val_acc: 0.8390\n",
      "Epoch 4/30\n",
      " - 1s - loss: 0.3597 - acc: 0.8329 - val_loss: 0.3377 - val_acc: 0.8397\n",
      "Epoch 5/30\n",
      " - 1s - loss: 0.3522 - acc: 0.8384 - val_loss: 0.3298 - val_acc: 0.8465\n",
      "Epoch 6/30\n",
      " - 1s - loss: 0.3466 - acc: 0.8407 - val_loss: 0.3270 - val_acc: 0.8479\n",
      "Epoch 7/30\n",
      " - 1s - loss: 0.3414 - acc: 0.8420 - val_loss: 0.3228 - val_acc: 0.8504\n",
      "Epoch 8/30\n",
      " - 1s - loss: 0.3362 - acc: 0.8444 - val_loss: 0.3218 - val_acc: 0.8498\n",
      "Epoch 9/30\n",
      " - 1s - loss: 0.3336 - acc: 0.8450 - val_loss: 0.3220 - val_acc: 0.8489\n",
      "Epoch 10/30\n",
      " - 1s - loss: 0.3313 - acc: 0.8466 - val_loss: 0.3186 - val_acc: 0.8532\n",
      "Epoch 11/30\n",
      " - 1s - loss: 0.3343 - acc: 0.8455 - val_loss: 0.3194 - val_acc: 0.8524\n",
      "Epoch 12/30\n",
      " - 1s - loss: 0.3299 - acc: 0.8483 - val_loss: 0.3201 - val_acc: 0.8484\n",
      "Epoch 13/30\n",
      " - 1s - loss: 0.3306 - acc: 0.8477 - val_loss: 0.3199 - val_acc: 0.8504\n",
      "Epoch 14/30\n",
      " - 1s - loss: 0.3286 - acc: 0.8487 - val_loss: 0.3186 - val_acc: 0.8518\n",
      "Epoch 15/30\n",
      " - 2s - loss: 0.3288 - acc: 0.8482 - val_loss: 0.3194 - val_acc: 0.8502\n",
      "Epoch 16/30\n",
      " - 1s - loss: 0.3292 - acc: 0.8456 - val_loss: 0.3176 - val_acc: 0.8515\n",
      "Epoch 17/30\n",
      " - 1s - loss: 0.3271 - acc: 0.8477 - val_loss: 0.3185 - val_acc: 0.8508\n",
      "Epoch 18/30\n",
      " - 1s - loss: 0.3278 - acc: 0.8491 - val_loss: 0.3178 - val_acc: 0.8536\n",
      "Epoch 19/30\n",
      " - 1s - loss: 0.3261 - acc: 0.8508 - val_loss: 0.3162 - val_acc: 0.8513\n",
      "Epoch 20/30\n",
      " - 1s - loss: 0.3251 - acc: 0.8503 - val_loss: 0.3250 - val_acc: 0.8501\n",
      "Epoch 21/30\n",
      " - 1s - loss: 0.3258 - acc: 0.8498 - val_loss: 0.3150 - val_acc: 0.8538\n",
      "Epoch 22/30\n",
      " - 1s - loss: 0.3261 - acc: 0.8507 - val_loss: 0.3207 - val_acc: 0.8495\n",
      "Epoch 23/30\n",
      " - 1s - loss: 0.3236 - acc: 0.8516 - val_loss: 0.3164 - val_acc: 0.8539\n",
      "Epoch 24/30\n",
      " - 1s - loss: 0.3236 - acc: 0.8501 - val_loss: 0.3217 - val_acc: 0.8475\n",
      "Epoch 25/30\n",
      " - 1s - loss: 0.3253 - acc: 0.8516 - val_loss: 0.3151 - val_acc: 0.8518\n",
      "Epoch 26/30\n",
      " - 1s - loss: 0.3226 - acc: 0.8527 - val_loss: 0.3159 - val_acc: 0.8507\n",
      "Epoch 27/30\n",
      " - 1s - loss: 0.3224 - acc: 0.8539 - val_loss: 0.3158 - val_acc: 0.8509\n",
      "Epoch 28/30\n",
      " - 1s - loss: 0.3225 - acc: 0.8508 - val_loss: 0.3186 - val_acc: 0.8503\n",
      "Epoch 29/30\n",
      " - 1s - loss: 0.3222 - acc: 0.8523 - val_loss: 0.3153 - val_acc: 0.8522\n",
      "Epoch 30/30\n",
      " - 2s - loss: 0.3227 - acc: 0.8513 - val_loss: 0.3190 - val_acc: 0.8492\n"
     ]
    },
    {
     "data": {
      "text/plain": [
       "<keras.callbacks.History at 0x24ade15f7b8>"
      ]
     },
     "execution_count": 90,
     "metadata": {},
     "output_type": "execute_result"
    }
   ],
   "source": [
    "# Set up the model\n",
    "model = Sequential()\n",
    "\n",
    "# Adding layers\n",
    "model.add(Dense(64, activation = 'relu', input_shape = (n_cols,) ))\n",
    "model.add(Dropout(rate=0.5))\n",
    "model.add(Dense(32, activation = 'relu'))\n",
    "model.add(Dropout(rate=0.5))\n",
    "model.add(Dense(2, activation = 'softmax'))\n",
    "\n",
    "# Model compile\n",
    "model.compile(optimizer = 'adam', loss = 'binary_crossentropy', metrics = ['accuracy'])\n",
    "\n",
    "\n",
    "# Early stopping\n",
    "Early_stopping_monitor = [\n",
    "            EarlyStopping(patience = 2, min_delta = 0.001),\n",
    "            #ModelCheckpoint(filepath='./my_nn_model.h5', save_best_only=True)\n",
    "            #ModelCheckpoint(filepath='weights.{epoch:02d}-{val_loss:.4f}.hdf5', save_best_only=True)            \n",
    "]\n",
    "\n",
    "# Fit the model\n",
    "model.fit(X_train_NN, y_train_NN, validation_split = 0.3, epochs = 30, verbose = 2 )\n",
    "          #,callbacks = Early_stopping_monitor)"
   ]
  },
  {
   "cell_type": "code",
   "execution_count": 91,
   "metadata": {},
   "outputs": [
    {
     "data": {
      "image/png": "[encoded data removed]",
      "text/plain": [
       "<Figure size 1080x360 with 1 Axes>"
      ]
     },
     "metadata": {},
     "output_type": "display_data"
    }
   ],
   "source": [
    "plt.figure(figsize=(15,5))\n",
    "\n",
    "plt.plot(model.history.history['acc'], label = 'train_acc', color = 'g')\n",
    "plt.plot(model.history.history['val_acc'], label = 'test_acc', color = 'r')\n",
    "\n",
    "plt.ylim(bottom = min(model.history.history['acc'] + model.history.history['val_acc']) - 0.005, \n",
    "         top = max(model.history.history['acc'] + model.history.history['val_acc']) + 0.005)\n",
    "\n",
    "plt.xticks(range(min(model.history.epoch) + 1, max(model.history.epoch)+1))\n",
    "\n",
    "plt.legend(loc = \"lower center\")\n",
    "\n",
    "plt.show()"
   ]
  },
  {
   "cell_type": "code",
   "execution_count": 92,
   "metadata": {},
   "outputs": [
    {
     "name": "stdout",
     "output_type": "stream",
     "text": [
      "34189/34189 [==============================] - 1s 19us/step\n",
      "14653/14653 [==============================] - 1s 41us/step\n",
      "Train acc: 0.855, Test acc: 0.854\n"
     ]
    }
   ],
   "source": [
    "# Evaluate the model\n",
    "\n",
    "train_loss, train_acc = model.evaluate(X_train_NN, y_train_NN)\n",
    "test_loss, test_acc = model.evaluate(X_test_NN, y_test_NN)\n",
    "\n",
    "print('Train acc: %.3f, Test acc: %.3f' % (train_acc, test_acc))"
   ]
  },
  {
   "cell_type": "code",
   "execution_count": null,
   "metadata": {},
   "outputs": [],
   "source": []
  },
  {
   "cell_type": "markdown",
   "metadata": {},
   "source": [
    "** CONCLUSION : The best model is XGBoost :) **"
   ]
  }
 ],
 "metadata": {
  "celltoolbar": "Raw Cell Format",
  "kernelspec": {
   "display_name": "Python 3",
   "language": "python",
   "name": "python3"
  },
  "language_info": {
   "codemirror_mode": {
    "name": "ipython",
    "version": 3
   },
   "file_extension": ".py",
   "mimetype": "text/x-python",
   "name": "python",
   "nbconvert_exporter": "python",
   "pygments_lexer": "ipython3",
   "version": "3.6.4"
  }
 },
 "nbformat": 4,
 "nbformat_minor": 2
}
