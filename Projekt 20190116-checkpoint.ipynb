{
 "cells": [
  {
   "cell_type": "markdown",
   "metadata": {},
   "source": [
    "# DataSet Information:\n",
    "\n",
    "Data is from the website :\n",
    "\n",
    "https://archive.ics.uci.edu/ml/datasets/Census+Income"
   ]
  },
  {
   "cell_type": "markdown",
   "metadata": {},
   "source": [
    "# Objective:\n",
    "\n",
    "Prediction task is to determine whether a person makes over 50K a year"
   ]
  },
  {
   "cell_type": "markdown",
   "metadata": {},
   "source": [
    "# Listing of attributes: \n",
    "\n",
    "**Income**: >50K, <=50K. \n",
    "\n",
    "**age**: continuous. \n",
    "\n",
    "**workclass**: Private, Self-emp-not-inc, Self-emp-inc, Federal-gov, Local-gov, State-gov, Without-pay, Never-worked. \n",
    "fnlwgt: continuous. \n",
    "\n",
    "**education**: Bachelors, Some-college, 11th, HS-grad, Prof-school, Assoc-acdm, Assoc-voc, 9th, 7th-8th, 12th, Masters, 1st-4th, 10th, Doctorate, 5th-6th, Preschool. \n",
    "\n",
    "**education-num**: continuous. \n",
    "\n",
    "**marital-status**: Married-civ-spouse, Divorced, Never-married, Separated, Widowed, Married-spouse-absent, Married-AF-spouse. \n",
    "occupation: Tech-support, Craft-repair, Other-service, Sales, Exec-managerial, Prof-specialty, Handlers-cleaners, Machine-op-inspct, Adm-clerical, Farming-fishing, Transport-moving, Priv-house-serv, Protective-serv, Armed-Forces. \n",
    "\n",
    "**relationship**: Wife, Own-child, Husband, Not-in-family, Other-relative, Unmarried. \n",
    "\n",
    "**race**: White, Asian-Pac-Islander, Amer-Indian-Eskimo, Other, Black. \n",
    "\n",
    "**sex**: Female, Male. \n",
    "\n",
    "**capital-gain**: continuous. \n",
    "\n",
    "**capital-loss**: continuous. \n",
    "\n",
    "**hours-per-week**: continuous.\n",
    "\n",
    "**native-country**: United-States, Cambodia, England, Puerto-Rico, Canada, Germany, Outlying-US(Guam-USVI-etc), India, Japan, Greece, South, China, Cuba, Iran, Honduras, Philippines, Italy, Poland, Jamaica, Vietnam, Mexico, Portugal, Ireland, France, Dominican-Republic, Laos, Ecuador, Taiwan, Haiti, Columbia, Hungary, Guatemala, Nicaragua, Scotland, Thailand, Yugoslavia, El-Salvador, Trinadad&Tobago, Peru, Hong, Holand-Netherlands."
   ]
  },
  {
   "cell_type": "code",
   "execution_count": 185,
   "metadata": {},
   "outputs": [],
   "source": [
    "import numpy as np\n",
    "import pandas as pd"
   ]
  },
  {
   "cell_type": "code",
   "execution_count": 186,
   "metadata": {},
   "outputs": [
    {
     "name": "stderr",
     "output_type": "stream",
     "text": [
      "C:\\ProgramData\\Anaconda3\\lib\\site-packages\\ipykernel_launcher.py:1: ParserWarning: Falling back to the 'python' engine because the 'c' engine does not support regex separators (separators > 1 char and different from '\\s+' are interpreted as regex); you can avoid this warning by specifying engine='python'.\n",
      "  \"\"\"Entry point for launching an IPython kernel.\n"
     ]
    }
   ],
   "source": [
    "data = pd.read_csv('../Projekt-master/Census_Income_DataSet_Total.csv', delimiter=', ')"
   ]
  },
  {
   "cell_type": "code",
   "execution_count": 187,
   "metadata": {},
   "outputs": [
    {
     "data": {
      "text/plain": [
       "(48842, 15)"
      ]
     },
     "execution_count": 187,
     "metadata": {},
     "output_type": "execute_result"
    }
   ],
   "source": [
    "data.shape"
   ]
  },
  {
   "cell_type": "code",
   "execution_count": 188,
   "metadata": {},
   "outputs": [
    {
     "data": {
      "text/html": [
       "<div>\n",
       "<style scoped>\n",
       "    .dataframe tbody tr th:only-of-type {\n",
       "        vertical-align: middle;\n",
       "    }\n",
       "\n",
       "    .dataframe tbody tr th {\n",
       "        vertical-align: top;\n",
       "    }\n",
       "\n",
       "    .dataframe thead th {\n",
       "        text-align: right;\n",
       "    }\n",
       "</style>\n",
       "<table border=\"1\" class=\"dataframe\">\n",
       "  <thead>\n",
       "    <tr style=\"text-align: right;\">\n",
       "      <th></th>\n",
       "      <th>age</th>\n",
       "      <th>workclass</th>\n",
       "      <th>fnlwgt</th>\n",
       "      <th>education</th>\n",
       "      <th>education-num</th>\n",
       "      <th>marital-status</th>\n",
       "      <th>occupation</th>\n",
       "      <th>relationship</th>\n",
       "      <th>race</th>\n",
       "      <th>sex</th>\n",
       "      <th>capital-gain</th>\n",
       "      <th>capital-loss</th>\n",
       "      <th>hours-per-week</th>\n",
       "      <th>native-country</th>\n",
       "      <th>Income</th>\n",
       "    </tr>\n",
       "  </thead>\n",
       "  <tbody>\n",
       "    <tr>\n",
       "      <th>0</th>\n",
       "      <td>39</td>\n",
       "      <td>State-gov</td>\n",
       "      <td>77516</td>\n",
       "      <td>Bachelors</td>\n",
       "      <td>13</td>\n",
       "      <td>Never-married</td>\n",
       "      <td>Adm-clerical</td>\n",
       "      <td>Not-in-family</td>\n",
       "      <td>White</td>\n",
       "      <td>Male</td>\n",
       "      <td>2174</td>\n",
       "      <td>0</td>\n",
       "      <td>40</td>\n",
       "      <td>United-States</td>\n",
       "      <td>&lt;=50K</td>\n",
       "    </tr>\n",
       "    <tr>\n",
       "      <th>1</th>\n",
       "      <td>50</td>\n",
       "      <td>Self-emp-not-inc</td>\n",
       "      <td>83311</td>\n",
       "      <td>Bachelors</td>\n",
       "      <td>13</td>\n",
       "      <td>Married-civ-spouse</td>\n",
       "      <td>Exec-managerial</td>\n",
       "      <td>Husband</td>\n",
       "      <td>White</td>\n",
       "      <td>Male</td>\n",
       "      <td>0</td>\n",
       "      <td>0</td>\n",
       "      <td>13</td>\n",
       "      <td>United-States</td>\n",
       "      <td>&lt;=50K</td>\n",
       "    </tr>\n",
       "    <tr>\n",
       "      <th>2</th>\n",
       "      <td>38</td>\n",
       "      <td>Private</td>\n",
       "      <td>215646</td>\n",
       "      <td>HS-grad</td>\n",
       "      <td>9</td>\n",
       "      <td>Divorced</td>\n",
       "      <td>Handlers-cleaners</td>\n",
       "      <td>Not-in-family</td>\n",
       "      <td>White</td>\n",
       "      <td>Male</td>\n",
       "      <td>0</td>\n",
       "      <td>0</td>\n",
       "      <td>40</td>\n",
       "      <td>United-States</td>\n",
       "      <td>&lt;=50K</td>\n",
       "    </tr>\n",
       "    <tr>\n",
       "      <th>3</th>\n",
       "      <td>53</td>\n",
       "      <td>Private</td>\n",
       "      <td>234721</td>\n",
       "      <td>11th</td>\n",
       "      <td>7</td>\n",
       "      <td>Married-civ-spouse</td>\n",
       "      <td>Handlers-cleaners</td>\n",
       "      <td>Husband</td>\n",
       "      <td>Black</td>\n",
       "      <td>Male</td>\n",
       "      <td>0</td>\n",
       "      <td>0</td>\n",
       "      <td>40</td>\n",
       "      <td>United-States</td>\n",
       "      <td>&lt;=50K</td>\n",
       "    </tr>\n",
       "    <tr>\n",
       "      <th>4</th>\n",
       "      <td>28</td>\n",
       "      <td>Private</td>\n",
       "      <td>338409</td>\n",
       "      <td>Bachelors</td>\n",
       "      <td>13</td>\n",
       "      <td>Married-civ-spouse</td>\n",
       "      <td>Prof-specialty</td>\n",
       "      <td>Wife</td>\n",
       "      <td>Black</td>\n",
       "      <td>Female</td>\n",
       "      <td>0</td>\n",
       "      <td>0</td>\n",
       "      <td>40</td>\n",
       "      <td>Cuba</td>\n",
       "      <td>&lt;=50K</td>\n",
       "    </tr>\n",
       "    <tr>\n",
       "      <th>5</th>\n",
       "      <td>37</td>\n",
       "      <td>Private</td>\n",
       "      <td>284582</td>\n",
       "      <td>Masters</td>\n",
       "      <td>14</td>\n",
       "      <td>Married-civ-spouse</td>\n",
       "      <td>Exec-managerial</td>\n",
       "      <td>Wife</td>\n",
       "      <td>White</td>\n",
       "      <td>Female</td>\n",
       "      <td>0</td>\n",
       "      <td>0</td>\n",
       "      <td>40</td>\n",
       "      <td>United-States</td>\n",
       "      <td>&lt;=50K</td>\n",
       "    </tr>\n",
       "    <tr>\n",
       "      <th>6</th>\n",
       "      <td>49</td>\n",
       "      <td>Private</td>\n",
       "      <td>160187</td>\n",
       "      <td>9th</td>\n",
       "      <td>5</td>\n",
       "      <td>Married-spouse-absent</td>\n",
       "      <td>Other-service</td>\n",
       "      <td>Not-in-family</td>\n",
       "      <td>Black</td>\n",
       "      <td>Female</td>\n",
       "      <td>0</td>\n",
       "      <td>0</td>\n",
       "      <td>16</td>\n",
       "      <td>Jamaica</td>\n",
       "      <td>&lt;=50K</td>\n",
       "    </tr>\n",
       "    <tr>\n",
       "      <th>7</th>\n",
       "      <td>52</td>\n",
       "      <td>Self-emp-not-inc</td>\n",
       "      <td>209642</td>\n",
       "      <td>HS-grad</td>\n",
       "      <td>9</td>\n",
       "      <td>Married-civ-spouse</td>\n",
       "      <td>Exec-managerial</td>\n",
       "      <td>Husband</td>\n",
       "      <td>White</td>\n",
       "      <td>Male</td>\n",
       "      <td>0</td>\n",
       "      <td>0</td>\n",
       "      <td>45</td>\n",
       "      <td>United-States</td>\n",
       "      <td>&gt;50K</td>\n",
       "    </tr>\n",
       "    <tr>\n",
       "      <th>8</th>\n",
       "      <td>31</td>\n",
       "      <td>Private</td>\n",
       "      <td>45781</td>\n",
       "      <td>Masters</td>\n",
       "      <td>14</td>\n",
       "      <td>Never-married</td>\n",
       "      <td>Prof-specialty</td>\n",
       "      <td>Not-in-family</td>\n",
       "      <td>White</td>\n",
       "      <td>Female</td>\n",
       "      <td>14084</td>\n",
       "      <td>0</td>\n",
       "      <td>50</td>\n",
       "      <td>United-States</td>\n",
       "      <td>&gt;50K</td>\n",
       "    </tr>\n",
       "    <tr>\n",
       "      <th>9</th>\n",
       "      <td>42</td>\n",
       "      <td>Private</td>\n",
       "      <td>159449</td>\n",
       "      <td>Bachelors</td>\n",
       "      <td>13</td>\n",
       "      <td>Married-civ-spouse</td>\n",
       "      <td>Exec-managerial</td>\n",
       "      <td>Husband</td>\n",
       "      <td>White</td>\n",
       "      <td>Male</td>\n",
       "      <td>5178</td>\n",
       "      <td>0</td>\n",
       "      <td>40</td>\n",
       "      <td>United-States</td>\n",
       "      <td>&gt;50K</td>\n",
       "    </tr>\n",
       "  </tbody>\n",
       "</table>\n",
       "</div>"
      ],
      "text/plain": [
       "   age         workclass  fnlwgt  education  education-num  \\\n",
       "0   39         State-gov   77516  Bachelors             13   \n",
       "1   50  Self-emp-not-inc   83311  Bachelors             13   \n",
       "2   38           Private  215646    HS-grad              9   \n",
       "3   53           Private  234721       11th              7   \n",
       "4   28           Private  338409  Bachelors             13   \n",
       "5   37           Private  284582    Masters             14   \n",
       "6   49           Private  160187        9th              5   \n",
       "7   52  Self-emp-not-inc  209642    HS-grad              9   \n",
       "8   31           Private   45781    Masters             14   \n",
       "9   42           Private  159449  Bachelors             13   \n",
       "\n",
       "          marital-status         occupation   relationship   race     sex  \\\n",
       "0          Never-married       Adm-clerical  Not-in-family  White    Male   \n",
       "1     Married-civ-spouse    Exec-managerial        Husband  White    Male   \n",
       "2               Divorced  Handlers-cleaners  Not-in-family  White    Male   \n",
       "3     Married-civ-spouse  Handlers-cleaners        Husband  Black    Male   \n",
       "4     Married-civ-spouse     Prof-specialty           Wife  Black  Female   \n",
       "5     Married-civ-spouse    Exec-managerial           Wife  White  Female   \n",
       "6  Married-spouse-absent      Other-service  Not-in-family  Black  Female   \n",
       "7     Married-civ-spouse    Exec-managerial        Husband  White    Male   \n",
       "8          Never-married     Prof-specialty  Not-in-family  White  Female   \n",
       "9     Married-civ-spouse    Exec-managerial        Husband  White    Male   \n",
       "\n",
       "   capital-gain  capital-loss  hours-per-week native-country Income  \n",
       "0          2174             0              40  United-States  <=50K  \n",
       "1             0             0              13  United-States  <=50K  \n",
       "2             0             0              40  United-States  <=50K  \n",
       "3             0             0              40  United-States  <=50K  \n",
       "4             0             0              40           Cuba  <=50K  \n",
       "5             0             0              40  United-States  <=50K  \n",
       "6             0             0              16        Jamaica  <=50K  \n",
       "7             0             0              45  United-States   >50K  \n",
       "8         14084             0              50  United-States   >50K  \n",
       "9          5178             0              40  United-States   >50K  "
      ]
     },
     "execution_count": 188,
     "metadata": {},
     "output_type": "execute_result"
    }
   ],
   "source": [
    "data.head(10)"
   ]
  },
  {
   "cell_type": "markdown",
   "metadata": {},
   "source": [
    "** Preprocessing data **"
   ]
  },
  {
   "cell_type": "code",
   "execution_count": 189,
   "metadata": {},
   "outputs": [],
   "source": [
    "data.rename(columns = {'ď»żage': 'age',\n",
    "                       'marital-status': 'marital_status', \n",
    "                       'capital-gain': 'capital_gain',\n",
    "                       'capital-loss': 'capital_loss',\n",
    "                       'hours-per-week': 'hours_per_week',\n",
    "                       'native-country' : 'native_country'}\n",
    "                        ,inplace = True) # rename column\n",
    "\n",
    "data = data.drop(columns='education', axis = 1 ) # delete the education column, becuase the education-num column includes the same information\n",
    "data = data.drop(columns = 'fnlwgt', axis = 1)  # delete this column\n",
    "\n",
    "data.Income = data.Income.map ({'<=50K':0, '<=50K.':0 ,'>50K':1, '>50K.':1}) #change Income column on dtypes int64"
   ]
  },
  {
   "cell_type": "code",
   "execution_count": 190,
   "metadata": {},
   "outputs": [
    {
     "data": {
      "text/html": [
       "<div>\n",
       "<style scoped>\n",
       "    .dataframe tbody tr th:only-of-type {\n",
       "        vertical-align: middle;\n",
       "    }\n",
       "\n",
       "    .dataframe tbody tr th {\n",
       "        vertical-align: top;\n",
       "    }\n",
       "\n",
       "    .dataframe thead th {\n",
       "        text-align: right;\n",
       "    }\n",
       "</style>\n",
       "<table border=\"1\" class=\"dataframe\">\n",
       "  <thead>\n",
       "    <tr style=\"text-align: right;\">\n",
       "      <th>Income</th>\n",
       "      <th>0</th>\n",
       "      <th>1</th>\n",
       "    </tr>\n",
       "    <tr>\n",
       "      <th>workclass</th>\n",
       "      <th></th>\n",
       "      <th></th>\n",
       "    </tr>\n",
       "  </thead>\n",
       "  <tbody>\n",
       "    <tr>\n",
       "      <th>?</th>\n",
       "      <td>2534</td>\n",
       "      <td>265</td>\n",
       "    </tr>\n",
       "    <tr>\n",
       "      <th>Federal-gov</th>\n",
       "      <td>871</td>\n",
       "      <td>561</td>\n",
       "    </tr>\n",
       "    <tr>\n",
       "      <th>Local-gov</th>\n",
       "      <td>2209</td>\n",
       "      <td>927</td>\n",
       "    </tr>\n",
       "    <tr>\n",
       "      <th>Never-worked</th>\n",
       "      <td>10</td>\n",
       "      <td>0</td>\n",
       "    </tr>\n",
       "    <tr>\n",
       "      <th>Private</th>\n",
       "      <td>26519</td>\n",
       "      <td>7387</td>\n",
       "    </tr>\n",
       "    <tr>\n",
       "      <th>Self-emp-inc</th>\n",
       "      <td>757</td>\n",
       "      <td>938</td>\n",
       "    </tr>\n",
       "    <tr>\n",
       "      <th>Self-emp-not-inc</th>\n",
       "      <td>2785</td>\n",
       "      <td>1077</td>\n",
       "    </tr>\n",
       "    <tr>\n",
       "      <th>State-gov</th>\n",
       "      <td>1451</td>\n",
       "      <td>530</td>\n",
       "    </tr>\n",
       "    <tr>\n",
       "      <th>Without-pay</th>\n",
       "      <td>19</td>\n",
       "      <td>2</td>\n",
       "    </tr>\n",
       "  </tbody>\n",
       "</table>\n",
       "</div>"
      ],
      "text/plain": [
       "Income                0     1\n",
       "workclass                    \n",
       "?                  2534   265\n",
       "Federal-gov         871   561\n",
       "Local-gov          2209   927\n",
       "Never-worked         10     0\n",
       "Private           26519  7387\n",
       "Self-emp-inc        757   938\n",
       "Self-emp-not-inc   2785  1077\n",
       "State-gov          1451   530\n",
       "Without-pay          19     2"
      ]
     },
     "execution_count": 190,
     "metadata": {},
     "output_type": "execute_result"
    }
   ],
   "source": [
    "pd.crosstab(data['workclass'], data['Income'])"
   ]
  },
  {
   "cell_type": "code",
   "execution_count": 191,
   "metadata": {},
   "outputs": [],
   "source": [
    "data['workclass'].replace(['Self-emp-not-inc', 'Self-emp-inc'], ['Self_employed', 'Self_employed'], inplace = True)\n",
    "data['workclass'].replace(['Local-gov', 'Federal-gov', 'State-gov'], ['Government', 'Government', 'Government'], inplace = True)                       \n",
    "data['workclass'].replace(['Never-worked', 'Without-pay'], ['Unemployed', 'Unemployed'], inplace = True) \n",
    "data['workclass'].replace('?', 'Other', inplace = True)"
   ]
  },
  {
   "cell_type": "code",
   "execution_count": 192,
   "metadata": {},
   "outputs": [
    {
     "data": {
      "text/html": [
       "<div>\n",
       "<style scoped>\n",
       "    .dataframe tbody tr th:only-of-type {\n",
       "        vertical-align: middle;\n",
       "    }\n",
       "\n",
       "    .dataframe tbody tr th {\n",
       "        vertical-align: top;\n",
       "    }\n",
       "\n",
       "    .dataframe thead th {\n",
       "        text-align: right;\n",
       "    }\n",
       "</style>\n",
       "<table border=\"1\" class=\"dataframe\">\n",
       "  <thead>\n",
       "    <tr style=\"text-align: right;\">\n",
       "      <th>Income</th>\n",
       "      <th>0</th>\n",
       "      <th>1</th>\n",
       "    </tr>\n",
       "    <tr>\n",
       "      <th>workclass</th>\n",
       "      <th></th>\n",
       "      <th></th>\n",
       "    </tr>\n",
       "  </thead>\n",
       "  <tbody>\n",
       "    <tr>\n",
       "      <th>Government</th>\n",
       "      <td>4531</td>\n",
       "      <td>2018</td>\n",
       "    </tr>\n",
       "    <tr>\n",
       "      <th>Other</th>\n",
       "      <td>2534</td>\n",
       "      <td>265</td>\n",
       "    </tr>\n",
       "    <tr>\n",
       "      <th>Private</th>\n",
       "      <td>26519</td>\n",
       "      <td>7387</td>\n",
       "    </tr>\n",
       "    <tr>\n",
       "      <th>Self_employed</th>\n",
       "      <td>3542</td>\n",
       "      <td>2015</td>\n",
       "    </tr>\n",
       "    <tr>\n",
       "      <th>Unemployed</th>\n",
       "      <td>29</td>\n",
       "      <td>2</td>\n",
       "    </tr>\n",
       "  </tbody>\n",
       "</table>\n",
       "</div>"
      ],
      "text/plain": [
       "Income             0     1\n",
       "workclass                 \n",
       "Government      4531  2018\n",
       "Other           2534   265\n",
       "Private        26519  7387\n",
       "Self_employed   3542  2015\n",
       "Unemployed        29     2"
      ]
     },
     "execution_count": 192,
     "metadata": {},
     "output_type": "execute_result"
    }
   ],
   "source": [
    "pd.crosstab(data['workclass'], data['Income'])"
   ]
  },
  {
   "cell_type": "code",
   "execution_count": 193,
   "metadata": {},
   "outputs": [
    {
     "data": {
      "text/html": [
       "<div>\n",
       "<style scoped>\n",
       "    .dataframe tbody tr th:only-of-type {\n",
       "        vertical-align: middle;\n",
       "    }\n",
       "\n",
       "    .dataframe tbody tr th {\n",
       "        vertical-align: top;\n",
       "    }\n",
       "\n",
       "    .dataframe thead th {\n",
       "        text-align: right;\n",
       "    }\n",
       "</style>\n",
       "<table border=\"1\" class=\"dataframe\">\n",
       "  <thead>\n",
       "    <tr style=\"text-align: right;\">\n",
       "      <th>Income</th>\n",
       "      <th>0</th>\n",
       "      <th>1</th>\n",
       "    </tr>\n",
       "    <tr>\n",
       "      <th>marital_status</th>\n",
       "      <th></th>\n",
       "      <th></th>\n",
       "    </tr>\n",
       "  </thead>\n",
       "  <tbody>\n",
       "    <tr>\n",
       "      <th>Divorced</th>\n",
       "      <td>5962</td>\n",
       "      <td>671</td>\n",
       "    </tr>\n",
       "    <tr>\n",
       "      <th>Married-AF-spouse</th>\n",
       "      <td>23</td>\n",
       "      <td>14</td>\n",
       "    </tr>\n",
       "    <tr>\n",
       "      <th>Married-civ-spouse</th>\n",
       "      <td>12395</td>\n",
       "      <td>9984</td>\n",
       "    </tr>\n",
       "    <tr>\n",
       "      <th>Married-spouse-absent</th>\n",
       "      <td>570</td>\n",
       "      <td>58</td>\n",
       "    </tr>\n",
       "    <tr>\n",
       "      <th>Never-married</th>\n",
       "      <td>15384</td>\n",
       "      <td>733</td>\n",
       "    </tr>\n",
       "    <tr>\n",
       "      <th>Separated</th>\n",
       "      <td>1431</td>\n",
       "      <td>99</td>\n",
       "    </tr>\n",
       "    <tr>\n",
       "      <th>Widowed</th>\n",
       "      <td>1390</td>\n",
       "      <td>128</td>\n",
       "    </tr>\n",
       "  </tbody>\n",
       "</table>\n",
       "</div>"
      ],
      "text/plain": [
       "Income                     0     1\n",
       "marital_status                    \n",
       "Divorced                5962   671\n",
       "Married-AF-spouse         23    14\n",
       "Married-civ-spouse     12395  9984\n",
       "Married-spouse-absent    570    58\n",
       "Never-married          15384   733\n",
       "Separated               1431    99\n",
       "Widowed                 1390   128"
      ]
     },
     "execution_count": 193,
     "metadata": {},
     "output_type": "execute_result"
    }
   ],
   "source": [
    "pd.crosstab(data['marital_status'], data['Income'])"
   ]
  },
  {
   "cell_type": "code",
   "execution_count": 194,
   "metadata": {},
   "outputs": [],
   "source": [
    "data['marital_status'].replace(['Married-civ-spouse', 'Married-AF-spouse'], \n",
    "                               'Married', inplace = True)\n",
    "\n",
    "data['marital_status'].replace(['Divorced', 'Separated', 'Widowed', 'Married-spouse-absent'], \n",
    "                               'Not-Married', inplace = True)"
   ]
  },
  {
   "cell_type": "code",
   "execution_count": 195,
   "metadata": {},
   "outputs": [
    {
     "data": {
      "text/html": [
       "<div>\n",
       "<style scoped>\n",
       "    .dataframe tbody tr th:only-of-type {\n",
       "        vertical-align: middle;\n",
       "    }\n",
       "\n",
       "    .dataframe tbody tr th {\n",
       "        vertical-align: top;\n",
       "    }\n",
       "\n",
       "    .dataframe thead th {\n",
       "        text-align: right;\n",
       "    }\n",
       "</style>\n",
       "<table border=\"1\" class=\"dataframe\">\n",
       "  <thead>\n",
       "    <tr style=\"text-align: right;\">\n",
       "      <th>Income</th>\n",
       "      <th>0</th>\n",
       "      <th>1</th>\n",
       "    </tr>\n",
       "    <tr>\n",
       "      <th>marital_status</th>\n",
       "      <th></th>\n",
       "      <th></th>\n",
       "    </tr>\n",
       "  </thead>\n",
       "  <tbody>\n",
       "    <tr>\n",
       "      <th>Married</th>\n",
       "      <td>12418</td>\n",
       "      <td>9998</td>\n",
       "    </tr>\n",
       "    <tr>\n",
       "      <th>Never-married</th>\n",
       "      <td>15384</td>\n",
       "      <td>733</td>\n",
       "    </tr>\n",
       "    <tr>\n",
       "      <th>Not-Married</th>\n",
       "      <td>9353</td>\n",
       "      <td>956</td>\n",
       "    </tr>\n",
       "  </tbody>\n",
       "</table>\n",
       "</div>"
      ],
      "text/plain": [
       "Income              0     1\n",
       "marital_status             \n",
       "Married         12418  9998\n",
       "Never-married   15384   733\n",
       "Not-Married      9353   956"
      ]
     },
     "execution_count": 195,
     "metadata": {},
     "output_type": "execute_result"
    }
   ],
   "source": [
    "pd.crosstab(data['marital_status'], data['Income'])"
   ]
  },
  {
   "cell_type": "code",
   "execution_count": 196,
   "metadata": {},
   "outputs": [
    {
     "data": {
      "text/html": [
       "<div>\n",
       "<style scoped>\n",
       "    .dataframe tbody tr th:only-of-type {\n",
       "        vertical-align: middle;\n",
       "    }\n",
       "\n",
       "    .dataframe tbody tr th {\n",
       "        vertical-align: top;\n",
       "    }\n",
       "\n",
       "    .dataframe thead th {\n",
       "        text-align: right;\n",
       "    }\n",
       "</style>\n",
       "<table border=\"1\" class=\"dataframe\">\n",
       "  <thead>\n",
       "    <tr style=\"text-align: right;\">\n",
       "      <th>Income</th>\n",
       "      <th>0</th>\n",
       "      <th>1</th>\n",
       "    </tr>\n",
       "    <tr>\n",
       "      <th>occupation</th>\n",
       "      <th></th>\n",
       "      <th></th>\n",
       "    </tr>\n",
       "  </thead>\n",
       "  <tbody>\n",
       "    <tr>\n",
       "      <th>?</th>\n",
       "      <td>2544</td>\n",
       "      <td>265</td>\n",
       "    </tr>\n",
       "    <tr>\n",
       "      <th>Adm-clerical</th>\n",
       "      <td>4843</td>\n",
       "      <td>768</td>\n",
       "    </tr>\n",
       "    <tr>\n",
       "      <th>Armed-Forces</th>\n",
       "      <td>10</td>\n",
       "      <td>5</td>\n",
       "    </tr>\n",
       "    <tr>\n",
       "      <th>Craft-repair</th>\n",
       "      <td>4729</td>\n",
       "      <td>1383</td>\n",
       "    </tr>\n",
       "    <tr>\n",
       "      <th>Exec-managerial</th>\n",
       "      <td>3178</td>\n",
       "      <td>2908</td>\n",
       "    </tr>\n",
       "    <tr>\n",
       "      <th>Farming-fishing</th>\n",
       "      <td>1317</td>\n",
       "      <td>173</td>\n",
       "    </tr>\n",
       "    <tr>\n",
       "      <th>Handlers-cleaners</th>\n",
       "      <td>1934</td>\n",
       "      <td>138</td>\n",
       "    </tr>\n",
       "    <tr>\n",
       "      <th>Machine-op-inspct</th>\n",
       "      <td>2650</td>\n",
       "      <td>372</td>\n",
       "    </tr>\n",
       "    <tr>\n",
       "      <th>Other-service</th>\n",
       "      <td>4719</td>\n",
       "      <td>204</td>\n",
       "    </tr>\n",
       "    <tr>\n",
       "      <th>Priv-house-serv</th>\n",
       "      <td>239</td>\n",
       "      <td>3</td>\n",
       "    </tr>\n",
       "    <tr>\n",
       "      <th>Prof-specialty</th>\n",
       "      <td>3388</td>\n",
       "      <td>2784</td>\n",
       "    </tr>\n",
       "    <tr>\n",
       "      <th>Protective-serv</th>\n",
       "      <td>675</td>\n",
       "      <td>308</td>\n",
       "    </tr>\n",
       "    <tr>\n",
       "      <th>Sales</th>\n",
       "      <td>4029</td>\n",
       "      <td>1475</td>\n",
       "    </tr>\n",
       "    <tr>\n",
       "      <th>Tech-support</th>\n",
       "      <td>1026</td>\n",
       "      <td>420</td>\n",
       "    </tr>\n",
       "    <tr>\n",
       "      <th>Transport-moving</th>\n",
       "      <td>1874</td>\n",
       "      <td>481</td>\n",
       "    </tr>\n",
       "  </tbody>\n",
       "</table>\n",
       "</div>"
      ],
      "text/plain": [
       "Income                0     1\n",
       "occupation                   \n",
       "?                  2544   265\n",
       "Adm-clerical       4843   768\n",
       "Armed-Forces         10     5\n",
       "Craft-repair       4729  1383\n",
       "Exec-managerial    3178  2908\n",
       "Farming-fishing    1317   173\n",
       "Handlers-cleaners  1934   138\n",
       "Machine-op-inspct  2650   372\n",
       "Other-service      4719   204\n",
       "Priv-house-serv     239     3\n",
       "Prof-specialty     3388  2784\n",
       "Protective-serv     675   308\n",
       "Sales              4029  1475\n",
       "Tech-support       1026   420\n",
       "Transport-moving   1874   481"
      ]
     },
     "execution_count": 196,
     "metadata": {},
     "output_type": "execute_result"
    }
   ],
   "source": [
    "pd.crosstab(data['occupation'], data['Income'])"
   ]
  },
  {
   "cell_type": "code",
   "execution_count": 197,
   "metadata": {},
   "outputs": [],
   "source": [
    "data['occupation'].replace('?', 'Other-service', inplace = True)"
   ]
  },
  {
   "cell_type": "code",
   "execution_count": 198,
   "metadata": {},
   "outputs": [
    {
     "data": {
      "text/html": [
       "<div>\n",
       "<style scoped>\n",
       "    .dataframe tbody tr th:only-of-type {\n",
       "        vertical-align: middle;\n",
       "    }\n",
       "\n",
       "    .dataframe tbody tr th {\n",
       "        vertical-align: top;\n",
       "    }\n",
       "\n",
       "    .dataframe thead th {\n",
       "        text-align: right;\n",
       "    }\n",
       "</style>\n",
       "<table border=\"1\" class=\"dataframe\">\n",
       "  <thead>\n",
       "    <tr style=\"text-align: right;\">\n",
       "      <th>Income</th>\n",
       "      <th>0</th>\n",
       "      <th>1</th>\n",
       "    </tr>\n",
       "    <tr>\n",
       "      <th>occupation</th>\n",
       "      <th></th>\n",
       "      <th></th>\n",
       "    </tr>\n",
       "  </thead>\n",
       "  <tbody>\n",
       "    <tr>\n",
       "      <th>Adm-clerical</th>\n",
       "      <td>4843</td>\n",
       "      <td>768</td>\n",
       "    </tr>\n",
       "    <tr>\n",
       "      <th>Armed-Forces</th>\n",
       "      <td>10</td>\n",
       "      <td>5</td>\n",
       "    </tr>\n",
       "    <tr>\n",
       "      <th>Craft-repair</th>\n",
       "      <td>4729</td>\n",
       "      <td>1383</td>\n",
       "    </tr>\n",
       "    <tr>\n",
       "      <th>Exec-managerial</th>\n",
       "      <td>3178</td>\n",
       "      <td>2908</td>\n",
       "    </tr>\n",
       "    <tr>\n",
       "      <th>Farming-fishing</th>\n",
       "      <td>1317</td>\n",
       "      <td>173</td>\n",
       "    </tr>\n",
       "    <tr>\n",
       "      <th>Handlers-cleaners</th>\n",
       "      <td>1934</td>\n",
       "      <td>138</td>\n",
       "    </tr>\n",
       "    <tr>\n",
       "      <th>Machine-op-inspct</th>\n",
       "      <td>2650</td>\n",
       "      <td>372</td>\n",
       "    </tr>\n",
       "    <tr>\n",
       "      <th>Other-service</th>\n",
       "      <td>7263</td>\n",
       "      <td>469</td>\n",
       "    </tr>\n",
       "    <tr>\n",
       "      <th>Priv-house-serv</th>\n",
       "      <td>239</td>\n",
       "      <td>3</td>\n",
       "    </tr>\n",
       "    <tr>\n",
       "      <th>Prof-specialty</th>\n",
       "      <td>3388</td>\n",
       "      <td>2784</td>\n",
       "    </tr>\n",
       "    <tr>\n",
       "      <th>Protective-serv</th>\n",
       "      <td>675</td>\n",
       "      <td>308</td>\n",
       "    </tr>\n",
       "    <tr>\n",
       "      <th>Sales</th>\n",
       "      <td>4029</td>\n",
       "      <td>1475</td>\n",
       "    </tr>\n",
       "    <tr>\n",
       "      <th>Tech-support</th>\n",
       "      <td>1026</td>\n",
       "      <td>420</td>\n",
       "    </tr>\n",
       "    <tr>\n",
       "      <th>Transport-moving</th>\n",
       "      <td>1874</td>\n",
       "      <td>481</td>\n",
       "    </tr>\n",
       "  </tbody>\n",
       "</table>\n",
       "</div>"
      ],
      "text/plain": [
       "Income                0     1\n",
       "occupation                   \n",
       "Adm-clerical       4843   768\n",
       "Armed-Forces         10     5\n",
       "Craft-repair       4729  1383\n",
       "Exec-managerial    3178  2908\n",
       "Farming-fishing    1317   173\n",
       "Handlers-cleaners  1934   138\n",
       "Machine-op-inspct  2650   372\n",
       "Other-service      7263   469\n",
       "Priv-house-serv     239     3\n",
       "Prof-specialty     3388  2784\n",
       "Protective-serv     675   308\n",
       "Sales              4029  1475\n",
       "Tech-support       1026   420\n",
       "Transport-moving   1874   481"
      ]
     },
     "execution_count": 198,
     "metadata": {},
     "output_type": "execute_result"
    }
   ],
   "source": [
    "pd.crosstab(data['occupation'], data['Income'])"
   ]
  },
  {
   "cell_type": "code",
   "execution_count": 199,
   "metadata": {},
   "outputs": [
    {
     "data": {
      "text/html": [
       "<div>\n",
       "<style scoped>\n",
       "    .dataframe tbody tr th:only-of-type {\n",
       "        vertical-align: middle;\n",
       "    }\n",
       "\n",
       "    .dataframe tbody tr th {\n",
       "        vertical-align: top;\n",
       "    }\n",
       "\n",
       "    .dataframe thead th {\n",
       "        text-align: right;\n",
       "    }\n",
       "</style>\n",
       "<table border=\"1\" class=\"dataframe\">\n",
       "  <thead>\n",
       "    <tr style=\"text-align: right;\">\n",
       "      <th>Income</th>\n",
       "      <th>0</th>\n",
       "      <th>1</th>\n",
       "    </tr>\n",
       "    <tr>\n",
       "      <th>relationship</th>\n",
       "      <th></th>\n",
       "      <th></th>\n",
       "    </tr>\n",
       "  </thead>\n",
       "  <tbody>\n",
       "    <tr>\n",
       "      <th>Husband</th>\n",
       "      <td>10870</td>\n",
       "      <td>8846</td>\n",
       "    </tr>\n",
       "    <tr>\n",
       "      <th>Not-in-family</th>\n",
       "      <td>11307</td>\n",
       "      <td>1276</td>\n",
       "    </tr>\n",
       "    <tr>\n",
       "      <th>Other-relative</th>\n",
       "      <td>1454</td>\n",
       "      <td>52</td>\n",
       "    </tr>\n",
       "    <tr>\n",
       "      <th>Own-child</th>\n",
       "      <td>7470</td>\n",
       "      <td>111</td>\n",
       "    </tr>\n",
       "    <tr>\n",
       "      <th>Unmarried</th>\n",
       "      <td>4816</td>\n",
       "      <td>309</td>\n",
       "    </tr>\n",
       "    <tr>\n",
       "      <th>Wife</th>\n",
       "      <td>1238</td>\n",
       "      <td>1093</td>\n",
       "    </tr>\n",
       "  </tbody>\n",
       "</table>\n",
       "</div>"
      ],
      "text/plain": [
       "Income              0     1\n",
       "relationship               \n",
       "Husband         10870  8846\n",
       "Not-in-family   11307  1276\n",
       "Other-relative   1454    52\n",
       "Own-child        7470   111\n",
       "Unmarried        4816   309\n",
       "Wife             1238  1093"
      ]
     },
     "execution_count": 199,
     "metadata": {},
     "output_type": "execute_result"
    }
   ],
   "source": [
    "pd.crosstab(data['relationship'], data['Income'])"
   ]
  },
  {
   "cell_type": "code",
   "execution_count": 200,
   "metadata": {
    "scrolled": true
   },
   "outputs": [
    {
     "data": {
      "text/html": [
       "<div>\n",
       "<style scoped>\n",
       "    .dataframe tbody tr th:only-of-type {\n",
       "        vertical-align: middle;\n",
       "    }\n",
       "\n",
       "    .dataframe tbody tr th {\n",
       "        vertical-align: top;\n",
       "    }\n",
       "\n",
       "    .dataframe thead th {\n",
       "        text-align: right;\n",
       "    }\n",
       "</style>\n",
       "<table border=\"1\" class=\"dataframe\">\n",
       "  <thead>\n",
       "    <tr style=\"text-align: right;\">\n",
       "      <th>Income</th>\n",
       "      <th>0</th>\n",
       "      <th>1</th>\n",
       "    </tr>\n",
       "    <tr>\n",
       "      <th>native_country</th>\n",
       "      <th></th>\n",
       "      <th></th>\n",
       "    </tr>\n",
       "  </thead>\n",
       "  <tbody>\n",
       "    <tr>\n",
       "      <th>?</th>\n",
       "      <td>637</td>\n",
       "      <td>220</td>\n",
       "    </tr>\n",
       "    <tr>\n",
       "      <th>Cambodia</th>\n",
       "      <td>19</td>\n",
       "      <td>9</td>\n",
       "    </tr>\n",
       "    <tr>\n",
       "      <th>Canada</th>\n",
       "      <td>119</td>\n",
       "      <td>63</td>\n",
       "    </tr>\n",
       "    <tr>\n",
       "      <th>China</th>\n",
       "      <td>86</td>\n",
       "      <td>36</td>\n",
       "    </tr>\n",
       "    <tr>\n",
       "      <th>Columbia</th>\n",
       "      <td>81</td>\n",
       "      <td>4</td>\n",
       "    </tr>\n",
       "    <tr>\n",
       "      <th>Cuba</th>\n",
       "      <td>104</td>\n",
       "      <td>34</td>\n",
       "    </tr>\n",
       "    <tr>\n",
       "      <th>Dominican-Republic</th>\n",
       "      <td>98</td>\n",
       "      <td>5</td>\n",
       "    </tr>\n",
       "    <tr>\n",
       "      <th>Ecuador</th>\n",
       "      <td>39</td>\n",
       "      <td>6</td>\n",
       "    </tr>\n",
       "    <tr>\n",
       "      <th>El-Salvador</th>\n",
       "      <td>144</td>\n",
       "      <td>11</td>\n",
       "    </tr>\n",
       "    <tr>\n",
       "      <th>England</th>\n",
       "      <td>80</td>\n",
       "      <td>47</td>\n",
       "    </tr>\n",
       "    <tr>\n",
       "      <th>France</th>\n",
       "      <td>22</td>\n",
       "      <td>16</td>\n",
       "    </tr>\n",
       "    <tr>\n",
       "      <th>Germany</th>\n",
       "      <td>148</td>\n",
       "      <td>58</td>\n",
       "    </tr>\n",
       "    <tr>\n",
       "      <th>Greece</th>\n",
       "      <td>31</td>\n",
       "      <td>18</td>\n",
       "    </tr>\n",
       "    <tr>\n",
       "      <th>Guatemala</th>\n",
       "      <td>85</td>\n",
       "      <td>3</td>\n",
       "    </tr>\n",
       "    <tr>\n",
       "      <th>Haiti</th>\n",
       "      <td>66</td>\n",
       "      <td>9</td>\n",
       "    </tr>\n",
       "    <tr>\n",
       "      <th>Holand-Netherlands</th>\n",
       "      <td>1</td>\n",
       "      <td>0</td>\n",
       "    </tr>\n",
       "    <tr>\n",
       "      <th>Honduras</th>\n",
       "      <td>18</td>\n",
       "      <td>2</td>\n",
       "    </tr>\n",
       "    <tr>\n",
       "      <th>Hong</th>\n",
       "      <td>22</td>\n",
       "      <td>8</td>\n",
       "    </tr>\n",
       "    <tr>\n",
       "      <th>Hungary</th>\n",
       "      <td>13</td>\n",
       "      <td>6</td>\n",
       "    </tr>\n",
       "    <tr>\n",
       "      <th>India</th>\n",
       "      <td>89</td>\n",
       "      <td>62</td>\n",
       "    </tr>\n",
       "    <tr>\n",
       "      <th>Iran</th>\n",
       "      <td>37</td>\n",
       "      <td>22</td>\n",
       "    </tr>\n",
       "    <tr>\n",
       "      <th>Ireland</th>\n",
       "      <td>26</td>\n",
       "      <td>11</td>\n",
       "    </tr>\n",
       "    <tr>\n",
       "      <th>Italy</th>\n",
       "      <td>71</td>\n",
       "      <td>34</td>\n",
       "    </tr>\n",
       "    <tr>\n",
       "      <th>Jamaica</th>\n",
       "      <td>91</td>\n",
       "      <td>15</td>\n",
       "    </tr>\n",
       "    <tr>\n",
       "      <th>Japan</th>\n",
       "      <td>60</td>\n",
       "      <td>32</td>\n",
       "    </tr>\n",
       "    <tr>\n",
       "      <th>Laos</th>\n",
       "      <td>21</td>\n",
       "      <td>2</td>\n",
       "    </tr>\n",
       "    <tr>\n",
       "      <th>Mexico</th>\n",
       "      <td>904</td>\n",
       "      <td>47</td>\n",
       "    </tr>\n",
       "    <tr>\n",
       "      <th>Nicaragua</th>\n",
       "      <td>46</td>\n",
       "      <td>3</td>\n",
       "    </tr>\n",
       "    <tr>\n",
       "      <th>Outlying-US(Guam-USVI-etc)</th>\n",
       "      <td>22</td>\n",
       "      <td>1</td>\n",
       "    </tr>\n",
       "    <tr>\n",
       "      <th>Peru</th>\n",
       "      <td>42</td>\n",
       "      <td>4</td>\n",
       "    </tr>\n",
       "    <tr>\n",
       "      <th>Philippines</th>\n",
       "      <td>210</td>\n",
       "      <td>85</td>\n",
       "    </tr>\n",
       "    <tr>\n",
       "      <th>Poland</th>\n",
       "      <td>70</td>\n",
       "      <td>17</td>\n",
       "    </tr>\n",
       "    <tr>\n",
       "      <th>Portugal</th>\n",
       "      <td>55</td>\n",
       "      <td>12</td>\n",
       "    </tr>\n",
       "    <tr>\n",
       "      <th>Puerto-Rico</th>\n",
       "      <td>164</td>\n",
       "      <td>20</td>\n",
       "    </tr>\n",
       "    <tr>\n",
       "      <th>Scotland</th>\n",
       "      <td>18</td>\n",
       "      <td>3</td>\n",
       "    </tr>\n",
       "    <tr>\n",
       "      <th>South</th>\n",
       "      <td>95</td>\n",
       "      <td>20</td>\n",
       "    </tr>\n",
       "    <tr>\n",
       "      <th>Taiwan</th>\n",
       "      <td>39</td>\n",
       "      <td>26</td>\n",
       "    </tr>\n",
       "    <tr>\n",
       "      <th>Thailand</th>\n",
       "      <td>25</td>\n",
       "      <td>5</td>\n",
       "    </tr>\n",
       "    <tr>\n",
       "      <th>Trinadad&amp;Tobago</th>\n",
       "      <td>25</td>\n",
       "      <td>2</td>\n",
       "    </tr>\n",
       "    <tr>\n",
       "      <th>United-States</th>\n",
       "      <td>33138</td>\n",
       "      <td>10694</td>\n",
       "    </tr>\n",
       "    <tr>\n",
       "      <th>Vietnam</th>\n",
       "      <td>79</td>\n",
       "      <td>7</td>\n",
       "    </tr>\n",
       "    <tr>\n",
       "      <th>Yugoslavia</th>\n",
       "      <td>15</td>\n",
       "      <td>8</td>\n",
       "    </tr>\n",
       "  </tbody>\n",
       "</table>\n",
       "</div>"
      ],
      "text/plain": [
       "Income                          0      1\n",
       "native_country                          \n",
       "?                             637    220\n",
       "Cambodia                       19      9\n",
       "Canada                        119     63\n",
       "China                          86     36\n",
       "Columbia                       81      4\n",
       "Cuba                          104     34\n",
       "Dominican-Republic             98      5\n",
       "Ecuador                        39      6\n",
       "El-Salvador                   144     11\n",
       "England                        80     47\n",
       "France                         22     16\n",
       "Germany                       148     58\n",
       "Greece                         31     18\n",
       "Guatemala                      85      3\n",
       "Haiti                          66      9\n",
       "Holand-Netherlands              1      0\n",
       "Honduras                       18      2\n",
       "Hong                           22      8\n",
       "Hungary                        13      6\n",
       "India                          89     62\n",
       "Iran                           37     22\n",
       "Ireland                        26     11\n",
       "Italy                          71     34\n",
       "Jamaica                        91     15\n",
       "Japan                          60     32\n",
       "Laos                           21      2\n",
       "Mexico                        904     47\n",
       "Nicaragua                      46      3\n",
       "Outlying-US(Guam-USVI-etc)     22      1\n",
       "Peru                           42      4\n",
       "Philippines                   210     85\n",
       "Poland                         70     17\n",
       "Portugal                       55     12\n",
       "Puerto-Rico                   164     20\n",
       "Scotland                       18      3\n",
       "South                          95     20\n",
       "Taiwan                         39     26\n",
       "Thailand                       25      5\n",
       "Trinadad&Tobago                25      2\n",
       "United-States               33138  10694\n",
       "Vietnam                        79      7\n",
       "Yugoslavia                     15      8"
      ]
     },
     "execution_count": 200,
     "metadata": {},
     "output_type": "execute_result"
    }
   ],
   "source": [
    "pd.crosstab(data['native_country'], data['Income'])"
   ]
  },
  {
   "cell_type": "code",
   "execution_count": 201,
   "metadata": {},
   "outputs": [],
   "source": [
    "data['native_country'].replace (['Cambodia', 'China', 'Hong', 'India', 'Iran', 'Japan', 'Laos', 'Philippines', 'Taiwan', 'Thailand', 'Vietnam'], \n",
    "                                'Asia', inplace=True)\n",
    "\n",
    "data['native_country'].replace (['Canada', 'Outlying-US(Guam-USVI-etc)', 'United-States'],\n",
    "                                'North America', inplace = True)\n",
    "\n",
    "data['native_country'].replace (['Columbia', 'Ecuador', 'Peru'],\n",
    "                                'South America', inplace = True)\n",
    "\n",
    "data['native_country'].replace (['Cuba', 'Dominican-Republic', 'El-Salvador', 'Guatemala', 'Haiti', 'Honduras', 'Jamaica', 'Mexico', 'Nicaragua', 'Puerto-Rico', 'Trinadad&Tobago'],\n",
    "                                'Central America', inplace = True)\n",
    "\n",
    "data['native_country'].replace(['England', 'France', 'Germany', 'Greece', 'Holand-Netherlands', 'Hungary', 'Ireland', 'Italy', 'Poland', 'Portugal', 'Scotland', 'Yugoslavia'],\n",
    "                               'Europe', inplace = True)\n",
    "\n",
    "data['native_country'].replace(['South', '?'], \n",
    "                               'Other',  inplace = True)"
   ]
  },
  {
   "cell_type": "code",
   "execution_count": 202,
   "metadata": {},
   "outputs": [
    {
     "data": {
      "text/html": [
       "<div>\n",
       "<style scoped>\n",
       "    .dataframe tbody tr th:only-of-type {\n",
       "        vertical-align: middle;\n",
       "    }\n",
       "\n",
       "    .dataframe tbody tr th {\n",
       "        vertical-align: top;\n",
       "    }\n",
       "\n",
       "    .dataframe thead th {\n",
       "        text-align: right;\n",
       "    }\n",
       "</style>\n",
       "<table border=\"1\" class=\"dataframe\">\n",
       "  <thead>\n",
       "    <tr style=\"text-align: right;\">\n",
       "      <th>Income</th>\n",
       "      <th>0</th>\n",
       "      <th>1</th>\n",
       "    </tr>\n",
       "    <tr>\n",
       "      <th>native_country</th>\n",
       "      <th></th>\n",
       "      <th></th>\n",
       "    </tr>\n",
       "  </thead>\n",
       "  <tbody>\n",
       "    <tr>\n",
       "      <th>Asia</th>\n",
       "      <td>687</td>\n",
       "      <td>294</td>\n",
       "    </tr>\n",
       "    <tr>\n",
       "      <th>Central America</th>\n",
       "      <td>1745</td>\n",
       "      <td>151</td>\n",
       "    </tr>\n",
       "    <tr>\n",
       "      <th>Europe</th>\n",
       "      <td>550</td>\n",
       "      <td>230</td>\n",
       "    </tr>\n",
       "    <tr>\n",
       "      <th>North America</th>\n",
       "      <td>33279</td>\n",
       "      <td>10758</td>\n",
       "    </tr>\n",
       "    <tr>\n",
       "      <th>Other</th>\n",
       "      <td>732</td>\n",
       "      <td>240</td>\n",
       "    </tr>\n",
       "    <tr>\n",
       "      <th>South America</th>\n",
       "      <td>162</td>\n",
       "      <td>14</td>\n",
       "    </tr>\n",
       "  </tbody>\n",
       "</table>\n",
       "</div>"
      ],
      "text/plain": [
       "Income               0      1\n",
       "native_country               \n",
       "Asia               687    294\n",
       "Central America   1745    151\n",
       "Europe             550    230\n",
       "North America    33279  10758\n",
       "Other              732    240\n",
       "South America      162     14"
      ]
     },
     "execution_count": 202,
     "metadata": {},
     "output_type": "execute_result"
    }
   ],
   "source": [
    "pd.crosstab(data['native_country'], data['Income'])"
   ]
  },
  {
   "cell_type": "code",
   "execution_count": 203,
   "metadata": {},
   "outputs": [
    {
     "data": {
      "text/html": [
       "<div>\n",
       "<style scoped>\n",
       "    .dataframe tbody tr th:only-of-type {\n",
       "        vertical-align: middle;\n",
       "    }\n",
       "\n",
       "    .dataframe tbody tr th {\n",
       "        vertical-align: top;\n",
       "    }\n",
       "\n",
       "    .dataframe thead th {\n",
       "        text-align: right;\n",
       "    }\n",
       "</style>\n",
       "<table border=\"1\" class=\"dataframe\">\n",
       "  <thead>\n",
       "    <tr style=\"text-align: right;\">\n",
       "      <th></th>\n",
       "      <th>age</th>\n",
       "      <th>education-num</th>\n",
       "      <th>capital_gain</th>\n",
       "      <th>capital_loss</th>\n",
       "      <th>hours_per_week</th>\n",
       "      <th>Income</th>\n",
       "    </tr>\n",
       "  </thead>\n",
       "  <tbody>\n",
       "    <tr>\n",
       "      <th>count</th>\n",
       "      <td>48842.000000</td>\n",
       "      <td>48842.000000</td>\n",
       "      <td>48842.000000</td>\n",
       "      <td>48842.000000</td>\n",
       "      <td>48842.000000</td>\n",
       "      <td>48842.000000</td>\n",
       "    </tr>\n",
       "    <tr>\n",
       "      <th>mean</th>\n",
       "      <td>38.643585</td>\n",
       "      <td>10.078089</td>\n",
       "      <td>1079.067626</td>\n",
       "      <td>87.502314</td>\n",
       "      <td>40.422382</td>\n",
       "      <td>0.239282</td>\n",
       "    </tr>\n",
       "    <tr>\n",
       "      <th>std</th>\n",
       "      <td>13.710510</td>\n",
       "      <td>2.570973</td>\n",
       "      <td>7452.019058</td>\n",
       "      <td>403.004552</td>\n",
       "      <td>12.391444</td>\n",
       "      <td>0.426649</td>\n",
       "    </tr>\n",
       "    <tr>\n",
       "      <th>min</th>\n",
       "      <td>17.000000</td>\n",
       "      <td>1.000000</td>\n",
       "      <td>0.000000</td>\n",
       "      <td>0.000000</td>\n",
       "      <td>1.000000</td>\n",
       "      <td>0.000000</td>\n",
       "    </tr>\n",
       "    <tr>\n",
       "      <th>25%</th>\n",
       "      <td>28.000000</td>\n",
       "      <td>9.000000</td>\n",
       "      <td>0.000000</td>\n",
       "      <td>0.000000</td>\n",
       "      <td>40.000000</td>\n",
       "      <td>0.000000</td>\n",
       "    </tr>\n",
       "    <tr>\n",
       "      <th>50%</th>\n",
       "      <td>37.000000</td>\n",
       "      <td>10.000000</td>\n",
       "      <td>0.000000</td>\n",
       "      <td>0.000000</td>\n",
       "      <td>40.000000</td>\n",
       "      <td>0.000000</td>\n",
       "    </tr>\n",
       "    <tr>\n",
       "      <th>75%</th>\n",
       "      <td>48.000000</td>\n",
       "      <td>12.000000</td>\n",
       "      <td>0.000000</td>\n",
       "      <td>0.000000</td>\n",
       "      <td>45.000000</td>\n",
       "      <td>0.000000</td>\n",
       "    </tr>\n",
       "    <tr>\n",
       "      <th>max</th>\n",
       "      <td>90.000000</td>\n",
       "      <td>16.000000</td>\n",
       "      <td>99999.000000</td>\n",
       "      <td>4356.000000</td>\n",
       "      <td>99.000000</td>\n",
       "      <td>1.000000</td>\n",
       "    </tr>\n",
       "  </tbody>\n",
       "</table>\n",
       "</div>"
      ],
      "text/plain": [
       "                age  education-num  capital_gain  capital_loss  \\\n",
       "count  48842.000000   48842.000000  48842.000000  48842.000000   \n",
       "mean      38.643585      10.078089   1079.067626     87.502314   \n",
       "std       13.710510       2.570973   7452.019058    403.004552   \n",
       "min       17.000000       1.000000      0.000000      0.000000   \n",
       "25%       28.000000       9.000000      0.000000      0.000000   \n",
       "50%       37.000000      10.000000      0.000000      0.000000   \n",
       "75%       48.000000      12.000000      0.000000      0.000000   \n",
       "max       90.000000      16.000000  99999.000000   4356.000000   \n",
       "\n",
       "       hours_per_week        Income  \n",
       "count    48842.000000  48842.000000  \n",
       "mean        40.422382      0.239282  \n",
       "std         12.391444      0.426649  \n",
       "min          1.000000      0.000000  \n",
       "25%         40.000000      0.000000  \n",
       "50%         40.000000      0.000000  \n",
       "75%         45.000000      0.000000  \n",
       "max         99.000000      1.000000  "
      ]
     },
     "execution_count": 203,
     "metadata": {},
     "output_type": "execute_result"
    }
   ],
   "source": [
    "data.describe() "
   ]
  },
  {
   "cell_type": "code",
   "execution_count": 204,
   "metadata": {},
   "outputs": [
    {
     "data": {
      "text/plain": [
       "0    0.760718\n",
       "1    0.239282\n",
       "Name: Income, dtype: float64"
      ]
     },
     "execution_count": 204,
     "metadata": {},
     "output_type": "execute_result"
    }
   ],
   "source": [
    "data.Income.value_counts(normalize=True)"
   ]
  },
  {
   "cell_type": "code",
   "execution_count": 205,
   "metadata": {},
   "outputs": [
    {
     "data": {
      "text/html": [
       "<div>\n",
       "<style scoped>\n",
       "    .dataframe tbody tr th:only-of-type {\n",
       "        vertical-align: middle;\n",
       "    }\n",
       "\n",
       "    .dataframe tbody tr th {\n",
       "        vertical-align: top;\n",
       "    }\n",
       "\n",
       "    .dataframe thead th {\n",
       "        text-align: right;\n",
       "    }\n",
       "</style>\n",
       "<table border=\"1\" class=\"dataframe\">\n",
       "  <thead>\n",
       "    <tr style=\"text-align: right;\">\n",
       "      <th></th>\n",
       "      <th>age</th>\n",
       "      <th>workclass</th>\n",
       "      <th>education-num</th>\n",
       "      <th>marital_status</th>\n",
       "      <th>occupation</th>\n",
       "      <th>relationship</th>\n",
       "      <th>race</th>\n",
       "      <th>sex</th>\n",
       "      <th>capital_gain</th>\n",
       "      <th>capital_loss</th>\n",
       "      <th>hours_per_week</th>\n",
       "      <th>native_country</th>\n",
       "      <th>Income</th>\n",
       "    </tr>\n",
       "  </thead>\n",
       "  <tbody>\n",
       "    <tr>\n",
       "      <th>0</th>\n",
       "      <td>39</td>\n",
       "      <td>Government</td>\n",
       "      <td>13</td>\n",
       "      <td>Never-married</td>\n",
       "      <td>Adm-clerical</td>\n",
       "      <td>Not-in-family</td>\n",
       "      <td>White</td>\n",
       "      <td>Male</td>\n",
       "      <td>2174</td>\n",
       "      <td>0</td>\n",
       "      <td>40</td>\n",
       "      <td>North America</td>\n",
       "      <td>0</td>\n",
       "    </tr>\n",
       "    <tr>\n",
       "      <th>1</th>\n",
       "      <td>50</td>\n",
       "      <td>Self_employed</td>\n",
       "      <td>13</td>\n",
       "      <td>Married</td>\n",
       "      <td>Exec-managerial</td>\n",
       "      <td>Husband</td>\n",
       "      <td>White</td>\n",
       "      <td>Male</td>\n",
       "      <td>0</td>\n",
       "      <td>0</td>\n",
       "      <td>13</td>\n",
       "      <td>North America</td>\n",
       "      <td>0</td>\n",
       "    </tr>\n",
       "    <tr>\n",
       "      <th>2</th>\n",
       "      <td>38</td>\n",
       "      <td>Private</td>\n",
       "      <td>9</td>\n",
       "      <td>Not-Married</td>\n",
       "      <td>Handlers-cleaners</td>\n",
       "      <td>Not-in-family</td>\n",
       "      <td>White</td>\n",
       "      <td>Male</td>\n",
       "      <td>0</td>\n",
       "      <td>0</td>\n",
       "      <td>40</td>\n",
       "      <td>North America</td>\n",
       "      <td>0</td>\n",
       "    </tr>\n",
       "    <tr>\n",
       "      <th>3</th>\n",
       "      <td>53</td>\n",
       "      <td>Private</td>\n",
       "      <td>7</td>\n",
       "      <td>Married</td>\n",
       "      <td>Handlers-cleaners</td>\n",
       "      <td>Husband</td>\n",
       "      <td>Black</td>\n",
       "      <td>Male</td>\n",
       "      <td>0</td>\n",
       "      <td>0</td>\n",
       "      <td>40</td>\n",
       "      <td>North America</td>\n",
       "      <td>0</td>\n",
       "    </tr>\n",
       "    <tr>\n",
       "      <th>4</th>\n",
       "      <td>28</td>\n",
       "      <td>Private</td>\n",
       "      <td>13</td>\n",
       "      <td>Married</td>\n",
       "      <td>Prof-specialty</td>\n",
       "      <td>Wife</td>\n",
       "      <td>Black</td>\n",
       "      <td>Female</td>\n",
       "      <td>0</td>\n",
       "      <td>0</td>\n",
       "      <td>40</td>\n",
       "      <td>Central America</td>\n",
       "      <td>0</td>\n",
       "    </tr>\n",
       "  </tbody>\n",
       "</table>\n",
       "</div>"
      ],
      "text/plain": [
       "   age      workclass  education-num marital_status         occupation  \\\n",
       "0   39     Government             13  Never-married       Adm-clerical   \n",
       "1   50  Self_employed             13        Married    Exec-managerial   \n",
       "2   38        Private              9    Not-Married  Handlers-cleaners   \n",
       "3   53        Private              7        Married  Handlers-cleaners   \n",
       "4   28        Private             13        Married     Prof-specialty   \n",
       "\n",
       "    relationship   race     sex  capital_gain  capital_loss  hours_per_week  \\\n",
       "0  Not-in-family  White    Male          2174             0              40   \n",
       "1        Husband  White    Male             0             0              13   \n",
       "2  Not-in-family  White    Male             0             0              40   \n",
       "3        Husband  Black    Male             0             0              40   \n",
       "4           Wife  Black  Female             0             0              40   \n",
       "\n",
       "    native_country  Income  \n",
       "0    North America       0  \n",
       "1    North America       0  \n",
       "2    North America       0  \n",
       "3    North America       0  \n",
       "4  Central America       0  "
      ]
     },
     "execution_count": 205,
     "metadata": {},
     "output_type": "execute_result"
    }
   ],
   "source": [
    "data.head()"
   ]
  },
  {
   "cell_type": "code",
   "execution_count": 206,
   "metadata": {},
   "outputs": [],
   "source": [
    "y = data.pop('Income')"
   ]
  },
  {
   "cell_type": "code",
   "execution_count": 207,
   "metadata": {},
   "outputs": [],
   "source": [
    "data_categorics = data.select_dtypes(include=object)  # only categorics features\n",
    "data_numerics = data.select_dtypes(include = [np.int64])  # only numerics features \n",
    "\n",
    "data_numerics_DF = pd.DataFrame(data=data_numerics, columns=data_numerics.columns, index=data_numerics.index)\n",
    "\n",
    "categorical_dummies = pd.get_dummies(data_categorics)\n",
    "\n",
    "X  = pd.concat([data_numerics_DF, categorical_dummies], axis=1)  # new dataframe"
   ]
  },
  {
   "cell_type": "code",
   "execution_count": 208,
   "metadata": {},
   "outputs": [
    {
     "data": {
      "text/html": [
       "<div>\n",
       "<style scoped>\n",
       "    .dataframe tbody tr th:only-of-type {\n",
       "        vertical-align: middle;\n",
       "    }\n",
       "\n",
       "    .dataframe tbody tr th {\n",
       "        vertical-align: top;\n",
       "    }\n",
       "\n",
       "    .dataframe thead th {\n",
       "        text-align: right;\n",
       "    }\n",
       "</style>\n",
       "<table border=\"1\" class=\"dataframe\">\n",
       "  <thead>\n",
       "    <tr style=\"text-align: right;\">\n",
       "      <th></th>\n",
       "      <th>age</th>\n",
       "      <th>education-num</th>\n",
       "      <th>capital_gain</th>\n",
       "      <th>capital_loss</th>\n",
       "      <th>hours_per_week</th>\n",
       "      <th>workclass_Government</th>\n",
       "      <th>workclass_Other</th>\n",
       "      <th>workclass_Private</th>\n",
       "      <th>workclass_Self_employed</th>\n",
       "      <th>workclass_Unemployed</th>\n",
       "      <th>...</th>\n",
       "      <th>race_Other</th>\n",
       "      <th>race_White</th>\n",
       "      <th>sex_Female</th>\n",
       "      <th>sex_Male</th>\n",
       "      <th>native_country_Asia</th>\n",
       "      <th>native_country_Central America</th>\n",
       "      <th>native_country_Europe</th>\n",
       "      <th>native_country_North America</th>\n",
       "      <th>native_country_Other</th>\n",
       "      <th>native_country_South America</th>\n",
       "    </tr>\n",
       "  </thead>\n",
       "  <tbody>\n",
       "    <tr>\n",
       "      <th>0</th>\n",
       "      <td>39</td>\n",
       "      <td>13</td>\n",
       "      <td>2174</td>\n",
       "      <td>0</td>\n",
       "      <td>40</td>\n",
       "      <td>1</td>\n",
       "      <td>0</td>\n",
       "      <td>0</td>\n",
       "      <td>0</td>\n",
       "      <td>0</td>\n",
       "      <td>...</td>\n",
       "      <td>0</td>\n",
       "      <td>1</td>\n",
       "      <td>0</td>\n",
       "      <td>1</td>\n",
       "      <td>0</td>\n",
       "      <td>0</td>\n",
       "      <td>0</td>\n",
       "      <td>1</td>\n",
       "      <td>0</td>\n",
       "      <td>0</td>\n",
       "    </tr>\n",
       "    <tr>\n",
       "      <th>1</th>\n",
       "      <td>50</td>\n",
       "      <td>13</td>\n",
       "      <td>0</td>\n",
       "      <td>0</td>\n",
       "      <td>13</td>\n",
       "      <td>0</td>\n",
       "      <td>0</td>\n",
       "      <td>0</td>\n",
       "      <td>1</td>\n",
       "      <td>0</td>\n",
       "      <td>...</td>\n",
       "      <td>0</td>\n",
       "      <td>1</td>\n",
       "      <td>0</td>\n",
       "      <td>1</td>\n",
       "      <td>0</td>\n",
       "      <td>0</td>\n",
       "      <td>0</td>\n",
       "      <td>1</td>\n",
       "      <td>0</td>\n",
       "      <td>0</td>\n",
       "    </tr>\n",
       "    <tr>\n",
       "      <th>2</th>\n",
       "      <td>38</td>\n",
       "      <td>9</td>\n",
       "      <td>0</td>\n",
       "      <td>0</td>\n",
       "      <td>40</td>\n",
       "      <td>0</td>\n",
       "      <td>0</td>\n",
       "      <td>1</td>\n",
       "      <td>0</td>\n",
       "      <td>0</td>\n",
       "      <td>...</td>\n",
       "      <td>0</td>\n",
       "      <td>1</td>\n",
       "      <td>0</td>\n",
       "      <td>1</td>\n",
       "      <td>0</td>\n",
       "      <td>0</td>\n",
       "      <td>0</td>\n",
       "      <td>1</td>\n",
       "      <td>0</td>\n",
       "      <td>0</td>\n",
       "    </tr>\n",
       "    <tr>\n",
       "      <th>3</th>\n",
       "      <td>53</td>\n",
       "      <td>7</td>\n",
       "      <td>0</td>\n",
       "      <td>0</td>\n",
       "      <td>40</td>\n",
       "      <td>0</td>\n",
       "      <td>0</td>\n",
       "      <td>1</td>\n",
       "      <td>0</td>\n",
       "      <td>0</td>\n",
       "      <td>...</td>\n",
       "      <td>0</td>\n",
       "      <td>0</td>\n",
       "      <td>0</td>\n",
       "      <td>1</td>\n",
       "      <td>0</td>\n",
       "      <td>0</td>\n",
       "      <td>0</td>\n",
       "      <td>1</td>\n",
       "      <td>0</td>\n",
       "      <td>0</td>\n",
       "    </tr>\n",
       "    <tr>\n",
       "      <th>4</th>\n",
       "      <td>28</td>\n",
       "      <td>13</td>\n",
       "      <td>0</td>\n",
       "      <td>0</td>\n",
       "      <td>40</td>\n",
       "      <td>0</td>\n",
       "      <td>0</td>\n",
       "      <td>1</td>\n",
       "      <td>0</td>\n",
       "      <td>0</td>\n",
       "      <td>...</td>\n",
       "      <td>0</td>\n",
       "      <td>0</td>\n",
       "      <td>1</td>\n",
       "      <td>0</td>\n",
       "      <td>0</td>\n",
       "      <td>1</td>\n",
       "      <td>0</td>\n",
       "      <td>0</td>\n",
       "      <td>0</td>\n",
       "      <td>0</td>\n",
       "    </tr>\n",
       "  </tbody>\n",
       "</table>\n",
       "<p>5 rows × 46 columns</p>\n",
       "</div>"
      ],
      "text/plain": [
       "   age  education-num  capital_gain  capital_loss  hours_per_week  \\\n",
       "0   39             13          2174             0              40   \n",
       "1   50             13             0             0              13   \n",
       "2   38              9             0             0              40   \n",
       "3   53              7             0             0              40   \n",
       "4   28             13             0             0              40   \n",
       "\n",
       "   workclass_Government  workclass_Other  workclass_Private  \\\n",
       "0                     1                0                  0   \n",
       "1                     0                0                  0   \n",
       "2                     0                0                  1   \n",
       "3                     0                0                  1   \n",
       "4                     0                0                  1   \n",
       "\n",
       "   workclass_Self_employed  workclass_Unemployed  \\\n",
       "0                        0                     0   \n",
       "1                        1                     0   \n",
       "2                        0                     0   \n",
       "3                        0                     0   \n",
       "4                        0                     0   \n",
       "\n",
       "               ...               race_Other  race_White  sex_Female  sex_Male  \\\n",
       "0              ...                        0           1           0         1   \n",
       "1              ...                        0           1           0         1   \n",
       "2              ...                        0           1           0         1   \n",
       "3              ...                        0           0           0         1   \n",
       "4              ...                        0           0           1         0   \n",
       "\n",
       "   native_country_Asia  native_country_Central America  native_country_Europe  \\\n",
       "0                    0                               0                      0   \n",
       "1                    0                               0                      0   \n",
       "2                    0                               0                      0   \n",
       "3                    0                               0                      0   \n",
       "4                    0                               1                      0   \n",
       "\n",
       "   native_country_North America  native_country_Other  \\\n",
       "0                             1                     0   \n",
       "1                             1                     0   \n",
       "2                             1                     0   \n",
       "3                             1                     0   \n",
       "4                             0                     0   \n",
       "\n",
       "   native_country_South America  \n",
       "0                             0  \n",
       "1                             0  \n",
       "2                             0  \n",
       "3                             0  \n",
       "4                             0  \n",
       "\n",
       "[5 rows x 46 columns]"
      ]
     },
     "execution_count": 208,
     "metadata": {},
     "output_type": "execute_result"
    }
   ],
   "source": [
    "X.head()"
   ]
  },
  {
   "cell_type": "markdown",
   "metadata": {},
   "source": [
    "** Split dataset **"
   ]
  },
  {
   "cell_type": "code",
   "execution_count": 209,
   "metadata": {},
   "outputs": [],
   "source": [
    "from sklearn.model_selection import train_test_split\n",
    "\n",
    "X_train, X_test, y_train, y_test= train_test_split(X, y, test_size = 0.3, random_state = 123)"
   ]
  },
  {
   "cell_type": "code",
   "execution_count": 210,
   "metadata": {},
   "outputs": [
    {
     "data": {
      "text/plain": [
       "((34189, 46), (14653, 46))"
      ]
     },
     "execution_count": 210,
     "metadata": {},
     "output_type": "execute_result"
    }
   ],
   "source": [
    "X_train.shape, X_test.shape"
   ]
  },
  {
   "cell_type": "code",
   "execution_count": 211,
   "metadata": {},
   "outputs": [
    {
     "data": {
      "text/plain": [
       "0    0.760157\n",
       "1    0.239843\n",
       "Name: Income, dtype: float64"
      ]
     },
     "execution_count": 211,
     "metadata": {},
     "output_type": "execute_result"
    }
   ],
   "source": [
    "y_train.value_counts(normalize = True)"
   ]
  },
  {
   "cell_type": "code",
   "execution_count": 212,
   "metadata": {},
   "outputs": [],
   "source": [
    "#from imblearn.over_sampling import SMOTE\n",
    "\n",
    "#sm = SMOTE(k_neighbors=3)\n",
    "\n",
    "#X_train_res, y_train_res = sm.fit_sample(X_train, y_train)\n",
    "\n",
    "#y_train_res = pd.Series(data = y_train_res)\n",
    "\n",
    "#y_train_res.value_counts()"
   ]
  },
  {
   "cell_type": "markdown",
   "metadata": {},
   "source": [
    "**Logistic Regression, Naive Bayes, Decision Tree and Random Forest**"
   ]
  },
  {
   "cell_type": "code",
   "execution_count": 213,
   "metadata": {},
   "outputs": [],
   "source": [
    "from sklearn.pipeline import Pipeline\n",
    "from sklearn.preprocessing import StandardScaler\n",
    "from sklearn.model_selection import GridSearchCV\n",
    "from sklearn.model_selection import RandomizedSearchCV\n",
    "from sklearn.metrics import accuracy_score, recall_score\n",
    "\n",
    "from sklearn.linear_model import LogisticRegression\n",
    "from sklearn.naive_bayes import MultinomialNB\n",
    "from sklearn.tree import DecisionTreeClassifier\n",
    "from sklearn.ensemble import RandomForestClassifier\n",
    "from xgboost import XGBClassifier\n",
    "\n",
    "import time"
   ]
  },
  {
   "cell_type": "code",
   "execution_count": 237,
   "metadata": {},
   "outputs": [],
   "source": [
    "models = [[(\"standarization\", StandardScaler()),(\"model\", LogisticRegression())],\n",
    "          [(\"model\", MultinomialNB())],\n",
    "          [('model', DecisionTreeClassifier())],\n",
    "          [(\"model\", RandomForestClassifier())],\n",
    "          [(\"model\", XGBClassifier())]]\n",
    "          \n",
    "\n",
    "param_grids = [{'model__penalty': ['l1', 'l2'], 'model__C': [1, 0.1]},\n",
    "               {},\n",
    "               {'model__max_depth': [5, 7, 10], 'model__min_samples_leaf': [5, 10, 15]},\n",
    "               {\"model__n_estimators\": [100, 150, 200], 'model__max_depth': [5, 7, 10] ,\"model__min_samples_leaf\": [5, 10, 15]},\n",
    "               {\"model__learning_rate\":[0.1, 0.2], \"model__n_estimators\": [100, 150, 200], \"model__max_depth\":[5, 7, 10], 'model__min_child_weight':[5, 10, 15]}]\n",
    "\n"
   ]
  },
  {
   "cell_type": "code",
   "execution_count": 238,
   "metadata": {},
   "outputs": [
    {
     "name": "stderr",
     "output_type": "stream",
     "text": [
      "C:\\ProgramData\\Anaconda3\\lib\\site-packages\\sklearn\\preprocessing\\data.py:625: DataConversionWarning: Data with input dtype uint8, int64 were all converted to float64 by StandardScaler.\n",
      "  return self.partial_fit(X, y)\n",
      "C:\\ProgramData\\Anaconda3\\lib\\site-packages\\sklearn\\base.py:465: DataConversionWarning: Data with input dtype uint8, int64 were all converted to float64 by StandardScaler.\n",
      "  return self.fit(X, y, **fit_params).transform(X)\n",
      "C:\\ProgramData\\Anaconda3\\lib\\site-packages\\sklearn\\linear_model\\logistic.py:433: FutureWarning: Default solver will be changed to 'lbfgs' in 0.22. Specify a solver to silence this warning.\n",
      "  FutureWarning)\n",
      "C:\\ProgramData\\Anaconda3\\lib\\site-packages\\sklearn\\pipeline.py:331: DataConversionWarning: Data with input dtype uint8, int64 were all converted to float64 by StandardScaler.\n",
      "  Xt = transform.transform(Xt)\n",
      "C:\\ProgramData\\Anaconda3\\lib\\site-packages\\sklearn\\pipeline.py:331: DataConversionWarning: Data with input dtype uint8, int64 were all converted to float64 by StandardScaler.\n",
      "  Xt = transform.transform(Xt)\n"
     ]
    },
    {
     "name": "stdout",
     "output_type": "stream",
     "text": [
      "Pipeline(memory=None,\n",
      "     steps=[('standarization', StandardScaler(copy=True, with_mean=True, with_std=True)), ('model', LogisticRegression(C=1, class_weight=None, dual=False, fit_intercept=True,\n",
      "          intercept_scaling=1, max_iter=100, multi_class='warn',\n",
      "          n_jobs=None, penalty='l1', random_state=None, solver='warn',\n",
      "          tol=0.0001, verbose=0, warm_start=False))])\n",
      "Inference Time: 2.87 Minutes\n",
      "Pipeline(memory=None,\n",
      "     steps=[('model', MultinomialNB(alpha=1.0, class_prior=None, fit_prior=True))])\n",
      "Inference Time: 0.01 Minutes\n",
      "Pipeline(memory=None,\n",
      "     steps=[('model', DecisionTreeClassifier(class_weight=None, criterion='gini', max_depth=10,\n",
      "            max_features=None, max_leaf_nodes=None,\n",
      "            min_impurity_decrease=0.0, min_impurity_split=None,\n",
      "            min_samples_leaf=10, min_samples_split=2,\n",
      "            min_weight_fraction_leaf=0.0, presort=False, random_state=None,\n",
      "            splitter='best'))])\n",
      "Inference Time: 0.22 Minutes\n",
      "Pipeline(memory=None,\n",
      "     steps=[('model', RandomForestClassifier(bootstrap=True, class_weight=None, criterion='gini',\n",
      "            max_depth=10, max_features='auto', max_leaf_nodes=None,\n",
      "            min_impurity_decrease=0.0, min_impurity_split=None,\n",
      "            min_samples_leaf=5, min_samples_split=2,\n",
      "            min_weight_fraction_leaf=0.0, n_estimators=200, n_jobs=None,\n",
      "            oob_score=False, random_state=None, verbose=0,\n",
      "            warm_start=False))])\n",
      "Inference Time: 12.58 Minutes\n"
     ]
    },
    {
     "ename": "KeyboardInterrupt",
     "evalue": "",
     "output_type": "error",
     "traceback": [
      "\u001b[1;31m---------------------------------------------------------------------------\u001b[0m",
      "\u001b[1;31mKeyboardInterrupt\u001b[0m                         Traceback (most recent call last)",
      "\u001b[1;32m<ipython-input-238-c1a5db70f1de>\u001b[0m in \u001b[0;36m<module>\u001b[1;34m()\u001b[0m\n\u001b[0;32m      9\u001b[0m \u001b[1;33m\u001b[0m\u001b[0m\n\u001b[0;32m     10\u001b[0m     \u001b[0mgs\u001b[0m \u001b[1;33m=\u001b[0m \u001b[0mGridSearchCV\u001b[0m\u001b[1;33m(\u001b[0m\u001b[0mestimator\u001b[0m\u001b[1;33m=\u001b[0m\u001b[0mpipeline\u001b[0m\u001b[1;33m,\u001b[0m \u001b[0mparam_grid\u001b[0m\u001b[1;33m=\u001b[0m\u001b[0mparams\u001b[0m\u001b[1;33m,\u001b[0m \u001b[0mcv\u001b[0m\u001b[1;33m=\u001b[0m\u001b[1;36m10\u001b[0m\u001b[1;33m,\u001b[0m \u001b[0mn_jobs\u001b[0m\u001b[1;33m=\u001b[0m\u001b[1;33m-\u001b[0m\u001b[1;36m1\u001b[0m\u001b[1;33m,\u001b[0m \u001b[0mscoring\u001b[0m \u001b[1;33m=\u001b[0m \u001b[1;34m\"accuracy\"\u001b[0m\u001b[1;33m)\u001b[0m\u001b[1;33m\u001b[0m\u001b[0m\n\u001b[1;32m---> 11\u001b[1;33m     \u001b[0mgs\u001b[0m\u001b[1;33m.\u001b[0m\u001b[0mfit\u001b[0m\u001b[1;33m(\u001b[0m\u001b[0mX_train\u001b[0m\u001b[1;33m,\u001b[0m\u001b[0my_train\u001b[0m\u001b[1;33m)\u001b[0m\u001b[1;33m\u001b[0m\u001b[0m\n\u001b[0m\u001b[0;32m     12\u001b[0m \u001b[1;33m\u001b[0m\u001b[0m\n\u001b[0;32m     13\u001b[0m     \u001b[0mresult_train\u001b[0m \u001b[1;33m=\u001b[0m \u001b[0maccuracy_score\u001b[0m\u001b[1;33m(\u001b[0m\u001b[0my_pred\u001b[0m\u001b[1;33m=\u001b[0m\u001b[0mgs\u001b[0m\u001b[1;33m.\u001b[0m\u001b[0mbest_estimator_\u001b[0m\u001b[1;33m.\u001b[0m\u001b[0mpredict\u001b[0m\u001b[1;33m(\u001b[0m\u001b[0mX_train\u001b[0m\u001b[1;33m)\u001b[0m\u001b[1;33m,\u001b[0m \u001b[0my_true\u001b[0m\u001b[1;33m=\u001b[0m\u001b[0my_train\u001b[0m\u001b[1;33m)\u001b[0m\u001b[1;33m\u001b[0m\u001b[0m\n",
      "\u001b[1;32mC:\\ProgramData\\Anaconda3\\lib\\site-packages\\sklearn\\model_selection\\_search.py\u001b[0m in \u001b[0;36mfit\u001b[1;34m(self, X, y, groups, **fit_params)\u001b[0m\n\u001b[0;32m    720\u001b[0m                 \u001b[1;32mreturn\u001b[0m \u001b[0mresults_container\u001b[0m\u001b[1;33m[\u001b[0m\u001b[1;36m0\u001b[0m\u001b[1;33m]\u001b[0m\u001b[1;33m\u001b[0m\u001b[0m\n\u001b[0;32m    721\u001b[0m \u001b[1;33m\u001b[0m\u001b[0m\n\u001b[1;32m--> 722\u001b[1;33m             \u001b[0mself\u001b[0m\u001b[1;33m.\u001b[0m\u001b[0m_run_search\u001b[0m\u001b[1;33m(\u001b[0m\u001b[0mevaluate_candidates\u001b[0m\u001b[1;33m)\u001b[0m\u001b[1;33m\u001b[0m\u001b[0m\n\u001b[0m\u001b[0;32m    723\u001b[0m \u001b[1;33m\u001b[0m\u001b[0m\n\u001b[0;32m    724\u001b[0m         \u001b[0mresults\u001b[0m \u001b[1;33m=\u001b[0m \u001b[0mresults_container\u001b[0m\u001b[1;33m[\u001b[0m\u001b[1;36m0\u001b[0m\u001b[1;33m]\u001b[0m\u001b[1;33m\u001b[0m\u001b[0m\n",
      "\u001b[1;32mC:\\ProgramData\\Anaconda3\\lib\\site-packages\\sklearn\\model_selection\\_search.py\u001b[0m in \u001b[0;36m_run_search\u001b[1;34m(self, evaluate_candidates)\u001b[0m\n\u001b[0;32m   1189\u001b[0m     \u001b[1;32mdef\u001b[0m \u001b[0m_run_search\u001b[0m\u001b[1;33m(\u001b[0m\u001b[0mself\u001b[0m\u001b[1;33m,\u001b[0m \u001b[0mevaluate_candidates\u001b[0m\u001b[1;33m)\u001b[0m\u001b[1;33m:\u001b[0m\u001b[1;33m\u001b[0m\u001b[0m\n\u001b[0;32m   1190\u001b[0m         \u001b[1;34m\"\"\"Search all candidates in param_grid\"\"\"\u001b[0m\u001b[1;33m\u001b[0m\u001b[0m\n\u001b[1;32m-> 1191\u001b[1;33m         \u001b[0mevaluate_candidates\u001b[0m\u001b[1;33m(\u001b[0m\u001b[0mParameterGrid\u001b[0m\u001b[1;33m(\u001b[0m\u001b[0mself\u001b[0m\u001b[1;33m.\u001b[0m\u001b[0mparam_grid\u001b[0m\u001b[1;33m)\u001b[0m\u001b[1;33m)\u001b[0m\u001b[1;33m\u001b[0m\u001b[0m\n\u001b[0m\u001b[0;32m   1192\u001b[0m \u001b[1;33m\u001b[0m\u001b[0m\n\u001b[0;32m   1193\u001b[0m \u001b[1;33m\u001b[0m\u001b[0m\n",
      "\u001b[1;32mC:\\ProgramData\\Anaconda3\\lib\\site-packages\\sklearn\\model_selection\\_search.py\u001b[0m in \u001b[0;36mevaluate_candidates\u001b[1;34m(candidate_params)\u001b[0m\n\u001b[0;32m    709\u001b[0m                                \u001b[1;32mfor\u001b[0m \u001b[0mparameters\u001b[0m\u001b[1;33m,\u001b[0m \u001b[1;33m(\u001b[0m\u001b[0mtrain\u001b[0m\u001b[1;33m,\u001b[0m \u001b[0mtest\u001b[0m\u001b[1;33m)\u001b[0m\u001b[1;33m\u001b[0m\u001b[0m\n\u001b[0;32m    710\u001b[0m                                in product(candidate_params,\n\u001b[1;32m--> 711\u001b[1;33m                                           cv.split(X, y, groups)))\n\u001b[0m\u001b[0;32m    712\u001b[0m \u001b[1;33m\u001b[0m\u001b[0m\n\u001b[0;32m    713\u001b[0m                 \u001b[0mall_candidate_params\u001b[0m\u001b[1;33m.\u001b[0m\u001b[0mextend\u001b[0m\u001b[1;33m(\u001b[0m\u001b[0mcandidate_params\u001b[0m\u001b[1;33m)\u001b[0m\u001b[1;33m\u001b[0m\u001b[0m\n",
      "\u001b[1;32mC:\\ProgramData\\Anaconda3\\lib\\site-packages\\sklearn\\externals\\joblib\\parallel.py\u001b[0m in \u001b[0;36m__call__\u001b[1;34m(self, iterable)\u001b[0m\n\u001b[0;32m    928\u001b[0m \u001b[1;33m\u001b[0m\u001b[0m\n\u001b[0;32m    929\u001b[0m             \u001b[1;32mwith\u001b[0m \u001b[0mself\u001b[0m\u001b[1;33m.\u001b[0m\u001b[0m_backend\u001b[0m\u001b[1;33m.\u001b[0m\u001b[0mretrieval_context\u001b[0m\u001b[1;33m(\u001b[0m\u001b[1;33m)\u001b[0m\u001b[1;33m:\u001b[0m\u001b[1;33m\u001b[0m\u001b[0m\n\u001b[1;32m--> 930\u001b[1;33m                 \u001b[0mself\u001b[0m\u001b[1;33m.\u001b[0m\u001b[0mretrieve\u001b[0m\u001b[1;33m(\u001b[0m\u001b[1;33m)\u001b[0m\u001b[1;33m\u001b[0m\u001b[0m\n\u001b[0m\u001b[0;32m    931\u001b[0m             \u001b[1;31m# Make sure that we get a last message telling us we are done\u001b[0m\u001b[1;33m\u001b[0m\u001b[1;33m\u001b[0m\u001b[0m\n\u001b[0;32m    932\u001b[0m             \u001b[0melapsed_time\u001b[0m \u001b[1;33m=\u001b[0m \u001b[0mtime\u001b[0m\u001b[1;33m.\u001b[0m\u001b[0mtime\u001b[0m\u001b[1;33m(\u001b[0m\u001b[1;33m)\u001b[0m \u001b[1;33m-\u001b[0m \u001b[0mself\u001b[0m\u001b[1;33m.\u001b[0m\u001b[0m_start_time\u001b[0m\u001b[1;33m\u001b[0m\u001b[0m\n",
      "\u001b[1;32mC:\\ProgramData\\Anaconda3\\lib\\site-packages\\sklearn\\externals\\joblib\\parallel.py\u001b[0m in \u001b[0;36mretrieve\u001b[1;34m(self)\u001b[0m\n\u001b[0;32m    831\u001b[0m             \u001b[1;32mtry\u001b[0m\u001b[1;33m:\u001b[0m\u001b[1;33m\u001b[0m\u001b[0m\n\u001b[0;32m    832\u001b[0m                 \u001b[1;32mif\u001b[0m \u001b[0mgetattr\u001b[0m\u001b[1;33m(\u001b[0m\u001b[0mself\u001b[0m\u001b[1;33m.\u001b[0m\u001b[0m_backend\u001b[0m\u001b[1;33m,\u001b[0m \u001b[1;34m'supports_timeout'\u001b[0m\u001b[1;33m,\u001b[0m \u001b[1;32mFalse\u001b[0m\u001b[1;33m)\u001b[0m\u001b[1;33m:\u001b[0m\u001b[1;33m\u001b[0m\u001b[0m\n\u001b[1;32m--> 833\u001b[1;33m                     \u001b[0mself\u001b[0m\u001b[1;33m.\u001b[0m\u001b[0m_output\u001b[0m\u001b[1;33m.\u001b[0m\u001b[0mextend\u001b[0m\u001b[1;33m(\u001b[0m\u001b[0mjob\u001b[0m\u001b[1;33m.\u001b[0m\u001b[0mget\u001b[0m\u001b[1;33m(\u001b[0m\u001b[0mtimeout\u001b[0m\u001b[1;33m=\u001b[0m\u001b[0mself\u001b[0m\u001b[1;33m.\u001b[0m\u001b[0mtimeout\u001b[0m\u001b[1;33m)\u001b[0m\u001b[1;33m)\u001b[0m\u001b[1;33m\u001b[0m\u001b[0m\n\u001b[0m\u001b[0;32m    834\u001b[0m                 \u001b[1;32melse\u001b[0m\u001b[1;33m:\u001b[0m\u001b[1;33m\u001b[0m\u001b[0m\n\u001b[0;32m    835\u001b[0m                     \u001b[0mself\u001b[0m\u001b[1;33m.\u001b[0m\u001b[0m_output\u001b[0m\u001b[1;33m.\u001b[0m\u001b[0mextend\u001b[0m\u001b[1;33m(\u001b[0m\u001b[0mjob\u001b[0m\u001b[1;33m.\u001b[0m\u001b[0mget\u001b[0m\u001b[1;33m(\u001b[0m\u001b[1;33m)\u001b[0m\u001b[1;33m)\u001b[0m\u001b[1;33m\u001b[0m\u001b[0m\n",
      "\u001b[1;32mC:\\ProgramData\\Anaconda3\\lib\\site-packages\\sklearn\\externals\\joblib\\_parallel_backends.py\u001b[0m in \u001b[0;36mwrap_future_result\u001b[1;34m(future, timeout)\u001b[0m\n\u001b[0;32m    519\u001b[0m         AsyncResults.get from multiprocessing.\"\"\"\n\u001b[0;32m    520\u001b[0m         \u001b[1;32mtry\u001b[0m\u001b[1;33m:\u001b[0m\u001b[1;33m\u001b[0m\u001b[0m\n\u001b[1;32m--> 521\u001b[1;33m             \u001b[1;32mreturn\u001b[0m \u001b[0mfuture\u001b[0m\u001b[1;33m.\u001b[0m\u001b[0mresult\u001b[0m\u001b[1;33m(\u001b[0m\u001b[0mtimeout\u001b[0m\u001b[1;33m=\u001b[0m\u001b[0mtimeout\u001b[0m\u001b[1;33m)\u001b[0m\u001b[1;33m\u001b[0m\u001b[0m\n\u001b[0m\u001b[0;32m    522\u001b[0m         \u001b[1;32mexcept\u001b[0m \u001b[0mLokyTimeoutError\u001b[0m\u001b[1;33m:\u001b[0m\u001b[1;33m\u001b[0m\u001b[0m\n\u001b[0;32m    523\u001b[0m             \u001b[1;32mraise\u001b[0m \u001b[0mTimeoutError\u001b[0m\u001b[1;33m(\u001b[0m\u001b[1;33m)\u001b[0m\u001b[1;33m\u001b[0m\u001b[0m\n",
      "\u001b[1;32mC:\\ProgramData\\Anaconda3\\lib\\concurrent\\futures\\_base.py\u001b[0m in \u001b[0;36mresult\u001b[1;34m(self, timeout)\u001b[0m\n\u001b[0;32m    425\u001b[0m                 \u001b[1;32mreturn\u001b[0m \u001b[0mself\u001b[0m\u001b[1;33m.\u001b[0m\u001b[0m__get_result\u001b[0m\u001b[1;33m(\u001b[0m\u001b[1;33m)\u001b[0m\u001b[1;33m\u001b[0m\u001b[0m\n\u001b[0;32m    426\u001b[0m \u001b[1;33m\u001b[0m\u001b[0m\n\u001b[1;32m--> 427\u001b[1;33m             \u001b[0mself\u001b[0m\u001b[1;33m.\u001b[0m\u001b[0m_condition\u001b[0m\u001b[1;33m.\u001b[0m\u001b[0mwait\u001b[0m\u001b[1;33m(\u001b[0m\u001b[0mtimeout\u001b[0m\u001b[1;33m)\u001b[0m\u001b[1;33m\u001b[0m\u001b[0m\n\u001b[0m\u001b[0;32m    428\u001b[0m \u001b[1;33m\u001b[0m\u001b[0m\n\u001b[0;32m    429\u001b[0m             \u001b[1;32mif\u001b[0m \u001b[0mself\u001b[0m\u001b[1;33m.\u001b[0m\u001b[0m_state\u001b[0m \u001b[1;32min\u001b[0m \u001b[1;33m[\u001b[0m\u001b[0mCANCELLED\u001b[0m\u001b[1;33m,\u001b[0m \u001b[0mCANCELLED_AND_NOTIFIED\u001b[0m\u001b[1;33m]\u001b[0m\u001b[1;33m:\u001b[0m\u001b[1;33m\u001b[0m\u001b[0m\n",
      "\u001b[1;32mC:\\ProgramData\\Anaconda3\\lib\\threading.py\u001b[0m in \u001b[0;36mwait\u001b[1;34m(self, timeout)\u001b[0m\n\u001b[0;32m    293\u001b[0m         \u001b[1;32mtry\u001b[0m\u001b[1;33m:\u001b[0m    \u001b[1;31m# restore state no matter what (e.g., KeyboardInterrupt)\u001b[0m\u001b[1;33m\u001b[0m\u001b[0m\n\u001b[0;32m    294\u001b[0m             \u001b[1;32mif\u001b[0m \u001b[0mtimeout\u001b[0m \u001b[1;32mis\u001b[0m \u001b[1;32mNone\u001b[0m\u001b[1;33m:\u001b[0m\u001b[1;33m\u001b[0m\u001b[0m\n\u001b[1;32m--> 295\u001b[1;33m                 \u001b[0mwaiter\u001b[0m\u001b[1;33m.\u001b[0m\u001b[0macquire\u001b[0m\u001b[1;33m(\u001b[0m\u001b[1;33m)\u001b[0m\u001b[1;33m\u001b[0m\u001b[0m\n\u001b[0m\u001b[0;32m    296\u001b[0m                 \u001b[0mgotit\u001b[0m \u001b[1;33m=\u001b[0m \u001b[1;32mTrue\u001b[0m\u001b[1;33m\u001b[0m\u001b[0m\n\u001b[0;32m    297\u001b[0m             \u001b[1;32melse\u001b[0m\u001b[1;33m:\u001b[0m\u001b[1;33m\u001b[0m\u001b[0m\n",
      "\u001b[1;31mKeyboardInterrupt\u001b[0m: "
     ]
    }
   ],
   "source": [
    "results_train = {}\n",
    "results_test = {}\n",
    "\n",
    "for pipe, params in zip(models,param_grids):\n",
    "    \n",
    "    inference_start = time.time()\n",
    "    \n",
    "    pipeline = Pipeline(pipe)     \n",
    "   \n",
    "    gs = GridSearchCV(estimator=pipeline, param_grid=params, cv=10, n_jobs=-1, scoring = \"accuracy\")\n",
    "    gs.fit(X_train,y_train)\n",
    "    \n",
    "    result_train = accuracy_score(y_pred=gs.best_estimator_.predict(X_train), y_true=y_train)\n",
    "    results_train.update({gs.best_estimator_:result_train})   \n",
    "    #print({gs.best_estimator_:result_train})\n",
    "    \n",
    "    result_test = accuracy_score(y_pred=gs.best_estimator_.predict(X_test), y_true=y_test)\n",
    "    results_test.update({gs.best_estimator_:result_test})\n",
    "    #print({gs.best_estimator_:result_test})\n",
    "    \n",
    "    inference_end = time.time()\n",
    "    \n",
    "    print(gs.best_estimator_)\n",
    "    print('Inference Time: %0.2f Minutes'%((inference_end - inference_start)/60))"
   ]
  },
  {
   "cell_type": "markdown",
   "metadata": {},
   "source": [
    "** accuracy_score of the best model **"
   ]
  },
  {
   "cell_type": "code",
   "execution_count": null,
   "metadata": {},
   "outputs": [],
   "source": [
    "results_list_train = []\n",
    "results_list_train.append (results_train)\n",
    "df_train = pd.DataFrame(data=results_list_train).T\n",
    "df_train.columns=['accuracy_train']\n",
    "\n",
    "df_train"
   ]
  },
  {
   "cell_type": "code",
   "execution_count": null,
   "metadata": {},
   "outputs": [],
   "source": []
  },
  {
   "cell_type": "code",
   "execution_count": null,
   "metadata": {},
   "outputs": [],
   "source": [
    "results_list_test = []\n",
    "results_list_test.append (results_test)\n",
    "df_test = pd.DataFrame(data=results_list_test).T\n",
    "df_test.columns=['accuracy_test']\n",
    "\n",
    "df_test"
   ]
  },
  {
   "cell_type": "code",
   "execution_count": null,
   "metadata": {},
   "outputs": [],
   "source": []
  },
  {
   "cell_type": "code",
   "execution_count": null,
   "metadata": {},
   "outputs": [],
   "source": [
    "df = df_train.join(df_test, how = \"inner\" )\n",
    "\n",
    "df"
   ]
  },
  {
   "cell_type": "code",
   "execution_count": null,
   "metadata": {},
   "outputs": [],
   "source": []
  },
  {
   "cell_type": "markdown",
   "metadata": {},
   "source": [
    "**Classification report**"
   ]
  },
  {
   "cell_type": "code",
   "execution_count": null,
   "metadata": {},
   "outputs": [],
   "source": [
    "from sklearn.metrics import precision_score, recall_score, f1_score, classification_report\n",
    "\n",
    "print (classification_report(y_pred=gs.best_estimator_.predict(X_test), y_true=y_test)) "
   ]
  },
  {
   "cell_type": "markdown",
   "metadata": {},
   "source": [
    "**ROC CURVE**"
   ]
  },
  {
   "cell_type": "code",
   "execution_count": null,
   "metadata": {},
   "outputs": [],
   "source": [
    "from sklearn.metrics import roc_curve\n",
    "probability = gs.best_estimator_.predict_proba (X_test)[:,1]\n",
    "roc_results = roc_curve(y_true=y_test, y_score=probability)\n",
    "fpr, tpr, _ = roc_results\n",
    "\n",
    "from matplotlib import pyplot as plt\n",
    "plt.scatter (fpr, tpr)\n",
    "plt.show()"
   ]
  },
  {
   "cell_type": "markdown",
   "metadata": {},
   "source": [
    "**ROC AUC SCORE**"
   ]
  },
  {
   "cell_type": "code",
   "execution_count": null,
   "metadata": {},
   "outputs": [],
   "source": [
    "from sklearn.metrics import roc_auc_score\n",
    "\n",
    "np.round(roc_auc_score(y_score=gs.best_estimator_.predict(X_test), y_true=y_test),2)"
   ]
  },
  {
   "cell_type": "markdown",
   "metadata": {},
   "source": [
    "**Checking the feature_importances for the best model **"
   ]
  },
  {
   "cell_type": "code",
   "execution_count": null,
   "metadata": {},
   "outputs": [],
   "source": [
    "gs.best_params_"
   ]
  },
  {
   "cell_type": "code",
   "execution_count": null,
   "metadata": {},
   "outputs": [],
   "source": [
    "gs.best_estimator_.steps"
   ]
  },
  {
   "cell_type": "code",
   "execution_count": null,
   "metadata": {},
   "outputs": [],
   "source": [
    "pd.DataFrame (gs.best_estimator_.steps[0][1].feature_importances_, index = X_test.columns, \n",
    "              columns = ['importance']).sort_values('importance',ascending=False)"
   ]
  },
  {
   "cell_type": "markdown",
   "metadata": {},
   "source": [
    "# Conclusion"
   ]
  },
  {
   "cell_type": "markdown",
   "metadata": {},
   "source": [
    "The interesing outcome of this analysis is that the greatest impact on Income have \n",
    "capital_gain, education_num, marital_status_Married-civ-spouse and relationship_Husband.\n",
    "The important variables are age (also age squared) and working hours per wek.\n",
    "Sex and race are not very siginficant and they have less impact on Income\n",
    "\n",
    "Random Forest models gave better results than Logistic Regression, Naive Bayes and Decision Tree. \n",
    "The Random Forest was calucated on 100 estimators and min samples leaf is 5.\n",
    "The highest accuracy is equal to 0.86, precision 0.80, recall 0.59 and AUC 0.77."
   ]
  },
  {
   "cell_type": "code",
   "execution_count": null,
   "metadata": {},
   "outputs": [],
   "source": []
  },
  {
   "cell_type": "markdown",
   "metadata": {},
   "source": [
    "# XGBoost"
   ]
  },
  {
   "cell_type": "code",
   "execution_count": null,
   "metadata": {},
   "outputs": [],
   "source": [
    "from xgboost import XGBClassifier"
   ]
  },
  {
   "cell_type": "code",
   "execution_count": 227,
   "metadata": {},
   "outputs": [],
   "source": [
    "estimator = XGBClassifier(n_jobs = -1)"
   ]
  },
  {
   "cell_type": "code",
   "execution_count": 228,
   "metadata": {},
   "outputs": [],
   "source": [
    "from random import randint, uniform"
   ]
  },
  {
   "cell_type": "code",
   "execution_count": 229,
   "metadata": {},
   "outputs": [],
   "source": [
    "param_distributions_XGB = {\n",
    "    'n_estimators' : randint(100, 200),\n",
    "    'max_depth' : randint(5,10),\n",
    "    'min_child_weight' :randint(5,10),\n",
    "    'colsample_bytree' : uniform(0.5, 1.0),\n",
    "    'learning_rate': uniform(0.05, 0.3)    \n",
    "}"
   ]
  },
  {
   "cell_type": "code",
   "execution_count": 230,
   "metadata": {},
   "outputs": [
    {
     "data": {
      "text/plain": [
       "{'n_estimators': 182,\n",
       " 'max_depth': 9,\n",
       " 'min_child_weight': 9,\n",
       " 'colsample_bytree': 0.660861927808919,\n",
       " 'learning_rate': 0.27590142431580655}"
      ]
     },
     "execution_count": 230,
     "metadata": {},
     "output_type": "execute_result"
    }
   ],
   "source": [
    "param_distributions_XGB"
   ]
  },
  {
   "cell_type": "code",
   "execution_count": 231,
   "metadata": {},
   "outputs": [],
   "source": [
    "param_distributions_XGB = {\n",
    "    'n_estimators': [100, 150, 200],\n",
    "    'max_depth': [5, 7, 10],\n",
    "    'min_child_weight':[5, 10, 15],\n",
    "#     'subsample': [1, 0.8, 0.5],\n",
    "    #'colsample_bytree': [0.5, 0.8, 1.0],\n",
    "    'learning_rate': [0.1, 0.2, 0.3]\n",
    "}"
   ]
  },
  {
   "cell_type": "code",
   "execution_count": 232,
   "metadata": {},
   "outputs": [
    {
     "data": {
      "text/plain": [
       "{'n_estimators': [100, 150, 200],\n",
       " 'max_depth': [5, 7, 10],\n",
       " 'min_child_weight': [5, 10, 15],\n",
       " 'learning_rate': [0.1, 0.2, 0.3]}"
      ]
     },
     "execution_count": 232,
     "metadata": {},
     "output_type": "execute_result"
    }
   ],
   "source": [
    "param_distributions_XGB"
   ]
  },
  {
   "cell_type": "markdown",
   "metadata": {},
   "source": [
    "# RandomizedSearchCV for XGBoost"
   ]
  },
  {
   "cell_type": "code",
   "execution_count": 233,
   "metadata": {},
   "outputs": [],
   "source": [
    "from sklearn.model_selection import RandomizedSearchCV"
   ]
  },
  {
   "cell_type": "code",
   "execution_count": 234,
   "metadata": {},
   "outputs": [],
   "source": [
    "import xgboost as xgb"
   ]
  },
  {
   "cell_type": "code",
   "execution_count": 235,
   "metadata": {},
   "outputs": [],
   "source": [
    "results_XGB_train = {}\n",
    "results_XGB_test = {}"
   ]
  },
  {
   "cell_type": "code",
   "execution_count": 236,
   "metadata": {},
   "outputs": [
    {
     "ename": "KeyboardInterrupt",
     "evalue": "",
     "output_type": "error",
     "traceback": [
      "\u001b[1;31m---------------------------------------------------------------------------\u001b[0m",
      "\u001b[1;31mKeyboardInterrupt\u001b[0m                         Traceback (most recent call last)",
      "\u001b[1;32m<ipython-input-236-255e8985158c>\u001b[0m in \u001b[0;36m<module>\u001b[1;34m()\u001b[0m\n\u001b[0;32m      3\u001b[0m \u001b[0mrs_XGB\u001b[0m \u001b[1;33m=\u001b[0m \u001b[0mRandomizedSearchCV\u001b[0m \u001b[1;33m(\u001b[0m\u001b[0mestimator\u001b[0m\u001b[1;33m=\u001b[0m\u001b[0mestimator\u001b[0m\u001b[1;33m,\u001b[0m \u001b[0mparam_distributions\u001b[0m\u001b[1;33m=\u001b[0m\u001b[0mparam_distributions_XGB\u001b[0m\u001b[1;33m,\u001b[0m \u001b[0mcv\u001b[0m \u001b[1;33m=\u001b[0m \u001b[1;36m10\u001b[0m\u001b[1;33m,\u001b[0m \u001b[0mn_iter\u001b[0m \u001b[1;33m=\u001b[0m \u001b[1;36m5\u001b[0m\u001b[1;33m,\u001b[0m \u001b[0mscoring\u001b[0m\u001b[1;33m=\u001b[0m\u001b[1;34m\"accuracy\"\u001b[0m\u001b[1;33m)\u001b[0m\u001b[1;33m\u001b[0m\u001b[0m\n\u001b[0;32m      4\u001b[0m \u001b[1;33m\u001b[0m\u001b[0m\n\u001b[1;32m----> 5\u001b[1;33m \u001b[0mrs_XGB\u001b[0m\u001b[1;33m.\u001b[0m\u001b[0mfit\u001b[0m\u001b[1;33m(\u001b[0m\u001b[0mX_train\u001b[0m\u001b[1;33m,\u001b[0m \u001b[0my_train\u001b[0m\u001b[1;33m)\u001b[0m\u001b[1;33m\u001b[0m\u001b[0m\n\u001b[0m\u001b[0;32m      6\u001b[0m \u001b[1;33m\u001b[0m\u001b[0m\n\u001b[0;32m      7\u001b[0m \u001b[0mresult_train\u001b[0m \u001b[1;33m=\u001b[0m \u001b[0maccuracy_score\u001b[0m\u001b[1;33m(\u001b[0m\u001b[0my_pred\u001b[0m\u001b[1;33m=\u001b[0m\u001b[0mrs_XGB\u001b[0m\u001b[1;33m.\u001b[0m\u001b[0mbest_estimator_\u001b[0m\u001b[1;33m.\u001b[0m\u001b[0mpredict\u001b[0m\u001b[1;33m(\u001b[0m\u001b[0mX_train\u001b[0m\u001b[1;33m)\u001b[0m\u001b[1;33m,\u001b[0m \u001b[0my_true\u001b[0m\u001b[1;33m=\u001b[0m\u001b[0my_train\u001b[0m\u001b[1;33m)\u001b[0m\u001b[1;33m\u001b[0m\u001b[0m\n",
      "\u001b[1;32mC:\\ProgramData\\Anaconda3\\lib\\site-packages\\sklearn\\model_selection\\_search.py\u001b[0m in \u001b[0;36mfit\u001b[1;34m(self, X, y, groups, **fit_params)\u001b[0m\n\u001b[0;32m    720\u001b[0m                 \u001b[1;32mreturn\u001b[0m \u001b[0mresults_container\u001b[0m\u001b[1;33m[\u001b[0m\u001b[1;36m0\u001b[0m\u001b[1;33m]\u001b[0m\u001b[1;33m\u001b[0m\u001b[0m\n\u001b[0;32m    721\u001b[0m \u001b[1;33m\u001b[0m\u001b[0m\n\u001b[1;32m--> 722\u001b[1;33m             \u001b[0mself\u001b[0m\u001b[1;33m.\u001b[0m\u001b[0m_run_search\u001b[0m\u001b[1;33m(\u001b[0m\u001b[0mevaluate_candidates\u001b[0m\u001b[1;33m)\u001b[0m\u001b[1;33m\u001b[0m\u001b[0m\n\u001b[0m\u001b[0;32m    723\u001b[0m \u001b[1;33m\u001b[0m\u001b[0m\n\u001b[0;32m    724\u001b[0m         \u001b[0mresults\u001b[0m \u001b[1;33m=\u001b[0m \u001b[0mresults_container\u001b[0m\u001b[1;33m[\u001b[0m\u001b[1;36m0\u001b[0m\u001b[1;33m]\u001b[0m\u001b[1;33m\u001b[0m\u001b[0m\n",
      "\u001b[1;32mC:\\ProgramData\\Anaconda3\\lib\\site-packages\\sklearn\\model_selection\\_search.py\u001b[0m in \u001b[0;36m_run_search\u001b[1;34m(self, evaluate_candidates)\u001b[0m\n\u001b[0;32m   1513\u001b[0m         evaluate_candidates(ParameterSampler(\n\u001b[0;32m   1514\u001b[0m             \u001b[0mself\u001b[0m\u001b[1;33m.\u001b[0m\u001b[0mparam_distributions\u001b[0m\u001b[1;33m,\u001b[0m \u001b[0mself\u001b[0m\u001b[1;33m.\u001b[0m\u001b[0mn_iter\u001b[0m\u001b[1;33m,\u001b[0m\u001b[1;33m\u001b[0m\u001b[0m\n\u001b[1;32m-> 1515\u001b[1;33m             random_state=self.random_state))\n\u001b[0m",
      "\u001b[1;32mC:\\ProgramData\\Anaconda3\\lib\\site-packages\\sklearn\\model_selection\\_search.py\u001b[0m in \u001b[0;36mevaluate_candidates\u001b[1;34m(candidate_params)\u001b[0m\n\u001b[0;32m    709\u001b[0m                                \u001b[1;32mfor\u001b[0m \u001b[0mparameters\u001b[0m\u001b[1;33m,\u001b[0m \u001b[1;33m(\u001b[0m\u001b[0mtrain\u001b[0m\u001b[1;33m,\u001b[0m \u001b[0mtest\u001b[0m\u001b[1;33m)\u001b[0m\u001b[1;33m\u001b[0m\u001b[0m\n\u001b[0;32m    710\u001b[0m                                in product(candidate_params,\n\u001b[1;32m--> 711\u001b[1;33m                                           cv.split(X, y, groups)))\n\u001b[0m\u001b[0;32m    712\u001b[0m \u001b[1;33m\u001b[0m\u001b[0m\n\u001b[0;32m    713\u001b[0m                 \u001b[0mall_candidate_params\u001b[0m\u001b[1;33m.\u001b[0m\u001b[0mextend\u001b[0m\u001b[1;33m(\u001b[0m\u001b[0mcandidate_params\u001b[0m\u001b[1;33m)\u001b[0m\u001b[1;33m\u001b[0m\u001b[0m\n",
      "\u001b[1;32mC:\\ProgramData\\Anaconda3\\lib\\site-packages\\sklearn\\externals\\joblib\\parallel.py\u001b[0m in \u001b[0;36m__call__\u001b[1;34m(self, iterable)\u001b[0m\n\u001b[0;32m    918\u001b[0m                 \u001b[0mself\u001b[0m\u001b[1;33m.\u001b[0m\u001b[0m_iterating\u001b[0m \u001b[1;33m=\u001b[0m \u001b[0mself\u001b[0m\u001b[1;33m.\u001b[0m\u001b[0m_original_iterator\u001b[0m \u001b[1;32mis\u001b[0m \u001b[1;32mnot\u001b[0m \u001b[1;32mNone\u001b[0m\u001b[1;33m\u001b[0m\u001b[0m\n\u001b[0;32m    919\u001b[0m \u001b[1;33m\u001b[0m\u001b[0m\n\u001b[1;32m--> 920\u001b[1;33m             \u001b[1;32mwhile\u001b[0m \u001b[0mself\u001b[0m\u001b[1;33m.\u001b[0m\u001b[0mdispatch_one_batch\u001b[0m\u001b[1;33m(\u001b[0m\u001b[0miterator\u001b[0m\u001b[1;33m)\u001b[0m\u001b[1;33m:\u001b[0m\u001b[1;33m\u001b[0m\u001b[0m\n\u001b[0m\u001b[0;32m    921\u001b[0m                 \u001b[1;32mpass\u001b[0m\u001b[1;33m\u001b[0m\u001b[0m\n\u001b[0;32m    922\u001b[0m \u001b[1;33m\u001b[0m\u001b[0m\n",
      "\u001b[1;32mC:\\ProgramData\\Anaconda3\\lib\\site-packages\\sklearn\\externals\\joblib\\parallel.py\u001b[0m in \u001b[0;36mdispatch_one_batch\u001b[1;34m(self, iterator)\u001b[0m\n\u001b[0;32m    757\u001b[0m                 \u001b[1;32mreturn\u001b[0m \u001b[1;32mFalse\u001b[0m\u001b[1;33m\u001b[0m\u001b[0m\n\u001b[0;32m    758\u001b[0m             \u001b[1;32melse\u001b[0m\u001b[1;33m:\u001b[0m\u001b[1;33m\u001b[0m\u001b[0m\n\u001b[1;32m--> 759\u001b[1;33m                 \u001b[0mself\u001b[0m\u001b[1;33m.\u001b[0m\u001b[0m_dispatch\u001b[0m\u001b[1;33m(\u001b[0m\u001b[0mtasks\u001b[0m\u001b[1;33m)\u001b[0m\u001b[1;33m\u001b[0m\u001b[0m\n\u001b[0m\u001b[0;32m    760\u001b[0m                 \u001b[1;32mreturn\u001b[0m \u001b[1;32mTrue\u001b[0m\u001b[1;33m\u001b[0m\u001b[0m\n\u001b[0;32m    761\u001b[0m \u001b[1;33m\u001b[0m\u001b[0m\n",
      "\u001b[1;32mC:\\ProgramData\\Anaconda3\\lib\\site-packages\\sklearn\\externals\\joblib\\parallel.py\u001b[0m in \u001b[0;36m_dispatch\u001b[1;34m(self, batch)\u001b[0m\n\u001b[0;32m    714\u001b[0m         \u001b[1;32mwith\u001b[0m \u001b[0mself\u001b[0m\u001b[1;33m.\u001b[0m\u001b[0m_lock\u001b[0m\u001b[1;33m:\u001b[0m\u001b[1;33m\u001b[0m\u001b[0m\n\u001b[0;32m    715\u001b[0m             \u001b[0mjob_idx\u001b[0m \u001b[1;33m=\u001b[0m \u001b[0mlen\u001b[0m\u001b[1;33m(\u001b[0m\u001b[0mself\u001b[0m\u001b[1;33m.\u001b[0m\u001b[0m_jobs\u001b[0m\u001b[1;33m)\u001b[0m\u001b[1;33m\u001b[0m\u001b[0m\n\u001b[1;32m--> 716\u001b[1;33m             \u001b[0mjob\u001b[0m \u001b[1;33m=\u001b[0m \u001b[0mself\u001b[0m\u001b[1;33m.\u001b[0m\u001b[0m_backend\u001b[0m\u001b[1;33m.\u001b[0m\u001b[0mapply_async\u001b[0m\u001b[1;33m(\u001b[0m\u001b[0mbatch\u001b[0m\u001b[1;33m,\u001b[0m \u001b[0mcallback\u001b[0m\u001b[1;33m=\u001b[0m\u001b[0mcb\u001b[0m\u001b[1;33m)\u001b[0m\u001b[1;33m\u001b[0m\u001b[0m\n\u001b[0m\u001b[0;32m    717\u001b[0m             \u001b[1;31m# A job can complete so quickly than its callback is\u001b[0m\u001b[1;33m\u001b[0m\u001b[1;33m\u001b[0m\u001b[0m\n\u001b[0;32m    718\u001b[0m             \u001b[1;31m# called before we get here, causing self._jobs to\u001b[0m\u001b[1;33m\u001b[0m\u001b[1;33m\u001b[0m\u001b[0m\n",
      "\u001b[1;32mC:\\ProgramData\\Anaconda3\\lib\\site-packages\\sklearn\\externals\\joblib\\_parallel_backends.py\u001b[0m in \u001b[0;36mapply_async\u001b[1;34m(self, func, callback)\u001b[0m\n\u001b[0;32m    180\u001b[0m     \u001b[1;32mdef\u001b[0m \u001b[0mapply_async\u001b[0m\u001b[1;33m(\u001b[0m\u001b[0mself\u001b[0m\u001b[1;33m,\u001b[0m \u001b[0mfunc\u001b[0m\u001b[1;33m,\u001b[0m \u001b[0mcallback\u001b[0m\u001b[1;33m=\u001b[0m\u001b[1;32mNone\u001b[0m\u001b[1;33m)\u001b[0m\u001b[1;33m:\u001b[0m\u001b[1;33m\u001b[0m\u001b[0m\n\u001b[0;32m    181\u001b[0m         \u001b[1;34m\"\"\"Schedule a func to be run\"\"\"\u001b[0m\u001b[1;33m\u001b[0m\u001b[0m\n\u001b[1;32m--> 182\u001b[1;33m         \u001b[0mresult\u001b[0m \u001b[1;33m=\u001b[0m \u001b[0mImmediateResult\u001b[0m\u001b[1;33m(\u001b[0m\u001b[0mfunc\u001b[0m\u001b[1;33m)\u001b[0m\u001b[1;33m\u001b[0m\u001b[0m\n\u001b[0m\u001b[0;32m    183\u001b[0m         \u001b[1;32mif\u001b[0m \u001b[0mcallback\u001b[0m\u001b[1;33m:\u001b[0m\u001b[1;33m\u001b[0m\u001b[0m\n\u001b[0;32m    184\u001b[0m             \u001b[0mcallback\u001b[0m\u001b[1;33m(\u001b[0m\u001b[0mresult\u001b[0m\u001b[1;33m)\u001b[0m\u001b[1;33m\u001b[0m\u001b[0m\n",
      "\u001b[1;32mC:\\ProgramData\\Anaconda3\\lib\\site-packages\\sklearn\\externals\\joblib\\_parallel_backends.py\u001b[0m in \u001b[0;36m__init__\u001b[1;34m(self, batch)\u001b[0m\n\u001b[0;32m    547\u001b[0m         \u001b[1;31m# Don't delay the application, to avoid keeping the input\u001b[0m\u001b[1;33m\u001b[0m\u001b[1;33m\u001b[0m\u001b[0m\n\u001b[0;32m    548\u001b[0m         \u001b[1;31m# arguments in memory\u001b[0m\u001b[1;33m\u001b[0m\u001b[1;33m\u001b[0m\u001b[0m\n\u001b[1;32m--> 549\u001b[1;33m         \u001b[0mself\u001b[0m\u001b[1;33m.\u001b[0m\u001b[0mresults\u001b[0m \u001b[1;33m=\u001b[0m \u001b[0mbatch\u001b[0m\u001b[1;33m(\u001b[0m\u001b[1;33m)\u001b[0m\u001b[1;33m\u001b[0m\u001b[0m\n\u001b[0m\u001b[0;32m    550\u001b[0m \u001b[1;33m\u001b[0m\u001b[0m\n\u001b[0;32m    551\u001b[0m     \u001b[1;32mdef\u001b[0m \u001b[0mget\u001b[0m\u001b[1;33m(\u001b[0m\u001b[0mself\u001b[0m\u001b[1;33m)\u001b[0m\u001b[1;33m:\u001b[0m\u001b[1;33m\u001b[0m\u001b[0m\n",
      "\u001b[1;32mC:\\ProgramData\\Anaconda3\\lib\\site-packages\\sklearn\\externals\\joblib\\parallel.py\u001b[0m in \u001b[0;36m__call__\u001b[1;34m(self)\u001b[0m\n\u001b[0;32m    223\u001b[0m         \u001b[1;32mwith\u001b[0m \u001b[0mparallel_backend\u001b[0m\u001b[1;33m(\u001b[0m\u001b[0mself\u001b[0m\u001b[1;33m.\u001b[0m\u001b[0m_backend\u001b[0m\u001b[1;33m,\u001b[0m \u001b[0mn_jobs\u001b[0m\u001b[1;33m=\u001b[0m\u001b[0mself\u001b[0m\u001b[1;33m.\u001b[0m\u001b[0m_n_jobs\u001b[0m\u001b[1;33m)\u001b[0m\u001b[1;33m:\u001b[0m\u001b[1;33m\u001b[0m\u001b[0m\n\u001b[0;32m    224\u001b[0m             return [func(*args, **kwargs)\n\u001b[1;32m--> 225\u001b[1;33m                     for func, args, kwargs in self.items]\n\u001b[0m\u001b[0;32m    226\u001b[0m \u001b[1;33m\u001b[0m\u001b[0m\n\u001b[0;32m    227\u001b[0m     \u001b[1;32mdef\u001b[0m \u001b[0m__len__\u001b[0m\u001b[1;33m(\u001b[0m\u001b[0mself\u001b[0m\u001b[1;33m)\u001b[0m\u001b[1;33m:\u001b[0m\u001b[1;33m\u001b[0m\u001b[0m\n",
      "\u001b[1;32mC:\\ProgramData\\Anaconda3\\lib\\site-packages\\sklearn\\externals\\joblib\\parallel.py\u001b[0m in \u001b[0;36m<listcomp>\u001b[1;34m(.0)\u001b[0m\n\u001b[0;32m    223\u001b[0m         \u001b[1;32mwith\u001b[0m \u001b[0mparallel_backend\u001b[0m\u001b[1;33m(\u001b[0m\u001b[0mself\u001b[0m\u001b[1;33m.\u001b[0m\u001b[0m_backend\u001b[0m\u001b[1;33m,\u001b[0m \u001b[0mn_jobs\u001b[0m\u001b[1;33m=\u001b[0m\u001b[0mself\u001b[0m\u001b[1;33m.\u001b[0m\u001b[0m_n_jobs\u001b[0m\u001b[1;33m)\u001b[0m\u001b[1;33m:\u001b[0m\u001b[1;33m\u001b[0m\u001b[0m\n\u001b[0;32m    224\u001b[0m             return [func(*args, **kwargs)\n\u001b[1;32m--> 225\u001b[1;33m                     for func, args, kwargs in self.items]\n\u001b[0m\u001b[0;32m    226\u001b[0m \u001b[1;33m\u001b[0m\u001b[0m\n\u001b[0;32m    227\u001b[0m     \u001b[1;32mdef\u001b[0m \u001b[0m__len__\u001b[0m\u001b[1;33m(\u001b[0m\u001b[0mself\u001b[0m\u001b[1;33m)\u001b[0m\u001b[1;33m:\u001b[0m\u001b[1;33m\u001b[0m\u001b[0m\n",
      "\u001b[1;32mC:\\ProgramData\\Anaconda3\\lib\\site-packages\\sklearn\\model_selection\\_validation.py\u001b[0m in \u001b[0;36m_fit_and_score\u001b[1;34m(estimator, X, y, scorer, train, test, verbose, parameters, fit_params, return_train_score, return_parameters, return_n_test_samples, return_times, return_estimator, error_score)\u001b[0m\n\u001b[0;32m    526\u001b[0m             \u001b[0mestimator\u001b[0m\u001b[1;33m.\u001b[0m\u001b[0mfit\u001b[0m\u001b[1;33m(\u001b[0m\u001b[0mX_train\u001b[0m\u001b[1;33m,\u001b[0m \u001b[1;33m**\u001b[0m\u001b[0mfit_params\u001b[0m\u001b[1;33m)\u001b[0m\u001b[1;33m\u001b[0m\u001b[0m\n\u001b[0;32m    527\u001b[0m         \u001b[1;32melse\u001b[0m\u001b[1;33m:\u001b[0m\u001b[1;33m\u001b[0m\u001b[0m\n\u001b[1;32m--> 528\u001b[1;33m             \u001b[0mestimator\u001b[0m\u001b[1;33m.\u001b[0m\u001b[0mfit\u001b[0m\u001b[1;33m(\u001b[0m\u001b[0mX_train\u001b[0m\u001b[1;33m,\u001b[0m \u001b[0my_train\u001b[0m\u001b[1;33m,\u001b[0m \u001b[1;33m**\u001b[0m\u001b[0mfit_params\u001b[0m\u001b[1;33m)\u001b[0m\u001b[1;33m\u001b[0m\u001b[0m\n\u001b[0m\u001b[0;32m    529\u001b[0m \u001b[1;33m\u001b[0m\u001b[0m\n\u001b[0;32m    530\u001b[0m     \u001b[1;32mexcept\u001b[0m \u001b[0mException\u001b[0m \u001b[1;32mas\u001b[0m \u001b[0me\u001b[0m\u001b[1;33m:\u001b[0m\u001b[1;33m\u001b[0m\u001b[0m\n",
      "\u001b[1;32mC:\\ProgramData\\Anaconda3\\lib\\site-packages\\xgboost\\sklearn.py\u001b[0m in \u001b[0;36mfit\u001b[1;34m(self, X, y, sample_weight, eval_set, eval_metric, early_stopping_rounds, verbose, xgb_model, sample_weight_eval_set)\u001b[0m\n\u001b[0;32m    545\u001b[0m                               \u001b[0mearly_stopping_rounds\u001b[0m\u001b[1;33m=\u001b[0m\u001b[0mearly_stopping_rounds\u001b[0m\u001b[1;33m,\u001b[0m\u001b[1;33m\u001b[0m\u001b[0m\n\u001b[0;32m    546\u001b[0m                               \u001b[0mevals_result\u001b[0m\u001b[1;33m=\u001b[0m\u001b[0mevals_result\u001b[0m\u001b[1;33m,\u001b[0m \u001b[0mobj\u001b[0m\u001b[1;33m=\u001b[0m\u001b[0mobj\u001b[0m\u001b[1;33m,\u001b[0m \u001b[0mfeval\u001b[0m\u001b[1;33m=\u001b[0m\u001b[0mfeval\u001b[0m\u001b[1;33m,\u001b[0m\u001b[1;33m\u001b[0m\u001b[0m\n\u001b[1;32m--> 547\u001b[1;33m                               verbose_eval=verbose, xgb_model=None)\n\u001b[0m\u001b[0;32m    548\u001b[0m \u001b[1;33m\u001b[0m\u001b[0m\n\u001b[0;32m    549\u001b[0m         \u001b[0mself\u001b[0m\u001b[1;33m.\u001b[0m\u001b[0mobjective\u001b[0m \u001b[1;33m=\u001b[0m \u001b[0mxgb_options\u001b[0m\u001b[1;33m[\u001b[0m\u001b[1;34m\"objective\"\u001b[0m\u001b[1;33m]\u001b[0m\u001b[1;33m\u001b[0m\u001b[0m\n",
      "\u001b[1;32mC:\\ProgramData\\Anaconda3\\lib\\site-packages\\xgboost\\training.py\u001b[0m in \u001b[0;36mtrain\u001b[1;34m(params, dtrain, num_boost_round, evals, obj, feval, maximize, early_stopping_rounds, evals_result, verbose_eval, xgb_model, callbacks, learning_rates)\u001b[0m\n\u001b[0;32m    202\u001b[0m                            \u001b[0mevals\u001b[0m\u001b[1;33m=\u001b[0m\u001b[0mevals\u001b[0m\u001b[1;33m,\u001b[0m\u001b[1;33m\u001b[0m\u001b[0m\n\u001b[0;32m    203\u001b[0m                            \u001b[0mobj\u001b[0m\u001b[1;33m=\u001b[0m\u001b[0mobj\u001b[0m\u001b[1;33m,\u001b[0m \u001b[0mfeval\u001b[0m\u001b[1;33m=\u001b[0m\u001b[0mfeval\u001b[0m\u001b[1;33m,\u001b[0m\u001b[1;33m\u001b[0m\u001b[0m\n\u001b[1;32m--> 204\u001b[1;33m                            xgb_model=xgb_model, callbacks=callbacks)\n\u001b[0m\u001b[0;32m    205\u001b[0m \u001b[1;33m\u001b[0m\u001b[0m\n\u001b[0;32m    206\u001b[0m \u001b[1;33m\u001b[0m\u001b[0m\n",
      "\u001b[1;32mC:\\ProgramData\\Anaconda3\\lib\\site-packages\\xgboost\\training.py\u001b[0m in \u001b[0;36m_train_internal\u001b[1;34m(params, dtrain, num_boost_round, evals, obj, feval, xgb_model, callbacks)\u001b[0m\n\u001b[0;32m     72\u001b[0m         \u001b[1;31m# Skip the first update if it is a recovery step.\u001b[0m\u001b[1;33m\u001b[0m\u001b[1;33m\u001b[0m\u001b[0m\n\u001b[0;32m     73\u001b[0m         \u001b[1;32mif\u001b[0m \u001b[0mversion\u001b[0m \u001b[1;33m%\u001b[0m \u001b[1;36m2\u001b[0m \u001b[1;33m==\u001b[0m \u001b[1;36m0\u001b[0m\u001b[1;33m:\u001b[0m\u001b[1;33m\u001b[0m\u001b[0m\n\u001b[1;32m---> 74\u001b[1;33m             \u001b[0mbst\u001b[0m\u001b[1;33m.\u001b[0m\u001b[0mupdate\u001b[0m\u001b[1;33m(\u001b[0m\u001b[0mdtrain\u001b[0m\u001b[1;33m,\u001b[0m \u001b[0mi\u001b[0m\u001b[1;33m,\u001b[0m \u001b[0mobj\u001b[0m\u001b[1;33m)\u001b[0m\u001b[1;33m\u001b[0m\u001b[0m\n\u001b[0m\u001b[0;32m     75\u001b[0m             \u001b[0mbst\u001b[0m\u001b[1;33m.\u001b[0m\u001b[0msave_rabit_checkpoint\u001b[0m\u001b[1;33m(\u001b[0m\u001b[1;33m)\u001b[0m\u001b[1;33m\u001b[0m\u001b[0m\n\u001b[0;32m     76\u001b[0m             \u001b[0mversion\u001b[0m \u001b[1;33m+=\u001b[0m \u001b[1;36m1\u001b[0m\u001b[1;33m\u001b[0m\u001b[0m\n",
      "\u001b[1;32mC:\\ProgramData\\Anaconda3\\lib\\site-packages\\xgboost\\core.py\u001b[0m in \u001b[0;36mupdate\u001b[1;34m(self, dtrain, iteration, fobj)\u001b[0m\n\u001b[0;32m   1019\u001b[0m         \u001b[1;32mif\u001b[0m \u001b[0mfobj\u001b[0m \u001b[1;32mis\u001b[0m \u001b[1;32mNone\u001b[0m\u001b[1;33m:\u001b[0m\u001b[1;33m\u001b[0m\u001b[0m\n\u001b[0;32m   1020\u001b[0m             _check_call(_LIB.XGBoosterUpdateOneIter(self.handle, ctypes.c_int(iteration),\n\u001b[1;32m-> 1021\u001b[1;33m                                                     dtrain.handle))\n\u001b[0m\u001b[0;32m   1022\u001b[0m         \u001b[1;32melse\u001b[0m\u001b[1;33m:\u001b[0m\u001b[1;33m\u001b[0m\u001b[0m\n\u001b[0;32m   1023\u001b[0m             \u001b[0mpred\u001b[0m \u001b[1;33m=\u001b[0m \u001b[0mself\u001b[0m\u001b[1;33m.\u001b[0m\u001b[0mpredict\u001b[0m\u001b[1;33m(\u001b[0m\u001b[0mdtrain\u001b[0m\u001b[1;33m)\u001b[0m\u001b[1;33m\u001b[0m\u001b[0m\n",
      "\u001b[1;31mKeyboardInterrupt\u001b[0m: "
     ]
    }
   ],
   "source": [
    "inference_start = time.time()\n",
    "\n",
    "rs_XGB = RandomizedSearchCV (estimator=estimator, param_distributions=param_distributions_XGB, cv = 10, n_iter = 5, scoring=\"accuracy\")\n",
    "\n",
    "rs_XGB.fit(X_train, y_train)\n",
    "\n",
    "result_train = accuracy_score(y_pred=rs_XGB.best_estimator_.predict(X_train), y_true=y_train)\n",
    "results_XGB_train.update({rs_XGB.best_estimator_:result_train})\n",
    "\n",
    "result_test = accuracy_score(y_pred=rs_XGB.best_estimator_.predict(X_test), y_true=y_test )\n",
    "results_XGB_test.update({rs_XGB.best_estimator_:result_test})\n",
    "\n",
    "inference_end = time.time()\n",
    "\n",
    "print('Inference Time: %0.2f Minutes'%((inference_end - inference_start)/60))"
   ]
  },
  {
   "cell_type": "code",
   "execution_count": null,
   "metadata": {},
   "outputs": [],
   "source": [
    "rs_XGB.best_params_"
   ]
  },
  {
   "cell_type": "code",
   "execution_count": null,
   "metadata": {},
   "outputs": [],
   "source": [
    "result_XGB_train = []\n",
    "result_XGB_train.append(results_XGB_train)\n",
    "\n",
    "df_XGB_train = pd.DataFrame(data=result_XGB_train).T\n",
    "df_XGB_train.columns = [\"accuracy_test\"]\n",
    "\n",
    "df_XGB_train"
   ]
  },
  {
   "cell_type": "code",
   "execution_count": null,
   "metadata": {},
   "outputs": [],
   "source": [
    "result_XGB_test= []\n",
    "result_XGB_test.append(results_XGB_test)\n",
    "\n",
    "df_XGB_test = pd.DataFrame(data=result_XGB_test).T\n",
    "df_XGB_test.columns = [\"accuracy_train\"]\n",
    "\n",
    "df_XGB_test"
   ]
  },
  {
   "cell_type": "code",
   "execution_count": null,
   "metadata": {},
   "outputs": [],
   "source": [
    "df_XGB = df_XGB_train.join(df_XGB_test, how=\"inner\")\n",
    "\n",
    "df_XGB"
   ]
  },
  {
   "cell_type": "code",
   "execution_count": null,
   "metadata": {},
   "outputs": [],
   "source": [
    "frames = [df, df_XGB]"
   ]
  },
  {
   "cell_type": "code",
   "execution_count": null,
   "metadata": {},
   "outputs": [],
   "source": [
    "pd.concat(frames)"
   ]
  },
  {
   "cell_type": "code",
   "execution_count": null,
   "metadata": {},
   "outputs": [],
   "source": []
  },
  {
   "cell_type": "code",
   "execution_count": null,
   "metadata": {},
   "outputs": [],
   "source": [
    "from xgboost import plot_importance\n",
    "from matplotlib import pyplot as plt"
   ]
  },
  {
   "cell_type": "code",
   "execution_count": null,
   "metadata": {},
   "outputs": [],
   "source": [
    "plot_importance(booster=rs_XGB.best_estimator_, max_num_features=15, importance_type='weight')"
   ]
  },
  {
   "cell_type": "code",
   "execution_count": null,
   "metadata": {
    "scrolled": true
   },
   "outputs": [],
   "source": [
    "plot_importance(booster=rs_XGB.best_estimator_, max_num_features=15, importance_type='gain')"
   ]
  },
  {
   "cell_type": "code",
   "execution_count": null,
   "metadata": {
    "scrolled": true
   },
   "outputs": [],
   "source": [
    "plot_importance(booster=rs_XGB.best_estimator_, max_num_features=15, importance_type='cover')"
   ]
  },
  {
   "cell_type": "code",
   "execution_count": null,
   "metadata": {},
   "outputs": [],
   "source": []
  },
  {
   "cell_type": "code",
   "execution_count": null,
   "metadata": {},
   "outputs": [],
   "source": []
  },
  {
   "cell_type": "code",
   "execution_count": null,
   "metadata": {},
   "outputs": [],
   "source": []
  },
  {
   "cell_type": "markdown",
   "metadata": {},
   "source": [
    "# NEURAL NETWORK KERAS"
   ]
  },
  {
   "cell_type": "code",
   "execution_count": 60,
   "metadata": {},
   "outputs": [
    {
     "name": "stderr",
     "output_type": "stream",
     "text": [
      "C:\\ProgramData\\Anaconda3\\lib\\site-packages\\h5py\\__init__.py:36: FutureWarning: Conversion of the second argument of issubdtype from `float` to `np.floating` is deprecated. In future, it will be treated as `np.float64 == np.dtype(float).type`.\n",
      "  from ._conv import register_converters as _register_converters\n",
      "Using TensorFlow backend.\n"
     ]
    }
   ],
   "source": [
    "import keras\n",
    "\n",
    "from keras.models import Sequential, load_model\n",
    "from keras.layers import Dense, Dropout\n",
    "from keras.utils import to_categorical\n",
    "from keras.callbacks import EarlyStopping, ModelCheckpoint\n",
    "from keras.optimizers import SGD\n",
    "import matplotlib.pyplot as plt"
   ]
  },
  {
   "cell_type": "code",
   "execution_count": 68,
   "metadata": {},
   "outputs": [
    {
     "name": "stderr",
     "output_type": "stream",
     "text": [
      "C:\\ProgramData\\Anaconda3\\lib\\site-packages\\sklearn\\preprocessing\\data.py:323: DataConversionWarning: Data with input dtype uint8, int64 were all converted to float64 by MinMaxScaler.\n",
      "  return self.partial_fit(X, y)\n",
      "C:\\ProgramData\\Anaconda3\\lib\\site-packages\\sklearn\\preprocessing\\data.py:323: DataConversionWarning: Data with input dtype uint8, int64 were all converted to float64 by MinMaxScaler.\n",
      "  return self.partial_fit(X, y)\n"
     ]
    }
   ],
   "source": [
    "from sklearn.preprocessing import MinMaxScaler\n",
    "\n",
    "scaler = MinMaxScaler()\n",
    "\n",
    "X_train_NN = scaler.fit_transform(X_train)\n",
    "X_test_NN = scaler.fit_transform(X_test)\n",
    "\n",
    "n_cols = X_train_NN.shape[1]\n",
    "\n",
    "y_train_NN = to_categorical(y_train)\n",
    "y_test_NN = to_categorical(y_test)\n"
   ]
  },
  {
   "cell_type": "code",
   "execution_count": 69,
   "metadata": {},
   "outputs": [],
   "source": [
    "# Model1"
   ]
  },
  {
   "cell_type": "code",
   "execution_count": 155,
   "metadata": {},
   "outputs": [
    {
     "name": "stdout",
     "output_type": "stream",
     "text": [
      "Train on 23932 samples, validate on 10257 samples\n",
      "Epoch 1/30\n",
      " - 4s - loss: 0.3876 - acc: 0.8167 - val_loss: 0.3591 - val_acc: 0.8275\n",
      "Epoch 2/30\n",
      " - 2s - loss: 0.3463 - acc: 0.8385 - val_loss: 0.3374 - val_acc: 0.8392\n",
      "Epoch 3/30\n",
      " - 2s - loss: 0.3337 - acc: 0.8440 - val_loss: 0.3273 - val_acc: 0.8467\n",
      "Epoch 4/30\n",
      " - 2s - loss: 0.3271 - acc: 0.8476 - val_loss: 0.3232 - val_acc: 0.8497\n",
      "Epoch 5/30\n",
      " - 2s - loss: 0.3233 - acc: 0.8515 - val_loss: 0.3210 - val_acc: 0.8501\n",
      "Epoch 6/30\n",
      " - 2s - loss: 0.3210 - acc: 0.8505 - val_loss: 0.3195 - val_acc: 0.8475\n",
      "Epoch 7/30\n",
      " - 2s - loss: 0.3192 - acc: 0.8504 - val_loss: 0.3189 - val_acc: 0.8501\n",
      "Epoch 8/30\n",
      " - 2s - loss: 0.3190 - acc: 0.8519 - val_loss: 0.3206 - val_acc: 0.8503\n",
      "Epoch 9/30\n",
      " - 2s - loss: 0.3168 - acc: 0.8548 - val_loss: 0.3196 - val_acc: 0.8484\n",
      "Epoch 10/30\n",
      " - 2s - loss: 0.3158 - acc: 0.8527 - val_loss: 0.3195 - val_acc: 0.8484\n",
      "Epoch 11/30\n",
      " - 2s - loss: 0.3154 - acc: 0.8549 - val_loss: 0.3198 - val_acc: 0.8486\n",
      "Epoch 12/30\n",
      " - 2s - loss: 0.3142 - acc: 0.8547 - val_loss: 0.3192 - val_acc: 0.8486\n",
      "Epoch 13/30\n",
      " - 2s - loss: 0.3135 - acc: 0.8539 - val_loss: 0.3167 - val_acc: 0.8528\n",
      "Epoch 14/30\n",
      " - 2s - loss: 0.3124 - acc: 0.8532 - val_loss: 0.3176 - val_acc: 0.8534\n",
      "Epoch 15/30\n",
      " - 2s - loss: 0.3118 - acc: 0.8542 - val_loss: 0.3211 - val_acc: 0.8478\n",
      "Epoch 16/30\n",
      " - 2s - loss: 0.3102 - acc: 0.8555 - val_loss: 0.3161 - val_acc: 0.8523\n",
      "Epoch 17/30\n",
      " - 2s - loss: 0.3088 - acc: 0.8571 - val_loss: 0.3181 - val_acc: 0.8502\n",
      "Epoch 18/30\n",
      " - 2s - loss: 0.3082 - acc: 0.8568 - val_loss: 0.3177 - val_acc: 0.8507\n",
      "Epoch 19/30\n",
      " - 2s - loss: 0.3078 - acc: 0.8584 - val_loss: 0.3168 - val_acc: 0.8505\n",
      "Epoch 20/30\n",
      " - 2s - loss: 0.3067 - acc: 0.8577 - val_loss: 0.3181 - val_acc: 0.8508\n",
      "Epoch 21/30\n",
      " - 2s - loss: 0.3060 - acc: 0.8573 - val_loss: 0.3159 - val_acc: 0.8536\n",
      "Epoch 22/30\n",
      " - 2s - loss: 0.3058 - acc: 0.8575 - val_loss: 0.3174 - val_acc: 0.8511\n",
      "Epoch 23/30\n",
      " - 2s - loss: 0.3061 - acc: 0.8586 - val_loss: 0.3160 - val_acc: 0.8537\n",
      "Epoch 24/30\n",
      " - 2s - loss: 0.3047 - acc: 0.8578 - val_loss: 0.3185 - val_acc: 0.8522\n",
      "Epoch 25/30\n",
      " - 2s - loss: 0.3048 - acc: 0.8589 - val_loss: 0.3182 - val_acc: 0.8509\n",
      "Epoch 26/30\n",
      " - 3s - loss: 0.3037 - acc: 0.8598 - val_loss: 0.3222 - val_acc: 0.8499\n",
      "Epoch 27/30\n",
      " - 2s - loss: 0.3029 - acc: 0.8597 - val_loss: 0.3190 - val_acc: 0.8489\n",
      "Epoch 28/30\n",
      " - 2s - loss: 0.3028 - acc: 0.8575 - val_loss: 0.3212 - val_acc: 0.8494\n",
      "Epoch 29/30\n",
      " - 2s - loss: 0.3022 - acc: 0.8600 - val_loss: 0.3213 - val_acc: 0.8508\n",
      "Epoch 30/30\n",
      " - 2s - loss: 0.3019 - acc: 0.8599 - val_loss: 0.3185 - val_acc: 0.8510\n"
     ]
    },
    {
     "data": {
      "text/plain": [
       "<keras.callbacks.History at 0x2a850c36d30>"
      ]
     },
     "execution_count": 155,
     "metadata": {},
     "output_type": "execute_result"
    }
   ],
   "source": [
    "# Set up the model\n",
    "model = Sequential()\n",
    "\n",
    "# Adding layers\n",
    "model.add(Dense(64, activation = 'relu', input_shape = (n_cols,) ))\n",
    "model.add(Dense(2, activation = 'softmax'))\n",
    "\n",
    "# Model compile\n",
    "model.compile(optimizer = 'adam', loss = 'binary_crossentropy', metrics = ['accuracy'])\n",
    "\n",
    "\n",
    "# Early stopping\n",
    "Early_stopping_monitor = [\n",
    "            EarlyStopping(patience = 2, min_delta = 0.001),\n",
    "            #ModelCheckpoint(filepath='./my_nn_model.h5', save_best_only=True)\n",
    "            #ModelCheckpoint(filepath='weights.{epoch:02d}-{val_loss:.4f}.hdf5', save_best_only=True)            \n",
    "]\n",
    "\n",
    "# Fit the model\n",
    "model.fit(X_train_NN, y_train_NN, validation_split = 0.3, epochs = 30, verbose = 2 )\n",
    "          #,callbacks = Early_stopping_monitor)"
   ]
  },
  {
   "cell_type": "code",
   "execution_count": 156,
   "metadata": {},
   "outputs": [
    {
     "data": {
      "image/png": "[encoded data removed]",
      "text/plain": [
       "<Figure size 1080x360 with 1 Axes>"
      ]
     },
     "metadata": {},
     "output_type": "display_data"
    }
   ],
   "source": [
    "plt.figure(figsize=(15,5))\n",
    "\n",
    "plt.plot(model.history.history['acc'], label = 'train_acc', color = 'g')\n",
    "plt.plot(model.history.history['val_acc'], label = 'test_acc', color = 'r')\n",
    "\n",
    "plt.ylim(bottom = min(model.history.history['acc'] + model.history.history['val_acc']) - 0.005, \n",
    "         top = max(model.history.history['acc'] + model.history.history['val_acc']) + 0.005)\n",
    "\n",
    "plt.xticks(range(min(model.history.epoch) + 1, max(model.history.epoch)+1))\n",
    "\n",
    "plt.legend(loc = \"lower center\")\n",
    "\n",
    "plt.show()"
   ]
  },
  {
   "cell_type": "code",
   "execution_count": 157,
   "metadata": {},
   "outputs": [
    {
     "name": "stdout",
     "output_type": "stream",
     "text": [
      "34189/34189 [==============================] - 2s 63us/step\n",
      "14653/14653 [==============================] - 1s 35us/step\n",
      "Train acc: 0.858, Test acc: 0.854\n"
     ]
    }
   ],
   "source": [
    "# Evaluate the model\n",
    "\n",
    "train_loss, train_acc = model.evaluate(X_train_NN, y_train_NN)\n",
    "test_loss, test_acc = model.evaluate(X_test_NN, y_test_NN)\n",
    "\n",
    "print('Train acc: %.3f, Test acc: %.3f' % (train_acc, test_acc))"
   ]
  },
  {
   "cell_type": "code",
   "execution_count": null,
   "metadata": {},
   "outputs": [],
   "source": []
  },
  {
   "cell_type": "code",
   "execution_count": 158,
   "metadata": {},
   "outputs": [],
   "source": [
    "# Model2"
   ]
  },
  {
   "cell_type": "code",
   "execution_count": 159,
   "metadata": {},
   "outputs": [
    {
     "name": "stdout",
     "output_type": "stream",
     "text": [
      "Train on 23932 samples, validate on 10257 samples\n",
      "Epoch 1/30\n",
      " - 4s - loss: 0.3713 - acc: 0.8225 - val_loss: 0.3420 - val_acc: 0.8385\n",
      "Epoch 2/30\n",
      " - 2s - loss: 0.3370 - acc: 0.8400 - val_loss: 0.3306 - val_acc: 0.8452\n",
      "Epoch 3/30\n",
      " - 2s - loss: 0.3265 - acc: 0.8469 - val_loss: 0.3252 - val_acc: 0.8502\n",
      "Epoch 4/30\n",
      " - 2s - loss: 0.3224 - acc: 0.8489 - val_loss: 0.3232 - val_acc: 0.8488\n",
      "Epoch 5/30\n",
      " - 2s - loss: 0.3201 - acc: 0.8514 - val_loss: 0.3268 - val_acc: 0.8460\n",
      "Epoch 6/30\n",
      " - 2s - loss: 0.3193 - acc: 0.8513 - val_loss: 0.3200 - val_acc: 0.8495\n",
      "Epoch 7/30\n",
      " - 2s - loss: 0.3169 - acc: 0.8508 - val_loss: 0.3213 - val_acc: 0.8473\n",
      "Epoch 8/30\n",
      " - 2s - loss: 0.3156 - acc: 0.8534 - val_loss: 0.3177 - val_acc: 0.8517\n",
      "Epoch 9/30\n",
      " - 2s - loss: 0.3141 - acc: 0.8520 - val_loss: 0.3152 - val_acc: 0.8558\n",
      "Epoch 10/30\n",
      " - 2s - loss: 0.3122 - acc: 0.8546 - val_loss: 0.3143 - val_acc: 0.8535\n",
      "Epoch 11/30\n",
      " - 2s - loss: 0.3123 - acc: 0.8555 - val_loss: 0.3160 - val_acc: 0.8522\n",
      "Epoch 12/30\n",
      " - 2s - loss: 0.3107 - acc: 0.8545 - val_loss: 0.3157 - val_acc: 0.8539\n",
      "Epoch 13/30\n",
      " - 3s - loss: 0.3091 - acc: 0.8577 - val_loss: 0.3137 - val_acc: 0.8521\n",
      "Epoch 14/30\n",
      " - 2s - loss: 0.3089 - acc: 0.8560 - val_loss: 0.3147 - val_acc: 0.8558\n",
      "Epoch 15/30\n",
      " - 3s - loss: 0.3084 - acc: 0.8565 - val_loss: 0.3169 - val_acc: 0.8540\n",
      "Epoch 16/30\n",
      " - 2s - loss: 0.3071 - acc: 0.8576 - val_loss: 0.3161 - val_acc: 0.8534\n",
      "Epoch 17/30\n",
      " - 2s - loss: 0.3071 - acc: 0.8575 - val_loss: 0.3188 - val_acc: 0.8521\n",
      "Epoch 18/30\n",
      " - 2s - loss: 0.3049 - acc: 0.8570 - val_loss: 0.3158 - val_acc: 0.8528\n",
      "Epoch 19/30\n",
      " - 2s - loss: 0.3044 - acc: 0.8589 - val_loss: 0.3169 - val_acc: 0.8525\n",
      "Epoch 20/30\n",
      " - 2s - loss: 0.3042 - acc: 0.8566 - val_loss: 0.3170 - val_acc: 0.8503\n",
      "Epoch 21/30\n",
      " - 2s - loss: 0.3033 - acc: 0.8585 - val_loss: 0.3193 - val_acc: 0.8501\n",
      "Epoch 22/30\n",
      " - 2s - loss: 0.3024 - acc: 0.8588 - val_loss: 0.3166 - val_acc: 0.8544\n",
      "Epoch 23/30\n",
      " - 2s - loss: 0.3017 - acc: 0.8621 - val_loss: 0.3163 - val_acc: 0.8523\n",
      "Epoch 24/30\n",
      " - 2s - loss: 0.3009 - acc: 0.8593 - val_loss: 0.3312 - val_acc: 0.8472\n",
      "Epoch 25/30\n",
      " - 2s - loss: 0.3004 - acc: 0.8594 - val_loss: 0.3190 - val_acc: 0.8490\n",
      "Epoch 26/30\n",
      " - 2s - loss: 0.2997 - acc: 0.8619 - val_loss: 0.3183 - val_acc: 0.8487\n",
      "Epoch 27/30\n",
      " - 2s - loss: 0.3000 - acc: 0.8589 - val_loss: 0.3175 - val_acc: 0.8507\n",
      "Epoch 28/30\n",
      " - 2s - loss: 0.2994 - acc: 0.8590 - val_loss: 0.3189 - val_acc: 0.8540\n",
      "Epoch 29/30\n",
      " - 2s - loss: 0.2983 - acc: 0.8603 - val_loss: 0.3250 - val_acc: 0.8470\n",
      "Epoch 30/30\n",
      " - 2s - loss: 0.2985 - acc: 0.8610 - val_loss: 0.3201 - val_acc: 0.8502\n"
     ]
    },
    {
     "data": {
      "text/plain": [
       "<keras.callbacks.History at 0x2a85bac6630>"
      ]
     },
     "execution_count": 159,
     "metadata": {},
     "output_type": "execute_result"
    }
   ],
   "source": [
    "# Set up the model\n",
    "model = Sequential()\n",
    "\n",
    "# Adding layers\n",
    "model.add(Dense(128, activation = 'relu', input_shape = (n_cols,) ))\n",
    "model.add(Dense(2, activation = 'softmax'))\n",
    "\n",
    "# Model compile\n",
    "model.compile(optimizer = 'adam', loss = 'binary_crossentropy', metrics = ['accuracy'])\n",
    "\n",
    "\n",
    "# Early stopping\n",
    "Early_stopping_monitor = [\n",
    "            EarlyStopping(patience = 2, min_delta = 0.001),\n",
    "            #ModelCheckpoint(filepath='./my_nn_model.h5', save_best_only=True)\n",
    "            #ModelCheckpoint(filepath='weights.{epoch:02d}-{val_loss:.4f}.hdf5', save_best_only=True)            \n",
    "]\n",
    "\n",
    "# Fit the model\n",
    "model.fit(X_train_NN, y_train_NN, validation_split = 0.3, epochs = 30, verbose = 2 )\n",
    "          #,callbacks = Early_stopping_monitor)\n"
   ]
  },
  {
   "cell_type": "code",
   "execution_count": 160,
   "metadata": {},
   "outputs": [
    {
     "data": {
      "image/png": "[encoded data removed]",
      "text/plain": [
       "<Figure size 1080x360 with 1 Axes>"
      ]
     },
     "metadata": {},
     "output_type": "display_data"
    }
   ],
   "source": [
    "plt.figure(figsize=(15,5))\n",
    "\n",
    "plt.plot(model.history.history['acc'], label = 'train_acc', color = 'g')\n",
    "plt.plot(model.history.history['val_acc'], label = 'test_acc', color = 'r')\n",
    "\n",
    "plt.ylim(bottom = min(model.history.history['acc'] + model.history.history['val_acc']) - 0.005, \n",
    "         top = max(model.history.history['acc'] + model.history.history['val_acc']) + 0.005)\n",
    "\n",
    "plt.xticks(range(min(model.history.epoch) + 1, max(model.history.epoch)+1))\n",
    "\n",
    "plt.legend(loc = \"lower center\")\n",
    "\n",
    "plt.show()"
   ]
  },
  {
   "cell_type": "code",
   "execution_count": 161,
   "metadata": {},
   "outputs": [
    {
     "name": "stdout",
     "output_type": "stream",
     "text": [
      "34189/34189 [==============================] - 1s 39us/step\n",
      "14653/14653 [==============================] - 1s 36us/step\n",
      "Train acc: 0.860, Test acc: 0.854\n"
     ]
    }
   ],
   "source": [
    "# Evaluate the model\n",
    "\n",
    "train_loss, train_acc = model.evaluate(X_train_NN, y_train_NN)\n",
    "test_loss, test_acc = model.evaluate(X_test_NN, y_test_NN)\n",
    "\n",
    "print('Train acc: %.3f, Test acc: %.3f' % (train_acc, test_acc))"
   ]
  },
  {
   "cell_type": "code",
   "execution_count": null,
   "metadata": {},
   "outputs": [],
   "source": []
  },
  {
   "cell_type": "code",
   "execution_count": 162,
   "metadata": {},
   "outputs": [],
   "source": [
    "# Model3"
   ]
  },
  {
   "cell_type": "code",
   "execution_count": 163,
   "metadata": {},
   "outputs": [
    {
     "name": "stdout",
     "output_type": "stream",
     "text": [
      "Train on 23932 samples, validate on 10257 samples\n",
      "Epoch 1/30\n",
      " - 3s - loss: 0.3744 - acc: 0.8222 - val_loss: 0.3465 - val_acc: 0.8345\n",
      "Epoch 2/30\n",
      " - 2s - loss: 0.3392 - acc: 0.8406 - val_loss: 0.3321 - val_acc: 0.8442\n",
      "Epoch 3/30\n",
      " - 2s - loss: 0.3298 - acc: 0.8459 - val_loss: 0.3263 - val_acc: 0.8484\n",
      "Epoch 4/30\n",
      " - 2s - loss: 0.3252 - acc: 0.8469 - val_loss: 0.3237 - val_acc: 0.8489\n",
      "Epoch 5/30\n",
      " - 2s - loss: 0.3213 - acc: 0.8496 - val_loss: 0.3277 - val_acc: 0.8458\n",
      "Epoch 6/30\n",
      " - 2s - loss: 0.3184 - acc: 0.8522 - val_loss: 0.3222 - val_acc: 0.8482\n",
      "Epoch 7/30\n",
      " - 2s - loss: 0.3174 - acc: 0.8512 - val_loss: 0.3180 - val_acc: 0.8500\n",
      "Epoch 8/30\n",
      " - 2s - loss: 0.3163 - acc: 0.8512 - val_loss: 0.3181 - val_acc: 0.8505\n",
      "Epoch 9/30\n",
      " - 2s - loss: 0.3130 - acc: 0.8527 - val_loss: 0.3291 - val_acc: 0.8435\n",
      "Epoch 10/30\n",
      " - 2s - loss: 0.3109 - acc: 0.8542 - val_loss: 0.3221 - val_acc: 0.8510\n",
      "Epoch 11/30\n",
      " - 2s - loss: 0.3093 - acc: 0.8573 - val_loss: 0.3236 - val_acc: 0.8491\n",
      "Epoch 12/30\n",
      " - 2s - loss: 0.3087 - acc: 0.8540 - val_loss: 0.3211 - val_acc: 0.8492\n",
      "Epoch 13/30\n",
      " - 2s - loss: 0.3065 - acc: 0.8578 - val_loss: 0.3253 - val_acc: 0.8493\n",
      "Epoch 14/30\n",
      " - 2s - loss: 0.3054 - acc: 0.8569 - val_loss: 0.3215 - val_acc: 0.8527\n",
      "Epoch 15/30\n",
      " - 2s - loss: 0.3045 - acc: 0.8573 - val_loss: 0.3189 - val_acc: 0.8528\n",
      "Epoch 16/30\n",
      " - 2s - loss: 0.3037 - acc: 0.8567 - val_loss: 0.3204 - val_acc: 0.8525\n",
      "Epoch 17/30\n",
      " - 2s - loss: 0.3029 - acc: 0.8586 - val_loss: 0.3259 - val_acc: 0.8488\n",
      "Epoch 18/30\n",
      " - 2s - loss: 0.3003 - acc: 0.8596 - val_loss: 0.3228 - val_acc: 0.8518\n",
      "Epoch 19/30\n",
      " - 2s - loss: 0.2998 - acc: 0.8578 - val_loss: 0.3205 - val_acc: 0.8533\n",
      "Epoch 20/30\n",
      " - 2s - loss: 0.2988 - acc: 0.8590 - val_loss: 0.3357 - val_acc: 0.8477\n",
      "Epoch 21/30\n",
      " - 2s - loss: 0.2975 - acc: 0.8599 - val_loss: 0.3277 - val_acc: 0.8486\n",
      "Epoch 22/30\n",
      " - 2s - loss: 0.2968 - acc: 0.8611 - val_loss: 0.3252 - val_acc: 0.8507\n",
      "Epoch 23/30\n",
      " - 2s - loss: 0.2959 - acc: 0.8601 - val_loss: 0.3258 - val_acc: 0.8528\n",
      "Epoch 24/30\n",
      " - 2s - loss: 0.2959 - acc: 0.8611 - val_loss: 0.3256 - val_acc: 0.8507\n",
      "Epoch 25/30\n",
      " - 2s - loss: 0.2936 - acc: 0.8619 - val_loss: 0.3277 - val_acc: 0.8486\n",
      "Epoch 26/30\n",
      " - 2s - loss: 0.2936 - acc: 0.8625 - val_loss: 0.3281 - val_acc: 0.8538\n",
      "Epoch 27/30\n",
      " - 2s - loss: 0.2926 - acc: 0.8610 - val_loss: 0.3247 - val_acc: 0.8531\n",
      "Epoch 28/30\n",
      " - 2s - loss: 0.2910 - acc: 0.8641 - val_loss: 0.3290 - val_acc: 0.8482\n",
      "Epoch 29/30\n",
      " - 2s - loss: 0.2910 - acc: 0.8639 - val_loss: 0.3297 - val_acc: 0.8487\n",
      "Epoch 30/30\n",
      " - 2s - loss: 0.2904 - acc: 0.8637 - val_loss: 0.3279 - val_acc: 0.8513\n"
     ]
    },
    {
     "data": {
      "text/plain": [
       "<keras.callbacks.History at 0x2a85d3d1d68>"
      ]
     },
     "execution_count": 163,
     "metadata": {},
     "output_type": "execute_result"
    }
   ],
   "source": [
    "# Set up the model\n",
    "model = Sequential()\n",
    "\n",
    "# Adding layers\n",
    "model.add(Dense(64, activation = 'relu', input_shape = (n_cols,) ))\n",
    "model.add(Dense(32, activation = 'relu'))\n",
    "model.add(Dense(2, activation = 'softmax'))\n",
    "\n",
    "# Model compile\n",
    "model.compile(optimizer = 'adam', loss = 'binary_crossentropy', metrics = ['accuracy'])\n",
    "\n",
    "\n",
    "# Early stopping\n",
    "\n",
    "Early_stopping_monitor = [\n",
    "            EarlyStopping(patience = 2, min_delta = 0.001),\n",
    "            #ModelCheckpoint(filepath='./my_nn_model.h5', save_best_only=True)\n",
    "            #ModelCheckpoint(filepath='weights.{epoch:02d}-{val_loss:.4f}.hdf5', save_best_only=True)            \n",
    "]\n",
    "\n",
    "# Fit the model\n",
    "model.fit(X_train_NN, y_train_NN, validation_split = 0.3, epochs = 30, verbose = 2 )\n",
    "          #,callbacks = Early_stopping_monitor)\n"
   ]
  },
  {
   "cell_type": "code",
   "execution_count": 164,
   "metadata": {},
   "outputs": [
    {
     "data": {
      "image/png": "[encoded data removed]",
      "text/plain": [
       "<Figure size 1080x360 with 1 Axes>"
      ]
     },
     "metadata": {},
     "output_type": "display_data"
    }
   ],
   "source": [
    "plt.figure(figsize=(15,5))\n",
    "\n",
    "plt.plot(model.history.history['acc'], label = 'train_acc', color = 'g')\n",
    "plt.plot(model.history.history['val_acc'], label = 'test_acc', color = 'r')\n",
    "\n",
    "plt.ylim(bottom = min(model.history.history['acc'] + model.history.history['val_acc']) - 0.005, \n",
    "         top = max(model.history.history['acc'] + model.history.history['val_acc']) + 0.005)\n",
    "\n",
    "plt.xticks(range(min(model.history.epoch) + 1, max(model.history.epoch)+1))\n",
    "\n",
    "plt.legend(loc = \"lower center\")\n",
    "\n",
    "plt.show()"
   ]
  },
  {
   "cell_type": "code",
   "execution_count": 165,
   "metadata": {},
   "outputs": [
    {
     "name": "stdout",
     "output_type": "stream",
     "text": [
      "34189/34189 [==============================] - 2s 70us/step\n",
      "14653/14653 [==============================] - 1s 58us/step\n",
      "Train acc: 0.863, Test acc: 0.852\n"
     ]
    }
   ],
   "source": [
    "# Evaluate the model\n",
    "\n",
    "train_loss, train_acc = model.evaluate(X_train_NN, y_train_NN)\n",
    "test_loss, test_acc = model.evaluate(X_test_NN, y_test_NN)\n",
    "\n",
    "print('Train acc: %.3f, Test acc: %.3f' % (train_acc, test_acc))"
   ]
  },
  {
   "cell_type": "code",
   "execution_count": null,
   "metadata": {},
   "outputs": [],
   "source": []
  },
  {
   "cell_type": "code",
   "execution_count": 166,
   "metadata": {},
   "outputs": [],
   "source": [
    "# Model 4"
   ]
  },
  {
   "cell_type": "code",
   "execution_count": 167,
   "metadata": {},
   "outputs": [
    {
     "name": "stdout",
     "output_type": "stream",
     "text": [
      "Train on 23932 samples, validate on 10257 samples\n",
      "Epoch 1/30\n",
      "23932/23932 [==============================] - 5s 221us/step - loss: 0.4038 - acc: 0.8042 - val_loss: 0.3609 - val_acc: 0.8290\n",
      "Epoch 2/30\n",
      "23932/23932 [==============================] - 3s 120us/step - loss: 0.3675 - acc: 0.8276 - val_loss: 0.3496 - val_acc: 0.8359\n",
      "Epoch 3/30\n",
      "23932/23932 [==============================] - 2s 90us/step - loss: 0.3565 - acc: 0.8337 - val_loss: 0.3426 - val_acc: 0.8386\n",
      "Epoch 4/30\n",
      "23932/23932 [==============================] - 2s 91us/step - loss: 0.3469 - acc: 0.8387 - val_loss: 0.3327 - val_acc: 0.8459\n",
      "Epoch 5/30\n",
      "23932/23932 [==============================] - 2s 94us/step - loss: 0.3409 - acc: 0.8398 - val_loss: 0.3269 - val_acc: 0.8474\n",
      "Epoch 6/30\n",
      "23932/23932 [==============================] - 3s 107us/step - loss: 0.3352 - acc: 0.8438 - val_loss: 0.3232 - val_acc: 0.8495\n",
      "Epoch 7/30\n",
      "23932/23932 [==============================] - 3s 124us/step - loss: 0.3320 - acc: 0.8441 - val_loss: 0.3296 - val_acc: 0.8426\n",
      "Epoch 8/30\n",
      "23932/23932 [==============================] - 2s 101us/step - loss: 0.3309 - acc: 0.8460 - val_loss: 0.3213 - val_acc: 0.8531\n",
      "Epoch 9/30\n",
      "23932/23932 [==============================] - 3s 134us/step - loss: 0.3270 - acc: 0.8477 - val_loss: 0.3183 - val_acc: 0.8520\n",
      "Epoch 10/30\n",
      "23932/23932 [==============================] - 3s 131us/step - loss: 0.3283 - acc: 0.8480 - val_loss: 0.3183 - val_acc: 0.8502\n",
      "Epoch 11/30\n",
      "23932/23932 [==============================] - 3s 112us/step - loss: 0.3254 - acc: 0.8485 - val_loss: 0.3181 - val_acc: 0.8510\n",
      "Epoch 12/30\n",
      "23932/23932 [==============================] - 3s 105us/step - loss: 0.3216 - acc: 0.8497 - val_loss: 0.3214 - val_acc: 0.8468\n",
      "Epoch 13/30\n",
      "23932/23932 [==============================] - 2s 86us/step - loss: 0.3230 - acc: 0.8498 - val_loss: 0.3165 - val_acc: 0.8543\n",
      "Epoch 14/30\n",
      "23932/23932 [==============================] - 2s 89us/step - loss: 0.3226 - acc: 0.8494 - val_loss: 0.3179 - val_acc: 0.8525\n",
      "Epoch 15/30\n",
      "23932/23932 [==============================] - 2s 97us/step - loss: 0.3220 - acc: 0.8519 - val_loss: 0.3178 - val_acc: 0.8533\n",
      "Epoch 16/30\n",
      "23932/23932 [==============================] - 2s 100us/step - loss: 0.3214 - acc: 0.8515 - val_loss: 0.3158 - val_acc: 0.8526\n",
      "Epoch 17/30\n",
      "23932/23932 [==============================] - 2s 98us/step - loss: 0.3194 - acc: 0.8497 - val_loss: 0.3147 - val_acc: 0.8537\n",
      "Epoch 18/30\n",
      "23932/23932 [==============================] - 2s 93us/step - loss: 0.3204 - acc: 0.8515 - val_loss: 0.3136 - val_acc: 0.8540\n",
      "Epoch 19/30\n",
      "23932/23932 [==============================] - 2s 92us/step - loss: 0.3200 - acc: 0.8510 - val_loss: 0.3161 - val_acc: 0.8524\n",
      "Epoch 20/30\n",
      "23932/23932 [==============================] - 2s 92us/step - loss: 0.3199 - acc: 0.8507 - val_loss: 0.3146 - val_acc: 0.8526\n",
      "Epoch 21/30\n",
      "23932/23932 [==============================] - 2s 92us/step - loss: 0.3183 - acc: 0.8525 - val_loss: 0.3154 - val_acc: 0.8542\n",
      "Epoch 22/30\n",
      "23932/23932 [==============================] - 2s 94us/step - loss: 0.3177 - acc: 0.8528 - val_loss: 0.3161 - val_acc: 0.8540\n",
      "Epoch 23/30\n",
      "23932/23932 [==============================] - 2s 94us/step - loss: 0.3185 - acc: 0.8525 - val_loss: 0.3128 - val_acc: 0.8537\n",
      "Epoch 24/30\n",
      "23932/23932 [==============================] - 3s 113us/step - loss: 0.3166 - acc: 0.8522 - val_loss: 0.3167 - val_acc: 0.8520\n",
      "Epoch 25/30\n",
      "23932/23932 [==============================] - 3s 131us/step - loss: 0.3159 - acc: 0.8546 - val_loss: 0.3158 - val_acc: 0.8552\n",
      "Epoch 26/30\n",
      "23932/23932 [==============================] - 3s 110us/step - loss: 0.3157 - acc: 0.8543 - val_loss: 0.3140 - val_acc: 0.8581\n",
      "Epoch 27/30\n",
      "23932/23932 [==============================] - 2s 87us/step - loss: 0.3149 - acc: 0.8543 - val_loss: 0.3153 - val_acc: 0.8562\n",
      "Epoch 28/30\n",
      "23932/23932 [==============================] - 2s 92us/step - loss: 0.3147 - acc: 0.8524 - val_loss: 0.3133 - val_acc: 0.8545\n",
      "Epoch 29/30\n",
      "23932/23932 [==============================] - 3s 137us/step - loss: 0.3149 - acc: 0.8533 - val_loss: 0.3138 - val_acc: 0.8531\n",
      "Epoch 30/30\n",
      "23932/23932 [==============================] - 3s 128us/step - loss: 0.3151 - acc: 0.8535 - val_loss: 0.3146 - val_acc: 0.8536\n"
     ]
    },
    {
     "data": {
      "text/plain": [
       "<keras.callbacks.History at 0x2a85d3f5668>"
      ]
     },
     "execution_count": 167,
     "metadata": {},
     "output_type": "execute_result"
    }
   ],
   "source": [
    "# Set up the model\n",
    "model = Sequential()\n",
    "\n",
    "# Adding layers\n",
    "model.add(Dense(64, activation = 'relu', input_shape = (n_cols,) ))\n",
    "model.add(Dropout(rate=0.5))\n",
    "model.add(Dense(32, activation = 'relu'))\n",
    "model.add(Dense(2, activation = 'softmax'))\n",
    "\n",
    "# Model compile\n",
    "model.compile(optimizer = 'adam', loss = 'binary_crossentropy', metrics = ['accuracy'])\n",
    "\n",
    "\n",
    "# Early stopping\n",
    "Early_stopping_monitor = [\n",
    "            EarlyStopping(patience = 2, min_delta = 0.001),\n",
    "            #ModelCheckpoint(filepath='./my_nn_model.h5', save_best_only=True)\n",
    "            #ModelCheckpoint(filepath='weights.{epoch:02d}-{val_loss:.4f}.hdf5', save_best_only=True)            \n",
    "]\n",
    "\n",
    "# Fit the model\n",
    "model.fit(X_train_NN, y_train_NN, validation_split = 0.3, epochs = 30, verbose = 1 )\n",
    "          #,callbacks = Early_stopping_monitor)"
   ]
  },
  {
   "cell_type": "code",
   "execution_count": 168,
   "metadata": {},
   "outputs": [
    {
     "data": {
      "image/png": "[encoded data removed]",
      "text/plain": [
       "<Figure size 1080x360 with 1 Axes>"
      ]
     },
     "metadata": {},
     "output_type": "display_data"
    }
   ],
   "source": [
    "plt.figure(figsize=(15,5))\n",
    "\n",
    "plt.plot(model.history.history['acc'], label = 'train_acc', color = 'g')\n",
    "plt.plot(model.history.history['val_acc'], label = 'test_acc', color = 'r')\n",
    "\n",
    "plt.ylim(bottom = min(model.history.history['acc'] + model.history.history['val_acc']) - 0.005, \n",
    "         top = max(model.history.history['acc'] + model.history.history['val_acc']) + 0.005)\n",
    "\n",
    "plt.xticks(range(min(model.history.epoch) + 1, max(model.history.epoch)+1))\n",
    "\n",
    "plt.legend(loc = \"lower center\")\n",
    "\n",
    "plt.show()"
   ]
  },
  {
   "cell_type": "code",
   "execution_count": 169,
   "metadata": {},
   "outputs": [
    {
     "name": "stdout",
     "output_type": "stream",
     "text": [
      "34189/34189 [==============================] - 1s 40us/step\n",
      "14653/14653 [==============================] - 1s 36us/step\n",
      "Train acc: 0.856, Test acc: 0.856\n"
     ]
    }
   ],
   "source": [
    "# Evaluate the model\n",
    "\n",
    "train_loss, train_acc = model.evaluate(X_train_NN, y_train_NN)\n",
    "test_loss, test_acc = model.evaluate(X_test_NN, y_test_NN)\n",
    "\n",
    "print('Train acc: %.3f, Test acc: %.3f' % (train_acc, test_acc))"
   ]
  },
  {
   "cell_type": "code",
   "execution_count": null,
   "metadata": {},
   "outputs": [],
   "source": []
  },
  {
   "cell_type": "code",
   "execution_count": 170,
   "metadata": {},
   "outputs": [],
   "source": [
    "# Model 5 "
   ]
  },
  {
   "cell_type": "code",
   "execution_count": 171,
   "metadata": {},
   "outputs": [
    {
     "name": "stdout",
     "output_type": "stream",
     "text": [
      "Train on 23932 samples, validate on 10257 samples\n",
      "Epoch 1/30\n",
      " - 4s - loss: 0.4476 - acc: 0.7769 - val_loss: 0.3721 - val_acc: 0.8247\n",
      "Epoch 2/30\n",
      " - 2s - loss: 0.3829 - acc: 0.8202 - val_loss: 0.3582 - val_acc: 0.8303\n",
      "Epoch 3/30\n",
      " - 2s - loss: 0.3703 - acc: 0.8302 - val_loss: 0.3464 - val_acc: 0.8374\n",
      "Epoch 4/30\n",
      " - 2s - loss: 0.3603 - acc: 0.8326 - val_loss: 0.3411 - val_acc: 0.8400\n",
      "Epoch 5/30\n",
      " - 2s - loss: 0.3536 - acc: 0.8368 - val_loss: 0.3364 - val_acc: 0.8427\n",
      "Epoch 6/30\n",
      " - 2s - loss: 0.3457 - acc: 0.8409 - val_loss: 0.3280 - val_acc: 0.8470\n",
      "Epoch 7/30\n",
      " - 2s - loss: 0.3399 - acc: 0.8426 - val_loss: 0.3244 - val_acc: 0.8474\n",
      "Epoch 8/30\n",
      " - 3s - loss: 0.3410 - acc: 0.8416 - val_loss: 0.3241 - val_acc: 0.8499\n",
      "Epoch 9/30\n",
      " - 2s - loss: 0.3357 - acc: 0.8455 - val_loss: 0.3225 - val_acc: 0.8511\n",
      "Epoch 10/30\n",
      " - 2s - loss: 0.3351 - acc: 0.8450 - val_loss: 0.3212 - val_acc: 0.8504\n",
      "Epoch 11/30\n",
      " - 2s - loss: 0.3354 - acc: 0.8461 - val_loss: 0.3222 - val_acc: 0.8474\n",
      "Epoch 12/30\n",
      " - 2s - loss: 0.3347 - acc: 0.8451 - val_loss: 0.3206 - val_acc: 0.8506\n",
      "Epoch 13/30\n",
      " - 2s - loss: 0.3311 - acc: 0.8481 - val_loss: 0.3181 - val_acc: 0.8545\n",
      "Epoch 14/30\n",
      " - 2s - loss: 0.3305 - acc: 0.8469 - val_loss: 0.3172 - val_acc: 0.8525\n",
      "Epoch 15/30\n",
      " - 2s - loss: 0.3288 - acc: 0.8492 - val_loss: 0.3184 - val_acc: 0.8516\n",
      "Epoch 16/30\n",
      " - 2s - loss: 0.3276 - acc: 0.8479 - val_loss: 0.3169 - val_acc: 0.8532\n",
      "Epoch 17/30\n",
      " - 2s - loss: 0.3270 - acc: 0.8482 - val_loss: 0.3159 - val_acc: 0.8531\n",
      "Epoch 18/30\n",
      " - 2s - loss: 0.3277 - acc: 0.8488 - val_loss: 0.3152 - val_acc: 0.8548\n",
      "Epoch 19/30\n",
      " - 2s - loss: 0.3274 - acc: 0.8493 - val_loss: 0.3172 - val_acc: 0.8518\n",
      "Epoch 20/30\n",
      " - 2s - loss: 0.3254 - acc: 0.8484 - val_loss: 0.3158 - val_acc: 0.8514\n",
      "Epoch 21/30\n",
      " - 3s - loss: 0.3250 - acc: 0.8505 - val_loss: 0.3193 - val_acc: 0.8499\n",
      "Epoch 22/30\n",
      " - 3s - loss: 0.3250 - acc: 0.8501 - val_loss: 0.3170 - val_acc: 0.8510\n",
      "Epoch 23/30\n",
      " - 2s - loss: 0.3268 - acc: 0.8489 - val_loss: 0.3138 - val_acc: 0.8550\n",
      "Epoch 24/30\n",
      " - 3s - loss: 0.3241 - acc: 0.8500 - val_loss: 0.3149 - val_acc: 0.8526\n",
      "Epoch 25/30\n",
      " - 2s - loss: 0.3239 - acc: 0.8477 - val_loss: 0.3161 - val_acc: 0.8534\n",
      "Epoch 26/30\n",
      " - 2s - loss: 0.3243 - acc: 0.8499 - val_loss: 0.3198 - val_acc: 0.8499\n",
      "Epoch 27/30\n",
      " - 2s - loss: 0.3226 - acc: 0.8487 - val_loss: 0.3170 - val_acc: 0.8531\n",
      "Epoch 28/30\n",
      " - 2s - loss: 0.3223 - acc: 0.8517 - val_loss: 0.3140 - val_acc: 0.8553\n",
      "Epoch 29/30\n",
      " - 2s - loss: 0.3245 - acc: 0.8493 - val_loss: 0.3153 - val_acc: 0.8541\n",
      "Epoch 30/30\n",
      " - 3s - loss: 0.3211 - acc: 0.8509 - val_loss: 0.3153 - val_acc: 0.8544\n"
     ]
    },
    {
     "data": {
      "text/plain": [
       "<keras.callbacks.History at 0x2a8611c7908>"
      ]
     },
     "execution_count": 171,
     "metadata": {},
     "output_type": "execute_result"
    }
   ],
   "source": [
    "# Set up the model\n",
    "model = Sequential()\n",
    "\n",
    "# Adding layers\n",
    "model.add(Dense(64, activation = 'relu', input_shape = (n_cols,) ))\n",
    "model.add(Dropout(rate=0.5))\n",
    "model.add(Dense(32, activation = 'relu'))\n",
    "model.add(Dropout(rate=0.5))\n",
    "model.add(Dense(2, activation = 'softmax'))\n",
    "\n",
    "# Model compile\n",
    "model.compile(optimizer = 'adam', loss = 'binary_crossentropy', metrics = ['accuracy'])\n",
    "\n",
    "\n",
    "# Early stopping\n",
    "Early_stopping_monitor = [\n",
    "            EarlyStopping(patience = 2, min_delta = 0.001),\n",
    "            #ModelCheckpoint(filepath='./my_nn_model.h5', save_best_only=True)\n",
    "            #ModelCheckpoint(filepath='weights.{epoch:02d}-{val_loss:.4f}.hdf5', save_best_only=True)            \n",
    "]\n",
    "\n",
    "# Fit the model\n",
    "model.fit(X_train_NN, y_train_NN, validation_split = 0.3, epochs = 30, verbose = 2 )\n",
    "          #,callbacks = Early_stopping_monitor)"
   ]
  },
  {
   "cell_type": "code",
   "execution_count": 172,
   "metadata": {},
   "outputs": [
    {
     "data": {
      "image/png": "[encoded data removed]",
      "text/plain": [
       "<Figure size 1080x360 with 1 Axes>"
      ]
     },
     "metadata": {},
     "output_type": "display_data"
    }
   ],
   "source": [
    "plt.figure(figsize=(15,5))\n",
    "\n",
    "plt.plot(model.history.history['acc'], label = 'train_acc', color = 'g')\n",
    "plt.plot(model.history.history['val_acc'], label = 'test_acc', color = 'r')\n",
    "\n",
    "plt.ylim(bottom = min(model.history.history['acc'] + model.history.history['val_acc']) - 0.005, \n",
    "         top = max(model.history.history['acc'] + model.history.history['val_acc']) + 0.005)\n",
    "\n",
    "plt.xticks(range(min(model.history.epoch) + 1, max(model.history.epoch)+1))\n",
    "\n",
    "plt.legend(loc = \"lower center\")\n",
    "\n",
    "plt.show()"
   ]
  },
  {
   "cell_type": "code",
   "execution_count": 173,
   "metadata": {},
   "outputs": [
    {
     "name": "stdout",
     "output_type": "stream",
     "text": [
      "34189/34189 [==============================] - 2s 59us/step\n",
      "14653/14653 [==============================] - 1s 62us/step\n",
      "Train acc: 0.858, Test acc: 0.855\n"
     ]
    }
   ],
   "source": [
    "# Evaluate the model\n",
    "\n",
    "train_loss, train_acc = model.evaluate(X_train_NN, y_train_NN)\n",
    "test_loss, test_acc = model.evaluate(X_test_NN, y_test_NN)\n",
    "\n",
    "print('Train acc: %.3f, Test acc: %.3f' % (train_acc, test_acc))"
   ]
  },
  {
   "cell_type": "code",
   "execution_count": null,
   "metadata": {},
   "outputs": [],
   "source": []
  },
  {
   "cell_type": "code",
   "execution_count": 174,
   "metadata": {},
   "outputs": [],
   "source": [
    "# Model 6"
   ]
  },
  {
   "cell_type": "code",
   "execution_count": 175,
   "metadata": {},
   "outputs": [
    {
     "name": "stdout",
     "output_type": "stream",
     "text": [
      "Train on 34189 samples, validate on 14653 samples\n",
      "Epoch 1/30\n",
      " - 6s - loss: 0.4228 - acc: 0.7933 - val_loss: 0.3517 - val_acc: 0.8325\n",
      "Epoch 2/30\n",
      " - 4s - loss: 0.3730 - acc: 0.8280 - val_loss: 0.3377 - val_acc: 0.8422\n",
      "Epoch 3/30\n",
      " - 4s - loss: 0.3574 - acc: 0.8353 - val_loss: 0.3273 - val_acc: 0.8467\n",
      "Epoch 4/30\n",
      " - 4s - loss: 0.3503 - acc: 0.8384 - val_loss: 0.3224 - val_acc: 0.8505\n",
      "Epoch 5/30\n",
      " - 4s - loss: 0.3436 - acc: 0.8424 - val_loss: 0.3213 - val_acc: 0.8497\n",
      "Epoch 6/30\n",
      " - 4s - loss: 0.3371 - acc: 0.8428 - val_loss: 0.3118 - val_acc: 0.8546\n",
      "Epoch 7/30\n",
      " - 4s - loss: 0.3373 - acc: 0.8435 - val_loss: 0.3130 - val_acc: 0.8552\n",
      "Epoch 8/30\n",
      " - 4s - loss: 0.3308 - acc: 0.8492 - val_loss: 0.3104 - val_acc: 0.8543\n",
      "Epoch 9/30\n",
      " - 4s - loss: 0.3340 - acc: 0.8451 - val_loss: 0.3107 - val_acc: 0.8547\n",
      "Epoch 10/30\n",
      " - 4s - loss: 0.3304 - acc: 0.8461 - val_loss: 0.3147 - val_acc: 0.8546\n",
      "Epoch 11/30\n",
      " - 4s - loss: 0.3314 - acc: 0.8479 - val_loss: 0.3085 - val_acc: 0.8547\n",
      "Epoch 12/30\n",
      " - 4s - loss: 0.3298 - acc: 0.8479 - val_loss: 0.3095 - val_acc: 0.8563\n",
      "Epoch 13/30\n",
      " - 4s - loss: 0.3281 - acc: 0.8472 - val_loss: 0.3101 - val_acc: 0.8542\n",
      "Epoch 14/30\n",
      " - 4s - loss: 0.3269 - acc: 0.8485 - val_loss: 0.3115 - val_acc: 0.8532\n",
      "Epoch 15/30\n",
      " - 4s - loss: 0.3279 - acc: 0.8476 - val_loss: 0.3086 - val_acc: 0.8572\n",
      "Epoch 16/30\n",
      " - 4s - loss: 0.3250 - acc: 0.8501 - val_loss: 0.3107 - val_acc: 0.8561\n",
      "Epoch 17/30\n",
      " - 4s - loss: 0.3265 - acc: 0.8475 - val_loss: 0.3087 - val_acc: 0.8553\n",
      "Epoch 18/30\n",
      " - 4s - loss: 0.3261 - acc: 0.8491 - val_loss: 0.3103 - val_acc: 0.8535\n",
      "Epoch 19/30\n",
      " - 4s - loss: 0.3258 - acc: 0.8486 - val_loss: 0.3102 - val_acc: 0.8565\n",
      "Epoch 20/30\n",
      " - 4s - loss: 0.3263 - acc: 0.8488 - val_loss: 0.3093 - val_acc: 0.8574\n",
      "Epoch 21/30\n",
      " - 4s - loss: 0.3239 - acc: 0.8484 - val_loss: 0.3096 - val_acc: 0.8573\n",
      "Epoch 22/30\n",
      " - 5s - loss: 0.3246 - acc: 0.8500 - val_loss: 0.3094 - val_acc: 0.8557\n",
      "Epoch 23/30\n",
      " - 4s - loss: 0.3227 - acc: 0.8511 - val_loss: 0.3111 - val_acc: 0.8533\n",
      "Epoch 24/30\n",
      " - 4s - loss: 0.3237 - acc: 0.8497 - val_loss: 0.3109 - val_acc: 0.8555\n",
      "Epoch 25/30\n",
      " - 4s - loss: 0.3216 - acc: 0.8498 - val_loss: 0.3119 - val_acc: 0.8555\n",
      "Epoch 26/30\n",
      " - 5s - loss: 0.3217 - acc: 0.8517 - val_loss: 0.3072 - val_acc: 0.8559\n",
      "Epoch 27/30\n",
      " - 5s - loss: 0.3231 - acc: 0.8500 - val_loss: 0.3063 - val_acc: 0.8581\n",
      "Epoch 28/30\n",
      " - 5s - loss: 0.3219 - acc: 0.8531 - val_loss: 0.3098 - val_acc: 0.8573\n",
      "Epoch 29/30\n",
      " - 4s - loss: 0.3208 - acc: 0.8501 - val_loss: 0.3072 - val_acc: 0.8566\n",
      "Epoch 30/30\n",
      " - 5s - loss: 0.3212 - acc: 0.8515 - val_loss: 0.3088 - val_acc: 0.8578\n"
     ]
    },
    {
     "data": {
      "text/plain": [
       "<keras.callbacks.History at 0x2a8611c7c50>"
      ]
     },
     "execution_count": 175,
     "metadata": {},
     "output_type": "execute_result"
    }
   ],
   "source": [
    "# Set up the model\n",
    "model = Sequential()\n",
    "\n",
    "# Adding layers\n",
    "model.add(Dense(128, activation = 'relu', input_shape = (n_cols,) ))\n",
    "model.add(Dropout(rate=0.5))\n",
    "model.add(Dense(64, activation = 'relu'))\n",
    "model.add(Dropout(rate=0.5))\n",
    "model.add(Dense(32, activation = 'relu'))\n",
    "model.add(Dropout(rate=0.5))\n",
    "model.add(Dense(2, activation = 'softmax'))\n",
    "\n",
    "# Model compile\n",
    "model.compile(optimizer = 'adam', loss = 'binary_crossentropy', metrics = ['accuracy'])\n",
    "\n",
    "\n",
    "# Early stopping\n",
    "Early_stopping_monitor = [\n",
    "            EarlyStopping(patience = 2, min_delta = 0.001),\n",
    "            #ModelCheckpoint(filepath='./my_nn_model.h5', save_best_only=True)\n",
    "            #ModelCheckpoint(filepath='weights.{epoch:02d}-{val_loss:.4f}.hdf5', save_best_only=True)            \n",
    "]\n",
    "\n",
    "# Fit the model\n",
    "model.fit(X_train_NN, y_train_NN, validation_data = (X_test_NN, y_test_NN), epochs = 30, verbose = 2 )\n",
    "          #,callbacks = Early_stopping_monitor)"
   ]
  },
  {
   "cell_type": "code",
   "execution_count": 176,
   "metadata": {},
   "outputs": [
    {
     "data": {
      "image/png": "[encoded data removed]",
      "text/plain": [
       "<Figure size 1080x360 with 1 Axes>"
      ]
     },
     "metadata": {},
     "output_type": "display_data"
    }
   ],
   "source": [
    "plt.figure(figsize=(15,5))\n",
    "\n",
    "plt.plot(model.history.history['acc'], label = 'train_acc', color = 'g')\n",
    "plt.plot(model.history.history['val_acc'], label = 'test_acc', color = 'r')\n",
    "\n",
    "plt.ylim(bottom = min(model.history.history['acc'] + model.history.history['val_acc']) - 0.005, \n",
    "         top = max(model.history.history['acc'] + model.history.history['val_acc']) + 0.005)\n",
    "\n",
    "plt.xticks(range(min(model.history.epoch) + 1, max(model.history.epoch)+1))\n",
    "\n",
    "plt.legend(loc = \"lower center\")\n",
    "\n",
    "plt.show()"
   ]
  },
  {
   "cell_type": "code",
   "execution_count": 177,
   "metadata": {},
   "outputs": [
    {
     "name": "stdout",
     "output_type": "stream",
     "text": [
      "34189/34189 [==============================] - 2s 51us/step\n",
      "14653/14653 [==============================] - 1s 52us/step\n",
      "Train acc: 0.859, Test acc: 0.858\n"
     ]
    }
   ],
   "source": [
    "# Evaluate the model\n",
    "\n",
    "train_loss, train_acc = model.evaluate(X_train_NN, y_train_NN)\n",
    "test_loss, test_acc = model.evaluate(X_test_NN, y_test_NN)\n",
    "\n",
    "print('Train acc: %.3f, Test acc: %.3f' % (train_acc, test_acc))"
   ]
  },
  {
   "cell_type": "code",
   "execution_count": null,
   "metadata": {},
   "outputs": [],
   "source": []
  },
  {
   "cell_type": "code",
   "execution_count": 178,
   "metadata": {},
   "outputs": [],
   "source": [
    "# Model 7"
   ]
  },
  {
   "cell_type": "code",
   "execution_count": 182,
   "metadata": {},
   "outputs": [
    {
     "name": "stdout",
     "output_type": "stream",
     "text": [
      "Train on 34189 samples, validate on 14653 samples\n",
      "Epoch 1/30\n",
      " - 8s - loss: 0.4196 - acc: 0.7962 - val_loss: 0.3535 - val_acc: 0.8346\n",
      "Epoch 2/30\n",
      " - 6s - loss: 0.3722 - acc: 0.8281 - val_loss: 0.3430 - val_acc: 0.8443\n",
      "Epoch 3/30\n",
      " - 6s - loss: 0.3596 - acc: 0.8343 - val_loss: 0.3313 - val_acc: 0.8461\n",
      "Epoch 4/30\n",
      " - 5s - loss: 0.3493 - acc: 0.8399 - val_loss: 0.3197 - val_acc: 0.8483\n",
      "Epoch 5/30\n",
      " - 6s - loss: 0.3456 - acc: 0.8399 - val_loss: 0.3209 - val_acc: 0.8503\n",
      "Epoch 6/30\n",
      " - 6s - loss: 0.3408 - acc: 0.8421 - val_loss: 0.3175 - val_acc: 0.8522\n",
      "Epoch 7/30\n",
      " - 5s - loss: 0.3380 - acc: 0.8421 - val_loss: 0.3118 - val_acc: 0.8530\n",
      "Epoch 8/30\n",
      " - 5s - loss: 0.3356 - acc: 0.8439 - val_loss: 0.3165 - val_acc: 0.8542\n",
      "Epoch 9/30\n",
      " - 5s - loss: 0.3343 - acc: 0.8443 - val_loss: 0.3149 - val_acc: 0.8538\n",
      "Epoch 10/30\n",
      " - 6s - loss: 0.3329 - acc: 0.8463 - val_loss: 0.3173 - val_acc: 0.8506\n",
      "Epoch 11/30\n",
      " - 6s - loss: 0.3319 - acc: 0.8446 - val_loss: 0.3165 - val_acc: 0.8563\n",
      "Epoch 12/30\n",
      " - 6s - loss: 0.3321 - acc: 0.8454 - val_loss: 0.3120 - val_acc: 0.8565\n",
      "Epoch 13/30\n",
      " - 6s - loss: 0.3319 - acc: 0.8489 - val_loss: 0.3137 - val_acc: 0.8558\n",
      "Epoch 14/30\n",
      " - 5s - loss: 0.3274 - acc: 0.8490 - val_loss: 0.3105 - val_acc: 0.8560\n",
      "Epoch 15/30\n",
      " - 6s - loss: 0.3299 - acc: 0.8489 - val_loss: 0.3107 - val_acc: 0.8570\n",
      "Epoch 16/30\n",
      " - 5s - loss: 0.3306 - acc: 0.8471 - val_loss: 0.3131 - val_acc: 0.8583\n",
      "Epoch 17/30\n",
      " - 5s - loss: 0.3303 - acc: 0.8502 - val_loss: 0.3124 - val_acc: 0.8566\n",
      "Epoch 18/30\n",
      " - 5s - loss: 0.3277 - acc: 0.8489 - val_loss: 0.3112 - val_acc: 0.8557\n",
      "Epoch 19/30\n",
      " - 6s - loss: 0.3267 - acc: 0.8484 - val_loss: 0.3104 - val_acc: 0.8556\n",
      "Epoch 20/30\n",
      " - 5s - loss: 0.3255 - acc: 0.8503 - val_loss: 0.3088 - val_acc: 0.8561\n",
      "Epoch 21/30\n",
      " - 6s - loss: 0.3250 - acc: 0.8505 - val_loss: 0.3111 - val_acc: 0.8555\n",
      "Epoch 22/30\n",
      " - 5s - loss: 0.3248 - acc: 0.8507 - val_loss: 0.3099 - val_acc: 0.8580\n",
      "Epoch 23/30\n",
      " - 6s - loss: 0.3265 - acc: 0.8505 - val_loss: 0.3106 - val_acc: 0.8563\n",
      "Epoch 24/30\n",
      " - 6s - loss: 0.3238 - acc: 0.8522 - val_loss: 0.3126 - val_acc: 0.8547\n",
      "Epoch 25/30\n",
      " - 6s - loss: 0.3251 - acc: 0.8500 - val_loss: 0.3108 - val_acc: 0.8572\n",
      "Epoch 26/30\n",
      " - 6s - loss: 0.3249 - acc: 0.8501 - val_loss: 0.3091 - val_acc: 0.8568\n",
      "Epoch 27/30\n",
      " - 5s - loss: 0.3252 - acc: 0.8497 - val_loss: 0.3109 - val_acc: 0.8561\n",
      "Epoch 28/30\n",
      " - 5s - loss: 0.3240 - acc: 0.8508 - val_loss: 0.3107 - val_acc: 0.8591\n",
      "Epoch 29/30\n",
      " - 6s - loss: 0.3229 - acc: 0.8518 - val_loss: 0.3144 - val_acc: 0.8548\n",
      "Epoch 30/30\n",
      " - 5s - loss: 0.3230 - acc: 0.8515 - val_loss: 0.3128 - val_acc: 0.8581\n"
     ]
    },
    {
     "data": {
      "text/plain": [
       "<keras.callbacks.History at 0x2a85d286978>"
      ]
     },
     "execution_count": 182,
     "metadata": {},
     "output_type": "execute_result"
    }
   ],
   "source": [
    "# Set up the model\n",
    "model = Sequential()\n",
    "\n",
    "i = 0.5\n",
    "   \n",
    "# Adding layers\n",
    "model.add(Dense(256, activation = 'relu', input_shape = (n_cols,) ))\n",
    "model.add(Dropout(rate = i))    \n",
    "model.add(Dense(128, activation = 'relu'))\n",
    "model.add(Dropout(rate = i))\n",
    "model.add(Dense(64, activation = 'relu'))\n",
    "model.add(Dropout(rate = i))\n",
    "model.add(Dense(32, activation = 'relu'))\n",
    "model.add(Dropout(rate = i))\n",
    "model.add(Dense(2, activation = 'softmax'))\n",
    "\n",
    "# Model compile\n",
    "model.compile(optimizer = 'adam', loss = 'binary_crossentropy', metrics = ['accuracy'])\n",
    "\n",
    "\n",
    "# Early stopping\n",
    "Early_stopping_monitor = [\n",
    "                EarlyStopping(patience = 20, min_delta = 0.001, monitor = 'val_acc', mode = 'max'),\n",
    "                ModelCheckpoint(filepath='./best_model.h5', save_best_only=True, monitor='val_acc', mode='max' )\n",
    "                #ModelCheckpoint(filepath='weights.{epoch:02d}-{val_loss:.4f}.hdf5', save_best_only=True)            \n",
    "]\n",
    "\n",
    "# Fit the model\n",
    "model.fit(X_train_NN, y_train_NN, validation_data = (X_test_NN, y_test_NN), epochs = 30, verbose = 2 \n",
    "              ,callbacks = Early_stopping_monitor)\n",
    "   \n",
    "     "
   ]
  },
  {
   "cell_type": "code",
   "execution_count": 183,
   "metadata": {},
   "outputs": [
    {
     "data": {
      "image/png": "[encoded data removed]",
      "text/plain": [
       "<Figure size 1080x360 with 1 Axes>"
      ]
     },
     "metadata": {},
     "output_type": "display_data"
    }
   ],
   "source": [
    "plt.figure(figsize=(15,5))\n",
    "\n",
    "plt.plot(model.history.history['acc'], label = 'train_acc', color = 'g')\n",
    "plt.plot(model.history.history['val_acc'], label = 'test_acc', color = 'r')\n",
    "\n",
    "plt.ylim(bottom = min(model.history.history['acc'] + model.history.history['val_acc']) - 0.005, \n",
    "         top = max(model.history.history['acc'] + model.history.history['val_acc']) + 0.005)\n",
    "\n",
    "plt.xticks(range(min(model.history.epoch) + 1, max(model.history.epoch)+1))\n",
    "\n",
    "plt.legend(loc = \"lower center\")\n",
    "\n",
    "plt.show()"
   ]
  },
  {
   "cell_type": "code",
   "execution_count": 184,
   "metadata": {},
   "outputs": [
    {
     "name": "stdout",
     "output_type": "stream",
     "text": [
      "34189/34189 [==============================] - 2s 56us/step\n",
      "14653/14653 [==============================] - 1s 81us/step\n",
      "Train Acc: 0.858, Test Acc: 0.858\n"
     ]
    }
   ],
   "source": [
    "train_loss, train_acc = model.evaluate(X_train_NN, y_train_NN)\n",
    "test_loss, test_acc = model.evaluate(X_test_NN, y_test_NN)\n",
    "\n",
    "print('Train Acc: %.3f, Test Acc: %.3f' % (train_acc, test_acc))"
   ]
  },
  {
   "cell_type": "code",
   "execution_count": null,
   "metadata": {},
   "outputs": [],
   "source": []
  },
  {
   "cell_type": "code",
   "execution_count": 136,
   "metadata": {
    "scrolled": true
   },
   "outputs": [
    {
     "data": {
      "text/plain": [
       "array([[0.92315775, 0.07684226],\n",
       "       [0.74514735, 0.2548527 ],\n",
       "       [0.5940426 , 0.4059574 ],\n",
       "       ...,\n",
       "       [0.6919314 , 0.30806854],\n",
       "       [0.49856514, 0.50143486],\n",
       "       [0.8424475 , 0.15755245]], dtype=float32)"
      ]
     },
     "execution_count": 136,
     "metadata": {},
     "output_type": "execute_result"
    }
   ],
   "source": [
    "model.predict_proba(X_test_NN)"
   ]
  },
  {
   "cell_type": "code",
   "execution_count": 137,
   "metadata": {},
   "outputs": [
    {
     "data": {
      "text/plain": [
       "array([0, 0, 0, ..., 0, 1, 0], dtype=int64)"
      ]
     },
     "execution_count": 137,
     "metadata": {},
     "output_type": "execute_result"
    }
   ],
   "source": [
    "model.predict_classes(X_test_NN)"
   ]
  },
  {
   "cell_type": "code",
   "execution_count": null,
   "metadata": {},
   "outputs": [],
   "source": []
  },
  {
   "cell_type": "code",
   "execution_count": 106,
   "metadata": {},
   "outputs": [],
   "source": [
    "loaded_model = load_model('./best_model.h5')"
   ]
  },
  {
   "cell_type": "code",
   "execution_count": null,
   "metadata": {},
   "outputs": [],
   "source": [
    "loaded_model.summary()"
   ]
  },
  {
   "cell_type": "code",
   "execution_count": null,
   "metadata": {},
   "outputs": [],
   "source": []
  }
 ],
 "metadata": {
  "celltoolbar": "Raw Cell Format",
  "kernelspec": {
   "display_name": "Python 3",
   "language": "python",
   "name": "python3"
  },
  "language_info": {
   "codemirror_mode": {
    "name": "ipython",
    "version": 3
   },
   "file_extension": ".py",
   "mimetype": "text/x-python",
   "name": "python",
   "nbconvert_exporter": "python",
   "pygments_lexer": "ipython3",
   "version": "3.6.5"
  }
 },
 "nbformat": 4,
 "nbformat_minor": 2
}
